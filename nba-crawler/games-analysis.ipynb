{
 "cells": [
  {
   "cell_type": "markdown",
   "metadata": {},
   "source": [
    "# Preliminary plotting stuff to get things going"
   ]
  },
  {
   "cell_type": "code",
   "execution_count": 2,
   "metadata": {
    "collapsed": false
   },
   "outputs": [],
   "source": [
    "%matplotlib inline\n",
    "import numpy as np\n",
    "import matplotlib.pyplot as plt\n",
    "import pandas as pd\n",
    "from matplotlib import rcParams"
   ]
  },
  {
   "cell_type": "code",
   "execution_count": 3,
   "metadata": {
    "collapsed": false
   },
   "outputs": [
    {
     "name": "stderr",
     "output_type": "stream",
     "text": [
      "/usr/local/lib/python2.7/site-packages/matplotlib/__init__.py:872: UserWarning: axes.color_cycle is deprecated and replaced with axes.prop_cycle; please use the latter.\n",
      "  warnings.warn(self.msg_depr % (key, alt_key))\n"
     ]
    }
   ],
   "source": [
    "import brewer2mpl\n",
    "from matplotlib import rcParams\n",
    "\n",
    "#colorbrewer2 Dark2 qualitative color table\n",
    "dark2_cmap = brewer2mpl.get_map('Dark2', 'Qualitative', 7)\n",
    "dark2_colors = dark2_cmap.mpl_colors\n",
    "\n",
    "rcParams['figure.figsize'] = (10, 6)\n",
    "rcParams['figure.dpi'] = 150\n",
    "rcParams['axes.color_cycle'] = dark2_colors\n",
    "rcParams['lines.linewidth'] = 2\n",
    "rcParams['axes.facecolor'] = 'white'\n",
    "rcParams['font.size'] = 14\n",
    "rcParams['patch.edgecolor'] = 'white'\n",
    "rcParams['patch.facecolor'] = dark2_colors[0]\n",
    "rcParams['font.family'] = 'StixGeneral'\n",
    "\n",
    "\n",
    "def remove_border(axes=None, top=False, right=False, left=True, bottom=True):\n",
    "    \"\"\"\n",
    "    Minimize chartjunk by stripping out unnecesasry plot borders and axis ticks\n",
    "    \n",
    "    The top/right/left/bottom keywords toggle whether the corresponding plot border is drawn\n",
    "    \"\"\"\n",
    "    ax = axes or plt.gca()\n",
    "    ax.spines['top'].set_visible(top)\n",
    "    ax.spines['right'].set_visible(right)\n",
    "    ax.spines['left'].set_visible(left)\n",
    "    ax.spines['bottom'].set_visible(bottom)\n",
    "    \n",
    "    #turn off all ticks\n",
    "    ax.yaxis.set_ticks_position('none')\n",
    "    ax.xaxis.set_ticks_position('none')\n",
    "    \n",
    "    #now re-enable visibles\n",
    "    if top:\n",
    "        ax.xaxis.tick_top()\n",
    "    if bottom:\n",
    "        ax.xaxis.tick_bottom()\n",
    "    if left:\n",
    "        ax.yaxis.tick_left()\n",
    "    if right:\n",
    "        ax.yaxis.tick_right()"
   ]
  },
  {
   "cell_type": "code",
   "execution_count": 4,
   "metadata": {
    "collapsed": true
   },
   "outputs": [],
   "source": [
    "pd.set_option('display.width', 500)\n",
    "pd.set_option('display.max_columns', 100)"
   ]
  },
  {
   "cell_type": "markdown",
   "metadata": {},
   "source": [
    "# Loading and Cleaning"
   ]
  },
  {
   "cell_type": "code",
   "execution_count": 5,
   "metadata": {
    "collapsed": false
   },
   "outputs": [
    {
     "data": {
      "text/html": [
       "<div>\n",
       "<table border=\"1\" class=\"dataframe\">\n",
       "  <thead>\n",
       "    <tr style=\"text-align: right;\">\n",
       "      <th></th>\n",
       "      <th>date_time</th>\n",
       "      <th>winner</th>\n",
       "      <th>score_winner</th>\n",
       "      <th>odd_winner</th>\n",
       "      <th>looser</th>\n",
       "      <th>score_looser</th>\n",
       "      <th>odd_looser</th>\n",
       "      <th>overtime</th>\n",
       "      <th>available_bookmaker_odds</th>\n",
       "    </tr>\n",
       "  </thead>\n",
       "  <tbody>\n",
       "    <tr>\n",
       "      <th>0</th>\n",
       "      <td>2015-04-09T01:00:00.000Z</td>\n",
       "      <td>Boston Celtics</td>\n",
       "      <td>113</td>\n",
       "      <td>1.81</td>\n",
       "      <td>Detroit Pistons</td>\n",
       "      <td>103</td>\n",
       "      <td>2.05</td>\n",
       "      <td>False</td>\n",
       "      <td>13</td>\n",
       "    </tr>\n",
       "    <tr>\n",
       "      <th>1</th>\n",
       "      <td>2015-04-09T01:00:00.000Z</td>\n",
       "      <td>Orlando Magic</td>\n",
       "      <td>105</td>\n",
       "      <td>3.74</td>\n",
       "      <td>Chicago Bulls</td>\n",
       "      <td>103</td>\n",
       "      <td>1.29</td>\n",
       "      <td>False</td>\n",
       "      <td>13</td>\n",
       "    </tr>\n",
       "    <tr>\n",
       "      <th>2</th>\n",
       "      <td>2015-04-08T04:30:00.000Z</td>\n",
       "      <td>Los Angeles Clippers</td>\n",
       "      <td>105</td>\n",
       "      <td>1.02</td>\n",
       "      <td>Los Angeles Lakers</td>\n",
       "      <td>100</td>\n",
       "      <td>17.34</td>\n",
       "      <td>False</td>\n",
       "      <td>13</td>\n",
       "    </tr>\n",
       "    <tr>\n",
       "      <th>3</th>\n",
       "      <td>2015-04-08T04:00:00.000Z</td>\n",
       "      <td>Sacramento Kings</td>\n",
       "      <td>116</td>\n",
       "      <td>1.23</td>\n",
       "      <td>Minnesota Timberwolves</td>\n",
       "      <td>111</td>\n",
       "      <td>4.43</td>\n",
       "      <td>False</td>\n",
       "      <td>13</td>\n",
       "    </tr>\n",
       "    <tr>\n",
       "      <th>4</th>\n",
       "      <td>2015-04-08T02:00:00.000Z</td>\n",
       "      <td>New Orleans Pelicans</td>\n",
       "      <td>103</td>\n",
       "      <td>2.62</td>\n",
       "      <td>Golden State Warriors</td>\n",
       "      <td>100</td>\n",
       "      <td>1.52</td>\n",
       "      <td>False</td>\n",
       "      <td>13</td>\n",
       "    </tr>\n",
       "  </tbody>\n",
       "</table>\n",
       "</div>"
      ],
      "text/plain": [
       "                  date_time                winner  score_winner  odd_winner                  looser  score_looser  odd_looser overtime  available_bookmaker_odds\n",
       "0  2015-04-09T01:00:00.000Z        Boston Celtics           113        1.81         Detroit Pistons           103        2.05    False                        13\n",
       "1  2015-04-09T01:00:00.000Z         Orlando Magic           105        3.74           Chicago Bulls           103        1.29    False                        13\n",
       "2  2015-04-08T04:30:00.000Z  Los Angeles Clippers           105        1.02      Los Angeles Lakers           100       17.34    False                        13\n",
       "3  2015-04-08T04:00:00.000Z      Sacramento Kings           116        1.23  Minnesota Timberwolves           111        4.43    False                        13\n",
       "4  2015-04-08T02:00:00.000Z  New Orleans Pelicans           103        2.62   Golden State Warriors           100        1.52    False                        13"
      ]
     },
     "execution_count": 5,
     "metadata": {},
     "output_type": "execute_result"
    }
   ],
   "source": [
    "df=pd.read_csv(\"games.csv\")\n",
    "df.head(5)"
   ]
  },
  {
   "cell_type": "code",
   "execution_count": 6,
   "metadata": {
    "collapsed": false
   },
   "outputs": [
    {
     "data": {
      "text/html": [
       "<div>\n",
       "<table border=\"1\" class=\"dataframe\">\n",
       "  <thead>\n",
       "    <tr style=\"text-align: right;\">\n",
       "      <th></th>\n",
       "      <th>score_winner</th>\n",
       "      <th>odd_winner</th>\n",
       "      <th>score_looser</th>\n",
       "      <th>odd_looser</th>\n",
       "      <th>overtime</th>\n",
       "      <th>available_bookmaker_odds</th>\n",
       "    </tr>\n",
       "  </thead>\n",
       "  <tbody>\n",
       "    <tr>\n",
       "      <th>count</th>\n",
       "      <td>1400.000000</td>\n",
       "      <td>1400.00000</td>\n",
       "      <td>1400.000000</td>\n",
       "      <td>1400.000000</td>\n",
       "      <td>1400</td>\n",
       "      <td>1400.000000</td>\n",
       "    </tr>\n",
       "    <tr>\n",
       "      <th>mean</th>\n",
       "      <td>105.557857</td>\n",
       "      <td>-7.79725</td>\n",
       "      <td>94.542143</td>\n",
       "      <td>8.805843</td>\n",
       "      <td>0.0635714</td>\n",
       "      <td>12.919286</td>\n",
       "    </tr>\n",
       "    <tr>\n",
       "      <th>std</th>\n",
       "      <td>10.394963</td>\n",
       "      <td>115.08015</td>\n",
       "      <td>10.614888</td>\n",
       "      <td>72.806333</td>\n",
       "      <td>0.244075</td>\n",
       "      <td>0.287802</td>\n",
       "    </tr>\n",
       "    <tr>\n",
       "      <th>min</th>\n",
       "      <td>69.000000</td>\n",
       "      <td>-2500.00000</td>\n",
       "      <td>65.000000</td>\n",
       "      <td>-417.000000</td>\n",
       "      <td>False</td>\n",
       "      <td>12.000000</td>\n",
       "    </tr>\n",
       "    <tr>\n",
       "      <th>25%</th>\n",
       "      <td>99.000000</td>\n",
       "      <td>1.25750</td>\n",
       "      <td>87.000000</td>\n",
       "      <td>1.740000</td>\n",
       "      <td>0</td>\n",
       "      <td>13.000000</td>\n",
       "    </tr>\n",
       "    <tr>\n",
       "      <th>50%</th>\n",
       "      <td>105.000000</td>\n",
       "      <td>1.54000</td>\n",
       "      <td>94.000000</td>\n",
       "      <td>2.560000</td>\n",
       "      <td>0</td>\n",
       "      <td>13.000000</td>\n",
       "    </tr>\n",
       "    <tr>\n",
       "      <th>75%</th>\n",
       "      <td>112.000000</td>\n",
       "      <td>2.14000</td>\n",
       "      <td>101.000000</td>\n",
       "      <td>4.090000</td>\n",
       "      <td>0</td>\n",
       "      <td>13.000000</td>\n",
       "    </tr>\n",
       "    <tr>\n",
       "      <th>max</th>\n",
       "      <td>163.000000</td>\n",
       "      <td>324.00000</td>\n",
       "      <td>158.000000</td>\n",
       "      <td>1331.000000</td>\n",
       "      <td>True</td>\n",
       "      <td>14.000000</td>\n",
       "    </tr>\n",
       "  </tbody>\n",
       "</table>\n",
       "</div>"
      ],
      "text/plain": [
       "       score_winner  odd_winner  score_looser   odd_looser   overtime  available_bookmaker_odds\n",
       "count   1400.000000  1400.00000   1400.000000  1400.000000       1400               1400.000000\n",
       "mean     105.557857    -7.79725     94.542143     8.805843  0.0635714                 12.919286\n",
       "std       10.394963   115.08015     10.614888    72.806333   0.244075                  0.287802\n",
       "min       69.000000 -2500.00000     65.000000  -417.000000      False                 12.000000\n",
       "25%       99.000000     1.25750     87.000000     1.740000          0                 13.000000\n",
       "50%      105.000000     1.54000     94.000000     2.560000          0                 13.000000\n",
       "75%      112.000000     2.14000    101.000000     4.090000          0                 13.000000\n",
       "max      163.000000   324.00000    158.000000  1331.000000       True                 14.000000"
      ]
     },
     "execution_count": 6,
     "metadata": {},
     "output_type": "execute_result"
    }
   ],
   "source": [
    "df.describe()"
   ]
  },
  {
   "cell_type": "code",
   "execution_count": 3,
   "metadata": {
    "collapsed": false
   },
   "outputs": [
    {
     "data": {
      "text/plain": [
       "4"
      ]
     },
     "execution_count": 3,
     "metadata": {},
     "output_type": "execute_result"
    }
   ],
   "source": [
    "a = 'hello world' \n",
    "2 + 2 "
   ]
  },
  {
   "cell_type": "code",
   "execution_count": 33,
   "metadata": {
    "collapsed": false
   },
   "outputs": [
    {
     "data": {
      "image/png": "[encoded data removed]",
      "text/plain": [
       "<matplotlib.figure.Figure at 0x7f031e6aa410>"
      ]
     },
     "metadata": {},
     "output_type": "display_data"
    }
   ],
   "source": [
    "line = plt.figure()\n",
    "plt.plot(df[\"odd_winner\"]);"
   ]
  },
  {
   "cell_type": "code",
   "execution_count": 32,
   "metadata": {
    "collapsed": false
   },
   "outputs": [
    {
     "data": {
      "image/png": "[encoded data removed]",
      "text/plain": [
       "<matplotlib.figure.Figure at 0x7f031e679d90>"
      ]
     },
     "metadata": {},
     "output_type": "display_data"
    }
   ],
   "source": [
    "games_cleaned = df.loc[df[\"odd_winner\"]<50,:] #I get rid of a lot of data like this\n",
    "games_cleaned = games_cleaned.loc[games_cleaned[\"odd_winner\"]>=0,:]\n",
    "plt.figure()\n",
    "plt.plot(games_cleaned[\"odd_winner\"]);"
   ]
  },
  {
   "cell_type": "code",
   "execution_count": 10,
   "metadata": {
    "collapsed": false
   },
   "outputs": [
    {
     "data": {
      "text/html": [
       "<div>\n",
       "<table border=\"1\" class=\"dataframe\">\n",
       "  <thead>\n",
       "    <tr style=\"text-align: right;\">\n",
       "      <th></th>\n",
       "      <th>score_winner</th>\n",
       "      <th>odd_winner</th>\n",
       "      <th>score_looser</th>\n",
       "      <th>odd_looser</th>\n",
       "      <th>overtime</th>\n",
       "      <th>available_bookmaker_odds</th>\n",
       "    </tr>\n",
       "  </thead>\n",
       "  <tbody>\n",
       "    <tr>\n",
       "      <th>count</th>\n",
       "      <td>1350.000000</td>\n",
       "      <td>1350.000000</td>\n",
       "      <td>1350.000000</td>\n",
       "      <td>1350.000000</td>\n",
       "      <td>1350</td>\n",
       "      <td>1350.000000</td>\n",
       "    </tr>\n",
       "    <tr>\n",
       "      <th>mean</th>\n",
       "      <td>105.552593</td>\n",
       "      <td>1.893963</td>\n",
       "      <td>94.542963</td>\n",
       "      <td>3.431244</td>\n",
       "      <td>0.0659259</td>\n",
       "      <td>12.929630</td>\n",
       "    </tr>\n",
       "    <tr>\n",
       "      <th>std</th>\n",
       "      <td>10.248136</td>\n",
       "      <td>1.087111</td>\n",
       "      <td>10.502039</td>\n",
       "      <td>2.771264</td>\n",
       "      <td>0.248245</td>\n",
       "      <td>0.272695</td>\n",
       "    </tr>\n",
       "    <tr>\n",
       "      <th>min</th>\n",
       "      <td>69.000000</td>\n",
       "      <td>1.010000</td>\n",
       "      <td>65.000000</td>\n",
       "      <td>1.040000</td>\n",
       "      <td>False</td>\n",
       "      <td>12.000000</td>\n",
       "    </tr>\n",
       "    <tr>\n",
       "      <th>25%</th>\n",
       "      <td>99.000000</td>\n",
       "      <td>1.262500</td>\n",
       "      <td>88.000000</td>\n",
       "      <td>1.750000</td>\n",
       "      <td>0</td>\n",
       "      <td>13.000000</td>\n",
       "    </tr>\n",
       "    <tr>\n",
       "      <th>50%</th>\n",
       "      <td>105.000000</td>\n",
       "      <td>1.550000</td>\n",
       "      <td>94.000000</td>\n",
       "      <td>2.545000</td>\n",
       "      <td>0</td>\n",
       "      <td>13.000000</td>\n",
       "    </tr>\n",
       "    <tr>\n",
       "      <th>75%</th>\n",
       "      <td>112.000000</td>\n",
       "      <td>2.140000</td>\n",
       "      <td>101.000000</td>\n",
       "      <td>3.985000</td>\n",
       "      <td>0</td>\n",
       "      <td>13.000000</td>\n",
       "    </tr>\n",
       "    <tr>\n",
       "      <th>max</th>\n",
       "      <td>144.000000</td>\n",
       "      <td>13.180000</td>\n",
       "      <td>143.000000</td>\n",
       "      <td>21.190000</td>\n",
       "      <td>True</td>\n",
       "      <td>14.000000</td>\n",
       "    </tr>\n",
       "  </tbody>\n",
       "</table>\n",
       "</div>"
      ],
      "text/plain": [
       "       score_winner   odd_winner  score_looser   odd_looser   overtime  available_bookmaker_odds\n",
       "count   1350.000000  1350.000000   1350.000000  1350.000000       1350               1350.000000\n",
       "mean     105.552593     1.893963     94.542963     3.431244  0.0659259                 12.929630\n",
       "std       10.248136     1.087111     10.502039     2.771264   0.248245                  0.272695\n",
       "min       69.000000     1.010000     65.000000     1.040000      False                 12.000000\n",
       "25%       99.000000     1.262500     88.000000     1.750000          0                 13.000000\n",
       "50%      105.000000     1.550000     94.000000     2.545000          0                 13.000000\n",
       "75%      112.000000     2.140000    101.000000     3.985000          0                 13.000000\n",
       "max      144.000000    13.180000    143.000000    21.190000       True                 14.000000"
      ]
     },
     "execution_count": 10,
     "metadata": {},
     "output_type": "execute_result"
    }
   ],
   "source": [
    "games_cleaned.describe()"
   ]
  },
  {
   "cell_type": "code",
   "execution_count": 11,
   "metadata": {
    "collapsed": false
   },
   "outputs": [
    {
     "data": {
      "text/plain": [
       "date_time                    object\n",
       "winner                       object\n",
       "score_winner                  int64\n",
       "odd_winner                  float64\n",
       "looser                       object\n",
       "score_looser                  int64\n",
       "odd_looser                  float64\n",
       "overtime                       bool\n",
       "available_bookmaker_odds      int64\n",
       "dtype: object"
      ]
     },
     "execution_count": 11,
     "metadata": {},
     "output_type": "execute_result"
    }
   ],
   "source": [
    "games_cleaned.dtypes"
   ]
  },
  {
   "cell_type": "markdown",
   "metadata": {},
   "source": [
    "## Preliminary Analysis and plotting"
   ]
  },
  {
   "cell_type": "code",
   "execution_count": 12,
   "metadata": {
    "collapsed": false
   },
   "outputs": [
    {
     "data": {
      "text/plain": [
       "winner\n",
       "Atlanta Hawks             70\n",
       "Boston Celtics            42\n",
       "Brooklyn Nets             43\n",
       "Charlotte Hornets         36\n",
       "Chicago Bulls             57\n",
       "Cleveland Cavaliers       68\n",
       "Dallas Mavericks          53\n",
       "Denver Nuggets            30\n",
       "Detroit Pistons           33\n",
       "Golden State Warriors     86\n",
       "Houston Rockets           69\n",
       "Indiana Pacers            37\n",
       "Los Angeles Clippers      62\n",
       "Los Angeles Lakers        23\n",
       "Memphis Grizzlies         61\n",
       "Miami Heat                39\n",
       "Milwaukee Bucks           42\n",
       "Minnesota Timberwolves    19\n",
       "New Orleans Pelicans      49\n",
       "New York Knicks           20\n",
       "Oklahoma City Thunder     43\n",
       "Orlando Magic             25\n",
       "Philadelphia 76ers        19\n",
       "Phoenix Suns              43\n",
       "Portland Trail Blazers    53\n",
       "Sacramento Kings          28\n",
       "San Antonio Spurs         57\n",
       "Toronto Raptors           51\n",
       "Utah Jazz                 40\n",
       "Washington Wizards        52\n",
       "dtype: int64"
      ]
     },
     "execution_count": 12,
     "metadata": {},
     "output_type": "execute_result"
    }
   ],
   "source": [
    "winner_group = games_cleaned.groupby('winner')\n",
    "winner_group.size()"
   ]
  },
  {
   "cell_type": "code",
   "execution_count": 13,
   "metadata": {
    "collapsed": true
   },
   "outputs": [],
   "source": [
    "def nb_of_games(team):\n",
    "    return len(games_cleaned.loc[games_cleaned[\"winner\"] == team])+len(games_cleaned.loc[games_cleaned[\"looser\"] == team])"
   ]
  },
  {
   "cell_type": "code",
   "execution_count": 14,
   "metadata": {
    "collapsed": false
   },
   "outputs": [
    {
     "data": {
      "text/plain": [
       "{'Atlanta Hawks',\n",
       " 'Boston Celtics',\n",
       " 'Brooklyn Nets',\n",
       " 'Charlotte Hornets',\n",
       " 'Chicago Bulls',\n",
       " 'Cleveland Cavaliers',\n",
       " 'Dallas Mavericks',\n",
       " 'Denver Nuggets',\n",
       " 'Detroit Pistons',\n",
       " 'Golden State Warriors',\n",
       " 'Houston Rockets',\n",
       " 'Indiana Pacers',\n",
       " 'Los Angeles Clippers',\n",
       " 'Los Angeles Lakers',\n",
       " 'Memphis Grizzlies',\n",
       " 'Miami Heat',\n",
       " 'Milwaukee Bucks',\n",
       " 'Minnesota Timberwolves',\n",
       " 'New Orleans Pelicans',\n",
       " 'New York Knicks',\n",
       " 'Oklahoma City Thunder',\n",
       " 'Orlando Magic',\n",
       " 'Philadelphia 76ers',\n",
       " 'Phoenix Suns',\n",
       " 'Portland Trail Blazers',\n",
       " 'Sacramento Kings',\n",
       " 'San Antonio Spurs',\n",
       " 'Toronto Raptors',\n",
       " 'Utah Jazz',\n",
       " 'Washington Wizards'}"
      ]
     },
     "execution_count": 14,
     "metadata": {},
     "output_type": "execute_result"
    }
   ],
   "source": [
    "teams = set(games_cleaned[\"winner\"]).union(set(games_cleaned[\"looser\"]))\n",
    "teams"
   ]
  },
  {
   "cell_type": "code",
   "execution_count": 15,
   "metadata": {
    "collapsed": false
   },
   "outputs": [
    {
     "data": {
      "text/html": [
       "<div>\n",
       "<table border=\"1\" class=\"dataframe\">\n",
       "  <thead>\n",
       "    <tr style=\"text-align: right;\">\n",
       "      <th></th>\n",
       "      <th>date_time</th>\n",
       "      <th>winner</th>\n",
       "      <th>score_winner</th>\n",
       "      <th>odd_winner</th>\n",
       "      <th>looser</th>\n",
       "      <th>score_looser</th>\n",
       "      <th>odd_looser</th>\n",
       "      <th>overtime</th>\n",
       "      <th>available_bookmaker_odds</th>\n",
       "    </tr>\n",
       "  </thead>\n",
       "  <tbody>\n",
       "  </tbody>\n",
       "</table>\n",
       "</div>"
      ],
      "text/plain": [
       "Empty DataFrame\n",
       "Columns: [date_time, winner, score_winner, odd_winner, looser, score_looser, odd_looser, overtime, available_bookmaker_odds]\n",
       "Index: []"
      ]
     },
     "execution_count": 15,
     "metadata": {},
     "output_type": "execute_result"
    }
   ],
   "source": [
    "games_cleaned.loc[games_cleaned[\"winner\"] == \"West\"] #in df there is the allstar game, not in games_cleaned"
   ]
  },
  {
   "cell_type": "code",
   "execution_count": 16,
   "metadata": {
    "collapsed": false
   },
   "outputs": [],
   "source": [
    "x = list(teams)\n",
    "y = [nb_of_games(t) for t in x]\n",
    "# red_dot = plt.plot(y,\"ro\")\n",
    "# plt.legend(red_dot,x)"
   ]
  },
  {
   "cell_type": "code",
   "execution_count": 17,
   "metadata": {
    "collapsed": false
   },
   "outputs": [
    {
     "data": {
      "text/html": [
       "<div>\n",
       "<table border=\"1\" class=\"dataframe\">\n",
       "  <thead>\n",
       "    <tr style=\"text-align: right;\">\n",
       "      <th></th>\n",
       "      <th>0</th>\n",
       "      <th>1</th>\n",
       "      <th>2</th>\n",
       "      <th>3</th>\n",
       "      <th>4</th>\n",
       "      <th>5</th>\n",
       "      <th>6</th>\n",
       "      <th>7</th>\n",
       "      <th>8</th>\n",
       "      <th>9</th>\n",
       "      <th>10</th>\n",
       "      <th>11</th>\n",
       "      <th>12</th>\n",
       "      <th>13</th>\n",
       "      <th>14</th>\n",
       "      <th>15</th>\n",
       "      <th>16</th>\n",
       "      <th>17</th>\n",
       "      <th>18</th>\n",
       "      <th>19</th>\n",
       "      <th>20</th>\n",
       "      <th>21</th>\n",
       "      <th>22</th>\n",
       "      <th>23</th>\n",
       "      <th>24</th>\n",
       "      <th>25</th>\n",
       "      <th>26</th>\n",
       "      <th>27</th>\n",
       "      <th>28</th>\n",
       "      <th>29</th>\n",
       "    </tr>\n",
       "  </thead>\n",
       "  <tbody>\n",
       "    <tr>\n",
       "      <th>0</th>\n",
       "      <td>New York Knicks</td>\n",
       "      <td>Los Angeles Lakers</td>\n",
       "      <td>Memphis Grizzlies</td>\n",
       "      <td>San Antonio Spurs</td>\n",
       "      <td>Philadelphia 76ers</td>\n",
       "      <td>Detroit Pistons</td>\n",
       "      <td>Boston Celtics</td>\n",
       "      <td>Miami Heat</td>\n",
       "      <td>Orlando Magic</td>\n",
       "      <td>Portland Trail Blazers</td>\n",
       "      <td>Golden State Warriors</td>\n",
       "      <td>Chicago Bulls</td>\n",
       "      <td>Washington Wizards</td>\n",
       "      <td>Houston Rockets</td>\n",
       "      <td>Dallas Mavericks</td>\n",
       "      <td>Minnesota Timberwolves</td>\n",
       "      <td>Los Angeles Clippers</td>\n",
       "      <td>Oklahoma City Thunder</td>\n",
       "      <td>Charlotte Hornets</td>\n",
       "      <td>Milwaukee Bucks</td>\n",
       "      <td>Toronto Raptors</td>\n",
       "      <td>Utah Jazz</td>\n",
       "      <td>Phoenix Suns</td>\n",
       "      <td>Sacramento Kings</td>\n",
       "      <td>New Orleans Pelicans</td>\n",
       "      <td>Cleveland Cavaliers</td>\n",
       "      <td>Atlanta Hawks</td>\n",
       "      <td>Brooklyn Nets</td>\n",
       "      <td>Indiana Pacers</td>\n",
       "      <td>Denver Nuggets</td>\n",
       "    </tr>\n",
       "    <tr>\n",
       "      <th>1</th>\n",
       "      <td>85</td>\n",
       "      <td>86</td>\n",
       "      <td>96</td>\n",
       "      <td>90</td>\n",
       "      <td>86</td>\n",
       "      <td>83</td>\n",
       "      <td>90</td>\n",
       "      <td>85</td>\n",
       "      <td>84</td>\n",
       "      <td>89</td>\n",
       "      <td>108</td>\n",
       "      <td>96</td>\n",
       "      <td>94</td>\n",
       "      <td>102</td>\n",
       "      <td>90</td>\n",
       "      <td>84</td>\n",
       "      <td>99</td>\n",
       "      <td>84</td>\n",
       "      <td>87</td>\n",
       "      <td>90</td>\n",
       "      <td>88</td>\n",
       "      <td>86</td>\n",
       "      <td>85</td>\n",
       "      <td>82</td>\n",
       "      <td>87</td>\n",
       "      <td>104</td>\n",
       "      <td>100</td>\n",
       "      <td>91</td>\n",
       "      <td>84</td>\n",
       "      <td>85</td>\n",
       "    </tr>\n",
       "  </tbody>\n",
       "</table>\n",
       "</div>"
      ],
      "text/plain": [
       "                0                   1                  2                  3                   4                5               6           7              8                       9                      10             11                  12               13                14                      15                    16                     17                 18               19               20         21            22                23                    24                   25             26  \\\n",
       "0  New York Knicks  Los Angeles Lakers  Memphis Grizzlies  San Antonio Spurs  Philadelphia 76ers  Detroit Pistons  Boston Celtics  Miami Heat  Orlando Magic  Portland Trail Blazers  Golden State Warriors  Chicago Bulls  Washington Wizards  Houston Rockets  Dallas Mavericks  Minnesota Timberwolves  Los Angeles Clippers  Oklahoma City Thunder  Charlotte Hornets  Milwaukee Bucks  Toronto Raptors  Utah Jazz  Phoenix Suns  Sacramento Kings  New Orleans Pelicans  Cleveland Cavaliers  Atlanta Hawks   \n",
       "1               85                  86                 96                 90                  86               83              90          85             84                      89                    108             96                  94              102                90                      84                    99                     84                 87               90               88         86            85                82                    87                  104            100   \n",
       "\n",
       "              27              28              29  \n",
       "0  Brooklyn Nets  Indiana Pacers  Denver Nuggets  \n",
       "1             91              84              85  "
      ]
     },
     "execution_count": 17,
     "metadata": {},
     "output_type": "execute_result"
    }
   ],
   "source": [
    "total_games = pd.DataFrame([x,y])\n",
    "total_games"
   ]
  },
  {
   "cell_type": "code",
   "execution_count": 31,
   "metadata": {
    "collapsed": false
   },
   "outputs": [
    {
     "data": {
      "image/png": "[encoded data removed]",
      "text/plain": [
       "<matplotlib.figure.Figure at 0x7f031f31f810>"
      ]
     },
     "metadata": {},
     "output_type": "display_data"
    }
   ],
   "source": [
    "plt.figure()\n",
    "bins = np.linspace(60, 180, 100)\n",
    "plt.title(\"Winner and Looser Scores\")\n",
    "plt.xlabel(\"Points\")\n",
    "plt.ylabel(\"Frequency\")\n",
    "plt.hist(games_cleaned[\"score_winner\"],bins, alpha=0.5)\n",
    "plt.hist(games_cleaned[\"score_looser\"],bins, alpha=0.5)\n",
    "plt.show()"
   ]
  },
  {
   "cell_type": "code",
   "execution_count": 30,
   "metadata": {
    "collapsed": false
   },
   "outputs": [
    {
     "data": {
      "image/png": "[encoded data removed]",
      "text/plain": [
       "<matplotlib.figure.Figure at 0x7f031eae5cd0>"
      ]
     },
     "metadata": {},
     "output_type": "display_data"
    }
   ],
   "source": [
    "plt.figure()\n",
    "bins = np.linspace(1, 20, 100)\n",
    "plt.hist(games_cleaned[\"odd_winner\"],bins, alpha=0.5);\n",
    "plt.hist(games_cleaned[\"odd_looser\"],bins, alpha=0.5);"
   ]
  },
  {
   "cell_type": "markdown",
   "metadata": {},
   "source": [
    "## Feature Engineering"
   ]
  },
  {
   "cell_type": "code",
   "execution_count": 20,
   "metadata": {
    "collapsed": false
   },
   "outputs": [
    {
     "data": {
      "text/html": [
       "<div>\n",
       "<table border=\"1\" class=\"dataframe\">\n",
       "  <thead>\n",
       "    <tr style=\"text-align: right;\">\n",
       "      <th></th>\n",
       "      <th>date_time</th>\n",
       "      <th>winner</th>\n",
       "      <th>score_winner</th>\n",
       "      <th>odd_winner</th>\n",
       "      <th>looser</th>\n",
       "      <th>score_looser</th>\n",
       "      <th>odd_looser</th>\n",
       "      <th>overtime</th>\n",
       "      <th>available_bookmaker_odds</th>\n",
       "    </tr>\n",
       "  </thead>\n",
       "  <tbody>\n",
       "    <tr>\n",
       "      <th>0</th>\n",
       "      <td>2015-04-09T01:00:00.000Z</td>\n",
       "      <td>Boston Celtics</td>\n",
       "      <td>113</td>\n",
       "      <td>1.81</td>\n",
       "      <td>Detroit Pistons</td>\n",
       "      <td>103</td>\n",
       "      <td>2.05</td>\n",
       "      <td>False</td>\n",
       "      <td>13</td>\n",
       "    </tr>\n",
       "    <tr>\n",
       "      <th>1</th>\n",
       "      <td>2015-04-09T01:00:00.000Z</td>\n",
       "      <td>Orlando Magic</td>\n",
       "      <td>105</td>\n",
       "      <td>3.74</td>\n",
       "      <td>Chicago Bulls</td>\n",
       "      <td>103</td>\n",
       "      <td>1.29</td>\n",
       "      <td>False</td>\n",
       "      <td>13</td>\n",
       "    </tr>\n",
       "    <tr>\n",
       "      <th>2</th>\n",
       "      <td>2015-04-08T04:30:00.000Z</td>\n",
       "      <td>Los Angeles Clippers</td>\n",
       "      <td>105</td>\n",
       "      <td>1.02</td>\n",
       "      <td>Los Angeles Lakers</td>\n",
       "      <td>100</td>\n",
       "      <td>17.34</td>\n",
       "      <td>False</td>\n",
       "      <td>13</td>\n",
       "    </tr>\n",
       "    <tr>\n",
       "      <th>3</th>\n",
       "      <td>2015-04-08T04:00:00.000Z</td>\n",
       "      <td>Sacramento Kings</td>\n",
       "      <td>116</td>\n",
       "      <td>1.23</td>\n",
       "      <td>Minnesota Timberwolves</td>\n",
       "      <td>111</td>\n",
       "      <td>4.43</td>\n",
       "      <td>False</td>\n",
       "      <td>13</td>\n",
       "    </tr>\n",
       "    <tr>\n",
       "      <th>4</th>\n",
       "      <td>2015-04-08T02:00:00.000Z</td>\n",
       "      <td>New Orleans Pelicans</td>\n",
       "      <td>103</td>\n",
       "      <td>2.62</td>\n",
       "      <td>Golden State Warriors</td>\n",
       "      <td>100</td>\n",
       "      <td>1.52</td>\n",
       "      <td>False</td>\n",
       "      <td>13</td>\n",
       "    </tr>\n",
       "  </tbody>\n",
       "</table>\n",
       "</div>"
      ],
      "text/plain": [
       "                  date_time                winner  score_winner  odd_winner                  looser  score_looser  odd_looser overtime  available_bookmaker_odds\n",
       "0  2015-04-09T01:00:00.000Z        Boston Celtics           113        1.81         Detroit Pistons           103        2.05    False                        13\n",
       "1  2015-04-09T01:00:00.000Z         Orlando Magic           105        3.74           Chicago Bulls           103        1.29    False                        13\n",
       "2  2015-04-08T04:30:00.000Z  Los Angeles Clippers           105        1.02      Los Angeles Lakers           100       17.34    False                        13\n",
       "3  2015-04-08T04:00:00.000Z      Sacramento Kings           116        1.23  Minnesota Timberwolves           111        4.43    False                        13\n",
       "4  2015-04-08T02:00:00.000Z  New Orleans Pelicans           103        2.62   Golden State Warriors           100        1.52    False                        13"
      ]
     },
     "execution_count": 20,
     "metadata": {},
     "output_type": "execute_result"
    }
   ],
   "source": [
    "g = games_cleaned\n",
    "g.head()"
   ]
  },
  {
   "cell_type": "code",
   "execution_count": 21,
   "metadata": {
    "collapsed": false
   },
   "outputs": [
    {
     "data": {
      "text/plain": [
       "0     True\n",
       "1    False\n",
       "2     True\n",
       "3     True\n",
       "4    False\n",
       "dtype: bool"
      ]
     },
     "execution_count": 21,
     "metadata": {},
     "output_type": "execute_result"
    }
   ],
   "source": [
    "# Create a feature that says \"the lowest odd wins\"\n",
    "y = g[\"odd_winner\"]<=g[\"odd_looser\"]\n",
    "y.head()"
   ]
  },
  {
   "cell_type": "code",
   "execution_count": 22,
   "metadata": {
    "collapsed": false
   },
   "outputs": [
    {
     "data": {
      "image/png": "[encoded data removed]",
      "text/plain": [
       "<matplotlib.figure.Figure at 0x7f031ed54a50>"
      ]
     },
     "metadata": {},
     "output_type": "display_data"
    }
   ],
   "source": [
    "# plot the (odd_winner, odd_looser) graph with two different labels given the value of y\n",
    "plt.figure()\n",
    "plt.title(\"Winner = Lowest odd?\")\n",
    "plt.xlabel(\"Winner's Odd\")\n",
    "plt.ylabel(\"Looser's Odd\")\n",
    "# plt.legend([\"the lowest odd won\",\"the highest odd won\"])\n",
    "plt.scatter(g[\"odd_winner\"],g[\"odd_looser\"],c=y,alpha=0.5)\n",
    "plt.grid(True)\n",
    "plt.axis([1,20,1,20])\n",
    "plt.show()"
   ]
  },
  {
   "cell_type": "markdown",
   "metadata": {},
   "source": [
    "Games 1 and 4 are prolblematic for a better because the odds were predicting a different outcome than the real one.\n",
    "\n",
    "So we built a feature y measuring *if the lowest odd wins*.\n",
    "\n",
    "We then are trying to apply **supervised learning methods** to build a classifier able to predict with more certainty if the lowest odd is right."
   ]
  },
  {
   "cell_type": "code",
   "execution_count": 23,
   "metadata": {
    "collapsed": false
   },
   "outputs": [
    {
     "data": {
      "image/png": "[encoded data removed]",
      "text/plain": [
       "<matplotlib.figure.Figure at 0x7f031eb4d910>"
      ]
     },
     "metadata": {},
     "output_type": "display_data"
    }
   ],
   "source": [
    "# plot the (odd_winner, odd_looser) graph with two different labels given the value of y\n",
    "plt.figure()\n",
    "plt.title(\"Winner = Lowest odd?\")\n",
    "plt.xlabel(\"Lowest Odd\")\n",
    "plt.ylabel(\"Highest Odd\")\n",
    "# plt.legend([\"the lowest odd won\",\"the highest odd won\"])\n",
    "mini = g.loc[:,[\"odd_winner\",\"odd_looser\"]].min(axis=1)\n",
    "maxi = g.loc[:,[\"odd_winner\",\"odd_looser\"]].max(axis=1)\n",
    "plt.scatter(mini,maxi,c=y,alpha=0.5)\n",
    "plt.grid(True)\n",
    "plt.axis([1,2,1,20])\n",
    "plt.show()"
   ]
  },
  {
   "cell_type": "code",
   "execution_count": 24,
   "metadata": {
    "collapsed": false
   },
   "outputs": [
    {
     "data": {
      "text/plain": [
       "(array([ 405.,    0.,    0.,    0.,    0.,    0.,    0.,    0.,    0.,  945.]),\n",
       " array([ 0. ,  0.1,  0.2,  0.3,  0.4,  0.5,  0.6,  0.7,  0.8,  0.9,  1. ]),\n",
       " <a list of 10 Patch objects>)"
      ]
     },
     "execution_count": 24,
     "metadata": {},
     "output_type": "execute_result"
    },
    {
     "data": {
      "image/png": "[encoded data removed]",
      "text/plain": [
       "<matplotlib.figure.Figure at 0x7f031ee27650>"
      ]
     },
     "metadata": {},
     "output_type": "display_data"
    }
   ],
   "source": [
    "# Accuracy of classifier\n",
    "plt.hist(y)"
   ]
  },
  {
   "cell_type": "code",
   "execution_count": 25,
   "metadata": {
    "collapsed": false
   },
   "outputs": [
    {
     "data": {
      "text/plain": [
       "70"
      ]
     },
     "execution_count": 25,
     "metadata": {},
     "output_type": "execute_result"
    }
   ],
   "source": [
    "a=945*100/(405+945)\n",
    "a"
   ]
  },
  {
   "cell_type": "markdown",
   "metadata": {},
   "source": [
    "The accuracy of the classifier \"the lowest odd wins\" is already 70%."
   ]
  },
  {
   "cell_type": "code",
   "execution_count": 27,
   "metadata": {
    "collapsed": false
   },
   "outputs": [],
   "source": [
    "surprise = g.loc[y==False]"
   ]
  },
  {
   "cell_type": "code",
   "execution_count": 29,
   "metadata": {
    "collapsed": false
   },
   "outputs": [
    {
     "data": {
      "image/png": "[encoded data removed]",
      "text/plain": [
       "<matplotlib.figure.Figure at 0x7f031e8b9050>"
      ]
     },
     "metadata": {},
     "output_type": "display_data"
    }
   ],
   "source": [
    "plt.hist(surprise[\"odd_winner\"]);"
   ]
  },
  {
   "cell_type": "code",
   "execution_count": 40,
   "metadata": {
    "collapsed": false
   },
   "outputs": [],
   "source": [
    "a = df.loc[df[\"odd_winner\"]>=50,:]\n",
    "b = df.loc[df[\"odd_winner\"]<-50,:]\n",
    "us_odds = pd.concat([a,b])"
   ]
  },
  {
   "cell_type": "code",
   "execution_count": 43,
   "metadata": {
    "collapsed": false
   },
   "outputs": [
    {
     "data": {
      "text/plain": [
       "594    2.65\n",
       "599    2.87\n",
       "606    3.10\n",
       "608    2.93\n",
       "610    2.25\n",
       "619    2.08\n",
       "633    3.46\n",
       "651    2.18\n",
       "652    2.06\n",
       "654    4.24\n",
       "660    2.25\n",
       "670    3.79\n",
       "677    2.58\n",
       "678    2.06\n",
       "680    3.89\n",
       "Name: odd_winner, dtype: float64"
      ]
     },
     "execution_count": 43,
     "metadata": {},
     "output_type": "execute_result"
    }
   ],
   "source": [
    "#02 fevrier au 21 février are faulty = US odds\n",
    "us_odds.loc[us_odds[\"odd_winner\"]>=0][\"odd_winner\"]/100+1"
   ]
  },
  {
   "cell_type": "code",
   "execution_count": 47,
   "metadata": {
    "collapsed": false
   },
   "outputs": [
    {
     "data": {
      "text/plain": [
       "584    1.591716\n",
       "595    1.719424\n",
       "596    1.250000\n",
       "597    1.813008\n",
       "598    1.641026\n",
       "607    1.320513\n",
       "609    1.239808\n",
       "617    1.480769\n",
       "618    1.571429\n",
       "620    1.671141\n",
       "621    1.059988\n",
       "622    1.480769\n",
       "628    1.100000\n",
       "629    1.179856\n",
       "630    1.200000\n",
       "631    1.847458\n",
       "632    1.520833\n",
       "639    1.370370\n",
       "640    1.500000\n",
       "641    1.420168\n",
       "642    1.980392\n",
       "643    1.149925\n",
       "650    1.090009\n",
       "653    1.370370\n",
       "658    1.480769\n",
       "659    1.380228\n",
       "666    1.510204\n",
       "667    1.529101\n",
       "668    1.040000\n",
       "669    1.160000\n",
       "679    1.781250\n",
       "681    1.689655\n",
       "682    1.359712\n",
       "689    1.050000\n",
       "690    1.300300\n",
       "Name: odd_winner, dtype: float64"
      ]
     },
     "execution_count": 47,
     "metadata": {},
     "output_type": "execute_result"
    }
   ],
   "source": [
    "-100/us_odds.loc[us_odds[\"odd_winner\"]<0][\"odd_winner\"]+1"
   ]
  },
  {
   "cell_type": "code",
   "execution_count": null,
   "metadata": {
    "collapsed": true
   },
   "outputs": [],
   "source": []
  }
 ],
 "metadata": {
  "kernelspec": {
   "display_name": "Python 2",
   "language": "python",
   "name": "python2"
  },
  "language_info": {
   "codemirror_mode": {
    "name": "ipython",
    "version": 2
   },
   "file_extension": ".py",
   "mimetype": "text/x-python",
   "name": "python",
   "nbconvert_exporter": "python",
   "pygments_lexer": "ipython2",
   "version": "2.7.11"
  }
 },
 "nbformat": 4,
 "nbformat_minor": 0
}
