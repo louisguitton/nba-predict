{
 "cells": [
  {
   "cell_type": "markdown",
   "metadata": {},
   "source": [
    "# Preliminary plotting stuff to get things going"
   ]
  },
  {
   "cell_type": "code",
   "execution_count": 374,
   "metadata": {
    "collapsed": false
   },
   "outputs": [],
   "source": [
    "%matplotlib inline\n",
    "import numpy as np\n",
    "import matplotlib.pyplot as plt\n",
    "import pandas as pd\n",
    "from matplotlib import rcParams"
   ]
  },
  {
   "cell_type": "code",
   "execution_count": 375,
   "metadata": {
    "collapsed": false
   },
   "outputs": [],
   "source": [
    "rcParams['figure.figsize'] = (10, 6)\n",
    "rcParams['figure.dpi'] = 150\n",
    "# rcParams['axes.color_cycle'] = Dark2_7\n",
    "rcParams['lines.linewidth'] = 2\n",
    "rcParams['axes.facecolor'] = 'white'\n",
    "rcParams['font.size'] = 14\n",
    "rcParams['patch.edgecolor'] = 'white'\n",
    "# rcParams['patch.facecolor'] = Dark2_7[0]\n",
    "rcParams['font.family'] = 'StixGeneral'\n",
    "\n",
    "\n",
    "def remove_border(axes=None, top=False, right=False, left=True, bottom=True):\n",
    "    \"\"\"\n",
    "    Minimize chartjunk by stripping out unnecesasry plot borders and axis ticks\n",
    "    \n",
    "    The top/right/left/bottom keywords toggle whether the corresponding plot border is drawn\n",
    "    \"\"\"\n",
    "    ax = axes or plt.gca()\n",
    "    ax.spines['top'].set_visible(top)\n",
    "    ax.spines['right'].set_visible(right)\n",
    "    ax.spines['left'].set_visible(left)\n",
    "    ax.spines['bottom'].set_visible(bottom)\n",
    "    \n",
    "    #turn off all ticks\n",
    "    ax.yaxis.set_ticks_position('none')\n",
    "    ax.xaxis.set_ticks_position('none')\n",
    "    \n",
    "    #now re-enable visibles\n",
    "    if top:\n",
    "        ax.xaxis.tick_top()\n",
    "    if bottom:\n",
    "        ax.xaxis.tick_bottom()\n",
    "    if left:\n",
    "        ax.yaxis.tick_left()\n",
    "    if right:\n",
    "        ax.yaxis.tick_right()"
   ]
  },
  {
   "cell_type": "code",
   "execution_count": 376,
   "metadata": {
    "collapsed": true
   },
   "outputs": [],
   "source": [
    "pd.set_option('display.width', 500)\n",
    "pd.set_option('display.max_columns', 100)"
   ]
  },
  {
   "cell_type": "markdown",
   "metadata": {},
   "source": [
    "# Loading and Cleaning"
   ]
  },
  {
   "cell_type": "code",
   "execution_count": 377,
   "metadata": {
    "collapsed": false
   },
   "outputs": [
    {
     "data": {
      "text/html": [
       "<div>\n",
       "<table border=\"1\" class=\"dataframe\">\n",
       "  <thead>\n",
       "    <tr style=\"text-align: right;\">\n",
       "      <th></th>\n",
       "      <th>date_time</th>\n",
       "      <th>home_team</th>\n",
       "      <th>away_team</th>\n",
       "      <th>odd_home</th>\n",
       "      <th>odd_away</th>\n",
       "      <th>score_home</th>\n",
       "      <th>score_away</th>\n",
       "      <th>overtime</th>\n",
       "    </tr>\n",
       "  </thead>\n",
       "  <tbody>\n",
       "    <tr>\n",
       "      <th>0</th>\n",
       "      <td>2015-03-13T01:00:00.000Z</td>\n",
       "      <td>Washington Wizards</td>\n",
       "      <td>Memphis Grizzlies</td>\n",
       "      <td>1.259740</td>\n",
       "      <td>4.030000</td>\n",
       "      <td>107</td>\n",
       "      <td>87</td>\n",
       "      <td>False</td>\n",
       "    </tr>\n",
       "    <tr>\n",
       "      <th>1</th>\n",
       "      <td>2015-03-12T04:30:00.000Z</td>\n",
       "      <td>Golden State Warriors</td>\n",
       "      <td>Detroit Pistons</td>\n",
       "      <td>1.050000</td>\n",
       "      <td>11.520000</td>\n",
       "      <td>105</td>\n",
       "      <td>98</td>\n",
       "      <td>False</td>\n",
       "    </tr>\n",
       "    <tr>\n",
       "      <th>2</th>\n",
       "      <td>2015-03-12T04:30:00.000Z</td>\n",
       "      <td>Portland Trail Blazers</td>\n",
       "      <td>Houston Rockets</td>\n",
       "      <td>1.729927</td>\n",
       "      <td>2.160000</td>\n",
       "      <td>105</td>\n",
       "      <td>100</td>\n",
       "      <td>False</td>\n",
       "    </tr>\n",
       "    <tr>\n",
       "      <th>3</th>\n",
       "      <td>2015-03-12T04:00:00.000Z</td>\n",
       "      <td>Phoenix Suns</td>\n",
       "      <td>Minnesota Timberwolves</td>\n",
       "      <td>1.490196</td>\n",
       "      <td>2.720000</td>\n",
       "      <td>106</td>\n",
       "      <td>97</td>\n",
       "      <td>False</td>\n",
       "    </tr>\n",
       "    <tr>\n",
       "      <th>4</th>\n",
       "      <td>2015-03-12T03:00:00.000Z</td>\n",
       "      <td>Denver Nuggets</td>\n",
       "      <td>Atlanta Hawks</td>\n",
       "      <td>3.450000</td>\n",
       "      <td>1.330033</td>\n",
       "      <td>115</td>\n",
       "      <td>102</td>\n",
       "      <td>False</td>\n",
       "    </tr>\n",
       "  </tbody>\n",
       "</table>\n",
       "</div>"
      ],
      "text/plain": [
       "                  date_time               home_team               away_team  odd_home   odd_away  score_home  score_away overtime\n",
       "0  2015-03-13T01:00:00.000Z      Washington Wizards       Memphis Grizzlies  1.259740   4.030000         107          87    False\n",
       "1  2015-03-12T04:30:00.000Z   Golden State Warriors         Detroit Pistons  1.050000  11.520000         105          98    False\n",
       "2  2015-03-12T04:30:00.000Z  Portland Trail Blazers         Houston Rockets  1.729927   2.160000         105         100    False\n",
       "3  2015-03-12T04:00:00.000Z            Phoenix Suns  Minnesota Timberwolves  1.490196   2.720000         106          97    False\n",
       "4  2015-03-12T03:00:00.000Z          Denver Nuggets           Atlanta Hawks  3.450000   1.330033         115         102    False"
      ]
     },
     "execution_count": 377,
     "metadata": {},
     "output_type": "execute_result"
    }
   ],
   "source": [
    "df=pd.read_csv(\"../data/games_mongodump.csv\")\n",
    "df.head(5)"
   ]
  },
  {
   "cell_type": "code",
   "execution_count": 378,
   "metadata": {
    "collapsed": false
   },
   "outputs": [
    {
     "data": {
      "text/html": [
       "<div>\n",
       "<table border=\"1\" class=\"dataframe\">\n",
       "  <thead>\n",
       "    <tr style=\"text-align: right;\">\n",
       "      <th></th>\n",
       "      <th>odd_home</th>\n",
       "      <th>odd_away</th>\n",
       "      <th>score_home</th>\n",
       "      <th>score_away</th>\n",
       "      <th>overtime</th>\n",
       "    </tr>\n",
       "  </thead>\n",
       "  <tbody>\n",
       "    <tr>\n",
       "      <th>count</th>\n",
       "      <td>8304.000000</td>\n",
       "      <td>8304.000000</td>\n",
       "      <td>8304.000000</td>\n",
       "      <td>8304.000000</td>\n",
       "      <td>8304</td>\n",
       "    </tr>\n",
       "    <tr>\n",
       "      <th>mean</th>\n",
       "      <td>1.868061</td>\n",
       "      <td>3.349489</td>\n",
       "      <td>100.658839</td>\n",
       "      <td>97.692076</td>\n",
       "      <td>0.0611753</td>\n",
       "    </tr>\n",
       "    <tr>\n",
       "      <th>std</th>\n",
       "      <td>1.048794</td>\n",
       "      <td>2.545006</td>\n",
       "      <td>12.029303</td>\n",
       "      <td>11.984653</td>\n",
       "      <td>0.239666</td>\n",
       "    </tr>\n",
       "    <tr>\n",
       "      <th>min</th>\n",
       "      <td>1.010000</td>\n",
       "      <td>1.020000</td>\n",
       "      <td>59.000000</td>\n",
       "      <td>56.000000</td>\n",
       "      <td>False</td>\n",
       "    </tr>\n",
       "    <tr>\n",
       "      <th>25%</th>\n",
       "      <td>1.270000</td>\n",
       "      <td>1.770000</td>\n",
       "      <td>93.000000</td>\n",
       "      <td>90.000000</td>\n",
       "      <td>0</td>\n",
       "    </tr>\n",
       "    <tr>\n",
       "      <th>50%</th>\n",
       "      <td>1.540000</td>\n",
       "      <td>2.520000</td>\n",
       "      <td>100.000000</td>\n",
       "      <td>98.000000</td>\n",
       "      <td>0</td>\n",
       "    </tr>\n",
       "    <tr>\n",
       "      <th>75%</th>\n",
       "      <td>2.090000</td>\n",
       "      <td>3.870000</td>\n",
       "      <td>108.000000</td>\n",
       "      <td>105.000000</td>\n",
       "      <td>0</td>\n",
       "    </tr>\n",
       "    <tr>\n",
       "      <th>max</th>\n",
       "      <td>17.240000</td>\n",
       "      <td>23.430000</td>\n",
       "      <td>163.000000</td>\n",
       "      <td>163.000000</td>\n",
       "      <td>True</td>\n",
       "    </tr>\n",
       "  </tbody>\n",
       "</table>\n",
       "</div>"
      ],
      "text/plain": [
       "          odd_home     odd_away   score_home   score_away   overtime\n",
       "count  8304.000000  8304.000000  8304.000000  8304.000000       8304\n",
       "mean      1.868061     3.349489   100.658839    97.692076  0.0611753\n",
       "std       1.048794     2.545006    12.029303    11.984653   0.239666\n",
       "min       1.010000     1.020000    59.000000    56.000000      False\n",
       "25%       1.270000     1.770000    93.000000    90.000000          0\n",
       "50%       1.540000     2.520000   100.000000    98.000000          0\n",
       "75%       2.090000     3.870000   108.000000   105.000000          0\n",
       "max      17.240000    23.430000   163.000000   163.000000       True"
      ]
     },
     "execution_count": 378,
     "metadata": {},
     "output_type": "execute_result"
    }
   ],
   "source": [
    "df.describe()"
   ]
  },
  {
   "cell_type": "code",
   "execution_count": 379,
   "metadata": {
    "collapsed": false
   },
   "outputs": [
    {
     "data": {
      "image/png": "[encoded data removed]",
      "text/plain": [
       "<matplotlib.figure.Figure at 0x7f0121f5be50>"
      ]
     },
     "metadata": {},
     "output_type": "display_data"
    }
   ],
   "source": [
    "line = plt.figure()\n",
    "plt.plot(df[\"odd_home\"]);"
   ]
  },
  {
   "cell_type": "markdown",
   "metadata": {},
   "source": [
    "## Preliminary Analysis and plotting"
   ]
  },
  {
   "cell_type": "code",
   "execution_count": 380,
   "metadata": {
    "collapsed": false
   },
   "outputs": [
    {
     "data": {
      "text/plain": [
       "home_team\n",
       "Atlanta Hawks             292\n",
       "Boston Celtics            296\n",
       "Brooklyn Nets             269\n",
       "Charlotte Hornets         258\n",
       "Chicago Bulls             292\n",
       "Cleveland Cavaliers       280\n",
       "Dallas Mavericks          287\n",
       "Denver Nuggets            274\n",
       "Detroit Pistons           252\n",
       "East                        2\n",
       "Golden State Warriors     272\n",
       "Houston Rockets           284\n",
       "Indiana Pacers            278\n",
       "Los Angeles Clippers      284\n",
       "Los Angeles Lakers        307\n",
       "Memphis Grizzlies         282\n",
       "Miami Heat                316\n",
       "Milwaukee Bucks           265\n",
       "Minnesota Timberwolves    254\n",
       "New Orleans Pelicans      257\n",
       "New York Knicks           258\n",
       "Oklahoma City Thunder     296\n",
       "Orlando Magic             285\n",
       "Philadelphia 76ers        266\n",
       "Phoenix Suns              268\n",
       "Portland Trail Blazers    270\n",
       "Sacramento Kings          256\n",
       "San Antonio Spurs         305\n",
       "Sophomores                  3\n",
       "Team Chuck                  1\n",
       "Toronto Raptors           265\n",
       "Utah Jazz                 263\n",
       "Washington Wizards        263\n",
       "West                        4\n",
       "dtype: int64"
      ]
     },
     "execution_count": 380,
     "metadata": {},
     "output_type": "execute_result"
    }
   ],
   "source": [
    "winner_group = df.groupby('home_team')\n",
    "winner_group.size()"
   ]
  },
  {
   "cell_type": "code",
   "execution_count": 381,
   "metadata": {
    "collapsed": true
   },
   "outputs": [],
   "source": [
    "def nb_of_games(team):\n",
    "    return len(df.loc[df[\"home_team\"] == team])+len(df.loc[df[\"away_team\"] == team])"
   ]
  },
  {
   "cell_type": "code",
   "execution_count": 382,
   "metadata": {
    "collapsed": false
   },
   "outputs": [
    {
     "data": {
      "text/plain": [
       "{'Atlanta Hawks',\n",
       " 'Boston Celtics',\n",
       " 'Brooklyn Nets',\n",
       " 'Charlotte Hornets',\n",
       " 'Chicago Bulls',\n",
       " 'Cleveland Cavaliers',\n",
       " 'Dallas Mavericks',\n",
       " 'Denver Nuggets',\n",
       " 'Detroit Pistons',\n",
       " 'East',\n",
       " 'Golden State Warriors',\n",
       " 'Houston Rockets',\n",
       " 'Indiana Pacers',\n",
       " 'Los Angeles Clippers',\n",
       " 'Los Angeles Lakers',\n",
       " 'Memphis Grizzlies',\n",
       " 'Miami Heat',\n",
       " 'Milwaukee Bucks',\n",
       " 'Minnesota Timberwolves',\n",
       " 'New Orleans Pelicans',\n",
       " 'New York Knicks',\n",
       " 'Oklahoma City Thunder',\n",
       " 'Orlando Magic',\n",
       " 'Philadelphia 76ers',\n",
       " 'Phoenix Suns',\n",
       " 'Portland Trail Blazers',\n",
       " 'Rookies',\n",
       " 'Sacramento Kings',\n",
       " 'San Antonio Spurs',\n",
       " 'Sophomores',\n",
       " 'Team Chuck',\n",
       " 'Team Shaq',\n",
       " 'Toronto Raptors',\n",
       " 'Utah Jazz',\n",
       " 'Washington Wizards',\n",
       " 'West'}"
      ]
     },
     "execution_count": 382,
     "metadata": {},
     "output_type": "execute_result"
    }
   ],
   "source": [
    "teams = set(df[\"home_team\"]).union(set(df[\"away_team\"]))\n",
    "teams"
   ]
  },
  {
   "cell_type": "code",
   "execution_count": 383,
   "metadata": {
    "collapsed": false
   },
   "outputs": [
    {
     "data": {
      "text/html": [
       "<div>\n",
       "<table border=\"1\" class=\"dataframe\">\n",
       "  <thead>\n",
       "    <tr style=\"text-align: right;\">\n",
       "      <th></th>\n",
       "      <th>date_time</th>\n",
       "      <th>home_team</th>\n",
       "      <th>away_team</th>\n",
       "      <th>odd_home</th>\n",
       "      <th>odd_away</th>\n",
       "      <th>score_home</th>\n",
       "      <th>score_away</th>\n",
       "      <th>overtime</th>\n",
       "    </tr>\n",
       "  </thead>\n",
       "  <tbody>\n",
       "    <tr>\n",
       "      <th>3130</th>\n",
       "      <td>2013-02-18T03:00:00.000Z</td>\n",
       "      <td>West</td>\n",
       "      <td>East</td>\n",
       "      <td>1.72</td>\n",
       "      <td>2.17</td>\n",
       "      <td>143</td>\n",
       "      <td>138</td>\n",
       "      <td>False</td>\n",
       "    </tr>\n",
       "    <tr>\n",
       "      <th>5332</th>\n",
       "      <td>2011-02-21T03:00:00.000Z</td>\n",
       "      <td>West</td>\n",
       "      <td>East</td>\n",
       "      <td>2.28</td>\n",
       "      <td>1.66</td>\n",
       "      <td>148</td>\n",
       "      <td>143</td>\n",
       "      <td>False</td>\n",
       "    </tr>\n",
       "    <tr>\n",
       "      <th>6828</th>\n",
       "      <td>2010-02-15T03:00:00.000Z</td>\n",
       "      <td>West</td>\n",
       "      <td>East</td>\n",
       "      <td>2.16</td>\n",
       "      <td>1.72</td>\n",
       "      <td>139</td>\n",
       "      <td>141</td>\n",
       "      <td>False</td>\n",
       "    </tr>\n",
       "    <tr>\n",
       "      <th>7913</th>\n",
       "      <td>2009-02-16T03:00:00.000Z</td>\n",
       "      <td>West</td>\n",
       "      <td>East</td>\n",
       "      <td>1.69</td>\n",
       "      <td>2.18</td>\n",
       "      <td>146</td>\n",
       "      <td>119</td>\n",
       "      <td>False</td>\n",
       "    </tr>\n",
       "  </tbody>\n",
       "</table>\n",
       "</div>"
      ],
      "text/plain": [
       "                     date_time home_team away_team  odd_home  odd_away  score_home  score_away overtime\n",
       "3130  2013-02-18T03:00:00.000Z      West      East      1.72      2.17         143         138    False\n",
       "5332  2011-02-21T03:00:00.000Z      West      East      2.28      1.66         148         143    False\n",
       "6828  2010-02-15T03:00:00.000Z      West      East      2.16      1.72         139         141    False\n",
       "7913  2009-02-16T03:00:00.000Z      West      East      1.69      2.18         146         119    False"
      ]
     },
     "execution_count": 383,
     "metadata": {},
     "output_type": "execute_result"
    }
   ],
   "source": [
    "df.loc[df[\"home_team\"] == \"West\"] #in df there is the allstar game, not in games_cleaned"
   ]
  },
  {
   "cell_type": "code",
   "execution_count": 384,
   "metadata": {
    "collapsed": false
   },
   "outputs": [],
   "source": [
    "x = list(teams)\n",
    "y = [nb_of_games(t) for t in x]\n",
    "# red_dot = plt.plot(y,\"ro\")\n",
    "# plt.legend(red_dot,x)"
   ]
  },
  {
   "cell_type": "code",
   "execution_count": 385,
   "metadata": {
    "collapsed": false
   },
   "outputs": [
    {
     "data": {
      "text/html": [
       "<div>\n",
       "<table border=\"1\" class=\"dataframe\">\n",
       "  <thead>\n",
       "    <tr style=\"text-align: right;\">\n",
       "      <th></th>\n",
       "      <th>0</th>\n",
       "      <th>1</th>\n",
       "      <th>2</th>\n",
       "      <th>3</th>\n",
       "      <th>4</th>\n",
       "      <th>5</th>\n",
       "      <th>6</th>\n",
       "      <th>7</th>\n",
       "      <th>8</th>\n",
       "      <th>9</th>\n",
       "      <th>10</th>\n",
       "      <th>11</th>\n",
       "      <th>12</th>\n",
       "      <th>13</th>\n",
       "      <th>14</th>\n",
       "      <th>15</th>\n",
       "      <th>16</th>\n",
       "      <th>17</th>\n",
       "      <th>18</th>\n",
       "      <th>19</th>\n",
       "      <th>20</th>\n",
       "      <th>21</th>\n",
       "      <th>22</th>\n",
       "      <th>23</th>\n",
       "      <th>24</th>\n",
       "      <th>25</th>\n",
       "      <th>26</th>\n",
       "      <th>27</th>\n",
       "      <th>28</th>\n",
       "      <th>29</th>\n",
       "      <th>30</th>\n",
       "      <th>31</th>\n",
       "      <th>32</th>\n",
       "      <th>33</th>\n",
       "      <th>34</th>\n",
       "      <th>35</th>\n",
       "    </tr>\n",
       "  </thead>\n",
       "  <tbody>\n",
       "    <tr>\n",
       "      <th>0</th>\n",
       "      <td>Los Angeles Lakers</td>\n",
       "      <td>Chicago Bulls</td>\n",
       "      <td>West</td>\n",
       "      <td>San Antonio Spurs</td>\n",
       "      <td>New Orleans Pelicans</td>\n",
       "      <td>Rookies</td>\n",
       "      <td>Philadelphia 76ers</td>\n",
       "      <td>Sophomores</td>\n",
       "      <td>Detroit Pistons</td>\n",
       "      <td>Boston Celtics</td>\n",
       "      <td>Miami Heat</td>\n",
       "      <td>Orlando Magic</td>\n",
       "      <td>Portland Trail Blazers</td>\n",
       "      <td>East</td>\n",
       "      <td>Golden State Warriors</td>\n",
       "      <td>New York Knicks</td>\n",
       "      <td>Washington Wizards</td>\n",
       "      <td>Dallas Mavericks</td>\n",
       "      <td>Minnesota Timberwolves</td>\n",
       "      <td>Los Angeles Clippers</td>\n",
       "      <td>Oklahoma City Thunder</td>\n",
       "      <td>Charlotte Hornets</td>\n",
       "      <td>Milwaukee Bucks</td>\n",
       "      <td>Team Chuck</td>\n",
       "      <td>Memphis Grizzlies</td>\n",
       "      <td>Toronto Raptors</td>\n",
       "      <td>Utah Jazz</td>\n",
       "      <td>Phoenix Suns</td>\n",
       "      <td>Sacramento Kings</td>\n",
       "      <td>Houston Rockets</td>\n",
       "      <td>Cleveland Cavaliers</td>\n",
       "      <td>Atlanta Hawks</td>\n",
       "      <td>Brooklyn Nets</td>\n",
       "      <td>Team Shaq</td>\n",
       "      <td>Indiana Pacers</td>\n",
       "      <td>Denver Nuggets</td>\n",
       "    </tr>\n",
       "    <tr>\n",
       "      <th>1</th>\n",
       "      <td>586</td>\n",
       "      <td>569</td>\n",
       "      <td>6</td>\n",
       "      <td>597</td>\n",
       "      <td>520</td>\n",
       "      <td>3</td>\n",
       "      <td>533</td>\n",
       "      <td>3</td>\n",
       "      <td>515</td>\n",
       "      <td>590</td>\n",
       "      <td>619</td>\n",
       "      <td>566</td>\n",
       "      <td>552</td>\n",
       "      <td>6</td>\n",
       "      <td>555</td>\n",
       "      <td>533</td>\n",
       "      <td>539</td>\n",
       "      <td>567</td>\n",
       "      <td>511</td>\n",
       "      <td>561</td>\n",
       "      <td>587</td>\n",
       "      <td>521</td>\n",
       "      <td>528</td>\n",
       "      <td>1</td>\n",
       "      <td>573</td>\n",
       "      <td>525</td>\n",
       "      <td>539</td>\n",
       "      <td>529</td>\n",
       "      <td>515</td>\n",
       "      <td>552</td>\n",
       "      <td>561</td>\n",
       "      <td>591</td>\n",
       "      <td>531</td>\n",
       "      <td>1</td>\n",
       "      <td>574</td>\n",
       "      <td>549</td>\n",
       "    </tr>\n",
       "  </tbody>\n",
       "</table>\n",
       "</div>"
      ],
      "text/plain": [
       "                   0              1     2                  3                     4        5                   6           7                8               9           10             11                      12    13                     14               15                  16                17                      18                    19                     20                 21               22          23                 24               25         26            27                28  \\\n",
       "0  Los Angeles Lakers  Chicago Bulls  West  San Antonio Spurs  New Orleans Pelicans  Rookies  Philadelphia 76ers  Sophomores  Detroit Pistons  Boston Celtics  Miami Heat  Orlando Magic  Portland Trail Blazers  East  Golden State Warriors  New York Knicks  Washington Wizards  Dallas Mavericks  Minnesota Timberwolves  Los Angeles Clippers  Oklahoma City Thunder  Charlotte Hornets  Milwaukee Bucks  Team Chuck  Memphis Grizzlies  Toronto Raptors  Utah Jazz  Phoenix Suns  Sacramento Kings   \n",
       "1                 586            569     6                597                   520        3                 533           3              515             590         619            566                     552     6                    555              533                 539               567                     511                   561                    587                521              528           1                573              525        539           529               515   \n",
       "\n",
       "                29                   30             31             32         33              34              35  \n",
       "0  Houston Rockets  Cleveland Cavaliers  Atlanta Hawks  Brooklyn Nets  Team Shaq  Indiana Pacers  Denver Nuggets  \n",
       "1              552                  561            591            531          1             574             549  "
      ]
     },
     "execution_count": 385,
     "metadata": {},
     "output_type": "execute_result"
    }
   ],
   "source": [
    "total_games = pd.DataFrame([x,y])\n",
    "total_games"
   ]
  },
  {
   "cell_type": "code",
   "execution_count": 386,
   "metadata": {
    "collapsed": false
   },
   "outputs": [
    {
     "data": {
      "image/png": "[encoded data removed]",
      "text/plain": [
       "<matplotlib.figure.Figure at 0x7f01202e8190>"
      ]
     },
     "metadata": {},
     "output_type": "display_data"
    }
   ],
   "source": [
    "plt.figure()\n",
    "bins = np.linspace(60, 180, 100)\n",
    "plt.title(\"Home and Away Scores\")\n",
    "plt.xlabel(\"Points\")\n",
    "plt.ylabel(\"Frequency\")\n",
    "plt.hist(df[\"score_home\"],bins, alpha=0.5)\n",
    "plt.hist(df[\"score_away\"],bins, alpha=0.5)\n",
    "plt.show()"
   ]
  },
  {
   "cell_type": "code",
   "execution_count": 387,
   "metadata": {
    "collapsed": false
   },
   "outputs": [],
   "source": [
    "scores = pd.DataFrame([df[\"score_home\"],df[\"score_away\"]])\n",
    "winner_scores = scores.max(0)\n",
    "looser_scores = scores.min(0)"
   ]
  },
  {
   "cell_type": "code",
   "execution_count": 388,
   "metadata": {
    "collapsed": false
   },
   "outputs": [
    {
     "data": {
      "image/png": "[encoded data removed]",
      "text/plain": [
       "<matplotlib.figure.Figure at 0x7f01235cf1d0>"
      ]
     },
     "metadata": {},
     "output_type": "display_data"
    }
   ],
   "source": [
    "plt.figure()\n",
    "bins = np.linspace(60, 180, 100)\n",
    "plt.title(\"Winner and Looser Scores\")\n",
    "plt.xlabel(\"Points\")\n",
    "plt.ylabel(\"Frequency\")\n",
    "plt.hist(winner_scores,bins, alpha=0.5)\n",
    "plt.hist(looser_scores,bins, alpha=0.5)\n",
    "plt.show()"
   ]
  },
  {
   "cell_type": "code",
   "execution_count": 389,
   "metadata": {
    "collapsed": false
   },
   "outputs": [
    {
     "data": {
      "image/png": "[encoded data removed]",
      "text/plain": [
       "<matplotlib.figure.Figure at 0x7f0121fbe0d0>"
      ]
     },
     "metadata": {},
     "output_type": "display_data"
    }
   ],
   "source": [
    "plt.figure()\n",
    "bins = np.linspace(1, 20, 100)\n",
    "plt.hist(df[\"odd_home\"],bins, alpha=0.5);\n",
    "plt.hist(df[\"odd_away\"],bins, alpha=0.5);"
   ]
  },
  {
   "cell_type": "code",
   "execution_count": 390,
   "metadata": {
    "collapsed": false
   },
   "outputs": [
    {
     "data": {
      "image/png": "[encoded data removed]",
      "text/plain": [
       "<matplotlib.figure.Figure at 0x7f0120530390>"
      ]
     },
     "metadata": {},
     "output_type": "display_data"
    }
   ],
   "source": [
    "plt.figure()\n",
    "bins = np.linspace(1, 20, 100)\n",
    "plt.hist(np.log(df[\"odd_home\"]),bins, alpha=0.5);\n",
    "plt.hist(np.log(df[\"odd_away\"]),bins, alpha=0.5); # we wanted to check if the odd_home column was following a log-normal law"
   ]
  },
  {
   "cell_type": "markdown",
   "metadata": {},
   "source": [
    "## Feature Engineering"
   ]
  },
  {
   "cell_type": "code",
   "execution_count": 391,
   "metadata": {
    "collapsed": false
   },
   "outputs": [
    {
     "data": {
      "text/html": [
       "<div>\n",
       "<table border=\"1\" class=\"dataframe\">\n",
       "  <thead>\n",
       "    <tr style=\"text-align: right;\">\n",
       "      <th></th>\n",
       "      <th>date_time</th>\n",
       "      <th>home_team</th>\n",
       "      <th>away_team</th>\n",
       "      <th>odd_home</th>\n",
       "      <th>odd_away</th>\n",
       "      <th>score_home</th>\n",
       "      <th>score_away</th>\n",
       "      <th>overtime</th>\n",
       "    </tr>\n",
       "  </thead>\n",
       "  <tbody>\n",
       "    <tr>\n",
       "      <th>0</th>\n",
       "      <td>2015-03-13T01:00:00.000Z</td>\n",
       "      <td>Washington Wizards</td>\n",
       "      <td>Memphis Grizzlies</td>\n",
       "      <td>1.259740</td>\n",
       "      <td>4.030000</td>\n",
       "      <td>107</td>\n",
       "      <td>87</td>\n",
       "      <td>False</td>\n",
       "    </tr>\n",
       "    <tr>\n",
       "      <th>1</th>\n",
       "      <td>2015-03-12T04:30:00.000Z</td>\n",
       "      <td>Golden State Warriors</td>\n",
       "      <td>Detroit Pistons</td>\n",
       "      <td>1.050000</td>\n",
       "      <td>11.520000</td>\n",
       "      <td>105</td>\n",
       "      <td>98</td>\n",
       "      <td>False</td>\n",
       "    </tr>\n",
       "    <tr>\n",
       "      <th>2</th>\n",
       "      <td>2015-03-12T04:30:00.000Z</td>\n",
       "      <td>Portland Trail Blazers</td>\n",
       "      <td>Houston Rockets</td>\n",
       "      <td>1.729927</td>\n",
       "      <td>2.160000</td>\n",
       "      <td>105</td>\n",
       "      <td>100</td>\n",
       "      <td>False</td>\n",
       "    </tr>\n",
       "    <tr>\n",
       "      <th>3</th>\n",
       "      <td>2015-03-12T04:00:00.000Z</td>\n",
       "      <td>Phoenix Suns</td>\n",
       "      <td>Minnesota Timberwolves</td>\n",
       "      <td>1.490196</td>\n",
       "      <td>2.720000</td>\n",
       "      <td>106</td>\n",
       "      <td>97</td>\n",
       "      <td>False</td>\n",
       "    </tr>\n",
       "    <tr>\n",
       "      <th>4</th>\n",
       "      <td>2015-03-12T03:00:00.000Z</td>\n",
       "      <td>Denver Nuggets</td>\n",
       "      <td>Atlanta Hawks</td>\n",
       "      <td>3.450000</td>\n",
       "      <td>1.330033</td>\n",
       "      <td>115</td>\n",
       "      <td>102</td>\n",
       "      <td>False</td>\n",
       "    </tr>\n",
       "  </tbody>\n",
       "</table>\n",
       "</div>"
      ],
      "text/plain": [
       "                  date_time               home_team               away_team  odd_home   odd_away  score_home  score_away overtime\n",
       "0  2015-03-13T01:00:00.000Z      Washington Wizards       Memphis Grizzlies  1.259740   4.030000         107          87    False\n",
       "1  2015-03-12T04:30:00.000Z   Golden State Warriors         Detroit Pistons  1.050000  11.520000         105          98    False\n",
       "2  2015-03-12T04:30:00.000Z  Portland Trail Blazers         Houston Rockets  1.729927   2.160000         105         100    False\n",
       "3  2015-03-12T04:00:00.000Z            Phoenix Suns  Minnesota Timberwolves  1.490196   2.720000         106          97    False\n",
       "4  2015-03-12T03:00:00.000Z          Denver Nuggets           Atlanta Hawks  3.450000   1.330033         115         102    False"
      ]
     },
     "execution_count": 391,
     "metadata": {},
     "output_type": "execute_result"
    }
   ],
   "source": [
    "g = df\n",
    "g.head()"
   ]
  },
  {
   "cell_type": "code",
   "execution_count": 392,
   "metadata": {
    "collapsed": false
   },
   "outputs": [
    {
     "data": {
      "text/plain": [
       "0    True\n",
       "1    True\n",
       "2    True\n",
       "3    True\n",
       "4    True\n",
       "dtype: bool"
      ]
     },
     "execution_count": 392,
     "metadata": {},
     "output_type": "execute_result"
    }
   ],
   "source": [
    "# Create a feature that says \"home team wins\"\n",
    "y = g[\"score_home\"]>g[\"score_away\"]\n",
    "y.head()"
   ]
  },
  {
   "cell_type": "code",
   "execution_count": 393,
   "metadata": {
    "collapsed": false
   },
   "outputs": [
    {
     "data": {
      "image/png": "[encoded data removed]",
      "text/plain": [
       "<matplotlib.figure.Figure at 0x7f0120381b90>"
      ]
     },
     "metadata": {},
     "output_type": "display_data"
    }
   ],
   "source": [
    "# Accuracy of classifier\n",
    "plt.hist(y, normed=True);"
   ]
  },
  {
   "cell_type": "markdown",
   "metadata": {},
   "source": [
    "The accuracy of the classifier \"the home team wins\" is already 60%."
   ]
  },
  {
   "cell_type": "code",
   "execution_count": 394,
   "metadata": {
    "collapsed": false
   },
   "outputs": [
    {
     "data": {
      "text/plain": [
       "array([ True,  True,  True, ...,  True, False,  True], dtype=bool)"
      ]
     },
     "execution_count": 394,
     "metadata": {},
     "output_type": "execute_result"
    }
   ],
   "source": [
    "# Create a feature that says \"the lowest odd wins\"\n",
    "n=len(g[\"odd_home\"])\n",
    "y = g[\"score_home\"]>g[\"score_away\"]\n",
    "y2=np.zeros(n)\n",
    "odd_winner=np.zeros(n)\n",
    "odd_looser=np.zeros(n)\n",
    "for id in range(n):\n",
    "    if y[id]:\n",
    "        odd_winner[id]=g[\"odd_home\"][id]\n",
    "        odd_looser[id]=g[\"odd_away\"][id]\n",
    "    else:\n",
    "        odd_winner[id]=g[\"odd_away\"][id]\n",
    "        odd_looser[id]=g[\"odd_home\"][id]\n",
    "\n",
    "y2 = odd_winner <= odd_looser\n",
    "y2"
   ]
  },
  {
   "cell_type": "code",
   "execution_count": 395,
   "metadata": {
    "collapsed": false
   },
   "outputs": [
    {
     "data": {
      "image/png": "[encoded data removed]",
      "text/plain": [
       "<matplotlib.figure.Figure at 0x7f01220a9690>"
      ]
     },
     "metadata": {},
     "output_type": "display_data"
    }
   ],
   "source": [
    "# Accuracy of classifier\n",
    "plt.hist(y2, normed=True);"
   ]
  },
  {
   "cell_type": "markdown",
   "metadata": {},
   "source": [
    "The accuracy of the classifier \"the lowest odd wins\" is already 70%."
   ]
  },
  {
   "cell_type": "code",
   "execution_count": 396,
   "metadata": {
    "collapsed": false
   },
   "outputs": [],
   "source": [
    "surprise = g.loc[y2==False]"
   ]
  },
  {
   "cell_type": "code",
   "execution_count": 397,
   "metadata": {
    "collapsed": true
   },
   "outputs": [],
   "source": [
    "# Carry on error analysis on the surprise subset"
   ]
  },
  {
   "cell_type": "code",
   "execution_count": 398,
   "metadata": {
    "collapsed": false
   },
   "outputs": [
    {
     "data": {
      "text/html": [
       "<div>\n",
       "<table border=\"1\" class=\"dataframe\">\n",
       "  <thead>\n",
       "    <tr style=\"text-align: right;\">\n",
       "      <th></th>\n",
       "      <th>date_time</th>\n",
       "      <th>home_team</th>\n",
       "      <th>away_team</th>\n",
       "      <th>odd_home</th>\n",
       "      <th>odd_away</th>\n",
       "      <th>score_home</th>\n",
       "      <th>score_away</th>\n",
       "      <th>overtime</th>\n",
       "    </tr>\n",
       "  </thead>\n",
       "  <tbody>\n",
       "    <tr>\n",
       "      <th>4</th>\n",
       "      <td>2015-03-12T03:00:00.000Z</td>\n",
       "      <td>Denver Nuggets</td>\n",
       "      <td>Atlanta Hawks</td>\n",
       "      <td>3.45000</td>\n",
       "      <td>1.330033</td>\n",
       "      <td>115</td>\n",
       "      <td>102</td>\n",
       "      <td>False</td>\n",
       "    </tr>\n",
       "    <tr>\n",
       "      <th>6</th>\n",
       "      <td>2015-03-12T02:00:00.000Z</td>\n",
       "      <td>Oklahoma City Thunder</td>\n",
       "      <td>Los Angeles Clippers</td>\n",
       "      <td>1.37037</td>\n",
       "      <td>3.210000</td>\n",
       "      <td>108</td>\n",
       "      <td>120</td>\n",
       "      <td>False</td>\n",
       "    </tr>\n",
       "    <tr>\n",
       "      <th>7</th>\n",
       "      <td>2015-03-12T01:30:00.000Z</td>\n",
       "      <td>Boston Celtics</td>\n",
       "      <td>Memphis Grizzlies</td>\n",
       "      <td>3.22000</td>\n",
       "      <td>1.370370</td>\n",
       "      <td>95</td>\n",
       "      <td>92</td>\n",
       "      <td>False</td>\n",
       "    </tr>\n",
       "    <tr>\n",
       "      <th>9</th>\n",
       "      <td>2015-03-12T01:00:00.000Z</td>\n",
       "      <td>Charlotte Hornets</td>\n",
       "      <td>Sacramento Kings</td>\n",
       "      <td>1.25974</td>\n",
       "      <td>4.000000</td>\n",
       "      <td>106</td>\n",
       "      <td>113</td>\n",
       "      <td>False</td>\n",
       "    </tr>\n",
       "    <tr>\n",
       "      <th>11</th>\n",
       "      <td>2015-03-11T04:30:00.000Z</td>\n",
       "      <td>Los Angeles Lakers</td>\n",
       "      <td>Detroit Pistons</td>\n",
       "      <td>2.40000</td>\n",
       "      <td>1.609756</td>\n",
       "      <td>93</td>\n",
       "      <td>85</td>\n",
       "      <td>False</td>\n",
       "    </tr>\n",
       "  </tbody>\n",
       "</table>\n",
       "</div>"
      ],
      "text/plain": [
       "                   date_time              home_team             away_team  odd_home  odd_away  score_home  score_away overtime\n",
       "4   2015-03-12T03:00:00.000Z         Denver Nuggets         Atlanta Hawks   3.45000  1.330033         115         102    False\n",
       "6   2015-03-12T02:00:00.000Z  Oklahoma City Thunder  Los Angeles Clippers   1.37037  3.210000         108         120    False\n",
       "7   2015-03-12T01:30:00.000Z         Boston Celtics     Memphis Grizzlies   3.22000  1.370370          95          92    False\n",
       "9   2015-03-12T01:00:00.000Z      Charlotte Hornets      Sacramento Kings   1.25974  4.000000         106         113    False\n",
       "11  2015-03-11T04:30:00.000Z     Los Angeles Lakers       Detroit Pistons   2.40000  1.609756          93          85    False"
      ]
     },
     "execution_count": 398,
     "metadata": {},
     "output_type": "execute_result"
    }
   ],
   "source": [
    "surprise.head()"
   ]
  },
  {
   "cell_type": "code",
   "execution_count": 399,
   "metadata": {
    "collapsed": false
   },
   "outputs": [
    {
     "data": {
      "image/png": "[encoded data removed]",
      "text/plain": [
       "<matplotlib.figure.Figure at 0x7f01220bf490>"
      ]
     },
     "metadata": {},
     "output_type": "display_data"
    }
   ],
   "source": [
    "y3 = surprise[\"score_home\"]>surprise[\"score_away\"] \n",
    "plt.hist(y3, normed=True);"
   ]
  },
  {
   "cell_type": "markdown",
   "metadata": {},
   "source": [
    "So when the big odd wins, 35% of the time the big odd was actually the home team"
   ]
  },
  {
   "cell_type": "code",
   "execution_count": 400,
   "metadata": {
    "collapsed": false
   },
   "outputs": [
    {
     "data": {
      "text/html": [
       "<div>\n",
       "<table border=\"1\" class=\"dataframe\">\n",
       "  <thead>\n",
       "    <tr style=\"text-align: right;\">\n",
       "      <th></th>\n",
       "      <th>date_time</th>\n",
       "      <th>home_team</th>\n",
       "      <th>away_team</th>\n",
       "      <th>odd_home</th>\n",
       "      <th>odd_away</th>\n",
       "      <th>score_home</th>\n",
       "      <th>score_away</th>\n",
       "      <th>overtime</th>\n",
       "    </tr>\n",
       "  </thead>\n",
       "  <tbody>\n",
       "    <tr>\n",
       "      <th>0</th>\n",
       "      <td>2015-03-13T01:00:00.000Z</td>\n",
       "      <td>Washington Wizards</td>\n",
       "      <td>Memphis Grizzlies</td>\n",
       "      <td>1.259740</td>\n",
       "      <td>4.030000</td>\n",
       "      <td>107</td>\n",
       "      <td>87</td>\n",
       "      <td>False</td>\n",
       "    </tr>\n",
       "    <tr>\n",
       "      <th>1</th>\n",
       "      <td>2015-03-12T04:30:00.000Z</td>\n",
       "      <td>Golden State Warriors</td>\n",
       "      <td>Detroit Pistons</td>\n",
       "      <td>1.050000</td>\n",
       "      <td>11.520000</td>\n",
       "      <td>105</td>\n",
       "      <td>98</td>\n",
       "      <td>False</td>\n",
       "    </tr>\n",
       "    <tr>\n",
       "      <th>2</th>\n",
       "      <td>2015-03-12T04:30:00.000Z</td>\n",
       "      <td>Portland Trail Blazers</td>\n",
       "      <td>Houston Rockets</td>\n",
       "      <td>1.729927</td>\n",
       "      <td>2.160000</td>\n",
       "      <td>105</td>\n",
       "      <td>100</td>\n",
       "      <td>False</td>\n",
       "    </tr>\n",
       "    <tr>\n",
       "      <th>3</th>\n",
       "      <td>2015-03-12T04:00:00.000Z</td>\n",
       "      <td>Phoenix Suns</td>\n",
       "      <td>Minnesota Timberwolves</td>\n",
       "      <td>1.490196</td>\n",
       "      <td>2.720000</td>\n",
       "      <td>106</td>\n",
       "      <td>97</td>\n",
       "      <td>False</td>\n",
       "    </tr>\n",
       "    <tr>\n",
       "      <th>4</th>\n",
       "      <td>2015-03-12T03:00:00.000Z</td>\n",
       "      <td>Denver Nuggets</td>\n",
       "      <td>Atlanta Hawks</td>\n",
       "      <td>3.450000</td>\n",
       "      <td>1.330033</td>\n",
       "      <td>115</td>\n",
       "      <td>102</td>\n",
       "      <td>False</td>\n",
       "    </tr>\n",
       "  </tbody>\n",
       "</table>\n",
       "</div>"
      ],
      "text/plain": [
       "                  date_time               home_team               away_team  odd_home   odd_away  score_home  score_away overtime\n",
       "0  2015-03-13T01:00:00.000Z      Washington Wizards       Memphis Grizzlies  1.259740   4.030000         107          87    False\n",
       "1  2015-03-12T04:30:00.000Z   Golden State Warriors         Detroit Pistons  1.050000  11.520000         105          98    False\n",
       "2  2015-03-12T04:30:00.000Z  Portland Trail Blazers         Houston Rockets  1.729927   2.160000         105         100    False\n",
       "3  2015-03-12T04:00:00.000Z            Phoenix Suns  Minnesota Timberwolves  1.490196   2.720000         106          97    False\n",
       "4  2015-03-12T03:00:00.000Z          Denver Nuggets           Atlanta Hawks  3.450000   1.330033         115         102    False"
      ]
     },
     "execution_count": 400,
     "metadata": {},
     "output_type": "execute_result"
    }
   ],
   "source": [
    "df.head()"
   ]
  },
  {
   "cell_type": "code",
   "execution_count": 401,
   "metadata": {
    "collapsed": false
   },
   "outputs": [
    {
     "data": {
      "text/html": [
       "<div>\n",
       "<table border=\"1\" class=\"dataframe\">\n",
       "  <thead>\n",
       "    <tr style=\"text-align: right;\">\n",
       "      <th></th>\n",
       "      <th>date_time</th>\n",
       "      <th>home_team</th>\n",
       "      <th>away_team</th>\n",
       "      <th>odd_home</th>\n",
       "      <th>odd_away</th>\n",
       "      <th>score_home</th>\n",
       "      <th>score_away</th>\n",
       "      <th>overtime</th>\n",
       "      <th>home_wins</th>\n",
       "    </tr>\n",
       "  </thead>\n",
       "  <tbody>\n",
       "    <tr>\n",
       "      <th>0</th>\n",
       "      <td>2015-03-13T01:00:00.000Z</td>\n",
       "      <td>Washington Wizards</td>\n",
       "      <td>Memphis Grizzlies</td>\n",
       "      <td>1.259740</td>\n",
       "      <td>4.030000</td>\n",
       "      <td>107</td>\n",
       "      <td>87</td>\n",
       "      <td>False</td>\n",
       "      <td>True</td>\n",
       "    </tr>\n",
       "    <tr>\n",
       "      <th>1</th>\n",
       "      <td>2015-03-12T04:30:00.000Z</td>\n",
       "      <td>Golden State Warriors</td>\n",
       "      <td>Detroit Pistons</td>\n",
       "      <td>1.050000</td>\n",
       "      <td>11.520000</td>\n",
       "      <td>105</td>\n",
       "      <td>98</td>\n",
       "      <td>False</td>\n",
       "      <td>True</td>\n",
       "    </tr>\n",
       "    <tr>\n",
       "      <th>2</th>\n",
       "      <td>2015-03-12T04:30:00.000Z</td>\n",
       "      <td>Portland Trail Blazers</td>\n",
       "      <td>Houston Rockets</td>\n",
       "      <td>1.729927</td>\n",
       "      <td>2.160000</td>\n",
       "      <td>105</td>\n",
       "      <td>100</td>\n",
       "      <td>False</td>\n",
       "      <td>True</td>\n",
       "    </tr>\n",
       "    <tr>\n",
       "      <th>3</th>\n",
       "      <td>2015-03-12T04:00:00.000Z</td>\n",
       "      <td>Phoenix Suns</td>\n",
       "      <td>Minnesota Timberwolves</td>\n",
       "      <td>1.490196</td>\n",
       "      <td>2.720000</td>\n",
       "      <td>106</td>\n",
       "      <td>97</td>\n",
       "      <td>False</td>\n",
       "      <td>True</td>\n",
       "    </tr>\n",
       "    <tr>\n",
       "      <th>4</th>\n",
       "      <td>2015-03-12T03:00:00.000Z</td>\n",
       "      <td>Denver Nuggets</td>\n",
       "      <td>Atlanta Hawks</td>\n",
       "      <td>3.450000</td>\n",
       "      <td>1.330033</td>\n",
       "      <td>115</td>\n",
       "      <td>102</td>\n",
       "      <td>False</td>\n",
       "      <td>True</td>\n",
       "    </tr>\n",
       "  </tbody>\n",
       "</table>\n",
       "</div>"
      ],
      "text/plain": [
       "                  date_time               home_team               away_team  odd_home   odd_away  score_home  score_away overtime home_wins\n",
       "0  2015-03-13T01:00:00.000Z      Washington Wizards       Memphis Grizzlies  1.259740   4.030000         107          87    False      True\n",
       "1  2015-03-12T04:30:00.000Z   Golden State Warriors         Detroit Pistons  1.050000  11.520000         105          98    False      True\n",
       "2  2015-03-12T04:30:00.000Z  Portland Trail Blazers         Houston Rockets  1.729927   2.160000         105         100    False      True\n",
       "3  2015-03-12T04:00:00.000Z            Phoenix Suns  Minnesota Timberwolves  1.490196   2.720000         106          97    False      True\n",
       "4  2015-03-12T03:00:00.000Z          Denver Nuggets           Atlanta Hawks  3.450000   1.330033         115         102    False      True"
      ]
     },
     "execution_count": 401,
     "metadata": {},
     "output_type": "execute_result"
    }
   ],
   "source": [
    "y = pd.DataFrame(df[\"score_home\"]>df[\"score_away\"],index=np.arange(len(df[\"score_home\"])),columns=[\"home_wins\"])\n",
    "X = df.join(y)\n",
    "X.head()"
   ]
  },
  {
   "cell_type": "code",
   "execution_count": 402,
   "metadata": {
    "collapsed": false
   },
   "outputs": [
    {
     "name": "stderr",
     "output_type": "stream",
     "text": [
      "/home/lguitton/anaconda2/lib/python2.7/site-packages/ipykernel/__main__.py:3: FutureWarning: slice indexers when using iloc should be integers and not floating point\n",
      "  app.launch_new_instance()\n",
      "/home/lguitton/anaconda2/lib/python2.7/site-packages/ipykernel/__main__.py:4: FutureWarning: slice indexers when using iloc should be integers and not floating point\n"
     ]
    }
   ],
   "source": [
    "X = X.reindex(np.random.permutation(X.index))\n",
    "m = np.ceil(len(X)*0.7)\n",
    "X_train = X.iloc[0:m]\n",
    "X_test = X.iloc[m:len(X)]"
   ]
  },
  {
   "cell_type": "code",
   "execution_count": 403,
   "metadata": {
    "collapsed": false
   },
   "outputs": [
    {
     "data": {
      "text/html": [
       "<div>\n",
       "<table border=\"1\" class=\"dataframe\">\n",
       "  <thead>\n",
       "    <tr style=\"text-align: right;\">\n",
       "      <th></th>\n",
       "      <th>date_time</th>\n",
       "      <th>home_team</th>\n",
       "      <th>away_team</th>\n",
       "      <th>odd_home</th>\n",
       "      <th>odd_away</th>\n",
       "      <th>score_home</th>\n",
       "      <th>score_away</th>\n",
       "      <th>overtime</th>\n",
       "      <th>home_wins</th>\n",
       "    </tr>\n",
       "  </thead>\n",
       "  <tbody>\n",
       "    <tr>\n",
       "      <th>175</th>\n",
       "      <td>2015-03-26T03:00:00.000Z</td>\n",
       "      <td>Utah Jazz</td>\n",
       "      <td>Portland Trail Blazers</td>\n",
       "      <td>1.80</td>\n",
       "      <td>2.040000</td>\n",
       "      <td>89</td>\n",
       "      <td>92</td>\n",
       "      <td>False</td>\n",
       "      <td>False</td>\n",
       "    </tr>\n",
       "    <tr>\n",
       "      <th>7214</th>\n",
       "      <td>2009-12-03T05:30:00.000Z</td>\n",
       "      <td>Los Angeles Clippers</td>\n",
       "      <td>Houston Rockets</td>\n",
       "      <td>2.16</td>\n",
       "      <td>1.720000</td>\n",
       "      <td>85</td>\n",
       "      <td>102</td>\n",
       "      <td>False</td>\n",
       "      <td>False</td>\n",
       "    </tr>\n",
       "    <tr>\n",
       "      <th>4501</th>\n",
       "      <td>2012-02-15T05:00:00.000Z</td>\n",
       "      <td>Portland Trail Blazers</td>\n",
       "      <td>Washington Wizards</td>\n",
       "      <td>1.03</td>\n",
       "      <td>14.000000</td>\n",
       "      <td>109</td>\n",
       "      <td>124</td>\n",
       "      <td>False</td>\n",
       "      <td>False</td>\n",
       "    </tr>\n",
       "    <tr>\n",
       "      <th>7514</th>\n",
       "      <td>2009-03-29T21:30:00.000Z</td>\n",
       "      <td>Atlanta Hawks</td>\n",
       "      <td>Los Angeles Lakers</td>\n",
       "      <td>2.42</td>\n",
       "      <td>1.581395</td>\n",
       "      <td>86</td>\n",
       "      <td>76</td>\n",
       "      <td>False</td>\n",
       "      <td>True</td>\n",
       "    </tr>\n",
       "    <tr>\n",
       "      <th>427</th>\n",
       "      <td>2015-03-03T02:30:00.000Z</td>\n",
       "      <td>Miami Heat</td>\n",
       "      <td>Phoenix Suns</td>\n",
       "      <td>1.79</td>\n",
       "      <td>2.080000</td>\n",
       "      <td>115</td>\n",
       "      <td>98</td>\n",
       "      <td>False</td>\n",
       "      <td>True</td>\n",
       "    </tr>\n",
       "  </tbody>\n",
       "</table>\n",
       "</div>"
      ],
      "text/plain": [
       "                     date_time               home_team               away_team  odd_home   odd_away  score_home  score_away overtime home_wins\n",
       "175   2015-03-26T03:00:00.000Z               Utah Jazz  Portland Trail Blazers      1.80   2.040000          89          92    False     False\n",
       "7214  2009-12-03T05:30:00.000Z    Los Angeles Clippers         Houston Rockets      2.16   1.720000          85         102    False     False\n",
       "4501  2012-02-15T05:00:00.000Z  Portland Trail Blazers      Washington Wizards      1.03  14.000000         109         124    False     False\n",
       "7514  2009-03-29T21:30:00.000Z           Atlanta Hawks      Los Angeles Lakers      2.42   1.581395          86          76    False      True\n",
       "427   2015-03-03T02:30:00.000Z              Miami Heat            Phoenix Suns      1.79   2.080000         115          98    False      True"
      ]
     },
     "execution_count": 403,
     "metadata": {},
     "output_type": "execute_result"
    }
   ],
   "source": [
    "X_test.head()"
   ]
  },
  {
   "cell_type": "markdown",
   "metadata": {
    "collapsed": true
   },
   "source": [
    "# Plot in the space of features"
   ]
  },
  {
   "cell_type": "code",
   "execution_count": 404,
   "metadata": {
    "collapsed": false
   },
   "outputs": [
    {
     "data": {
      "text/plain": [
       "pandas.core.frame.DataFrame"
      ]
     },
     "execution_count": 404,
     "metadata": {},
     "output_type": "execute_result"
    }
   ],
   "source": [
    "type(X_train)"
   ]
  },
  {
   "cell_type": "code",
   "execution_count": 405,
   "metadata": {
    "collapsed": false
   },
   "outputs": [
    {
     "data": {
      "text/html": [
       "<div>\n",
       "<table border=\"1\" class=\"dataframe\">\n",
       "  <thead>\n",
       "    <tr style=\"text-align: right;\">\n",
       "      <th></th>\n",
       "      <th>date_time</th>\n",
       "      <th>home_team</th>\n",
       "      <th>away_team</th>\n",
       "      <th>odd_home</th>\n",
       "      <th>odd_away</th>\n",
       "      <th>score_home</th>\n",
       "      <th>score_away</th>\n",
       "      <th>overtime</th>\n",
       "      <th>home_wins</th>\n",
       "    </tr>\n",
       "  </thead>\n",
       "  <tbody>\n",
       "    <tr>\n",
       "      <th>7604</th>\n",
       "      <td>2009-03-14T19:00:00.000Z</td>\n",
       "      <td>Miami Heat</td>\n",
       "      <td>Utah Jazz</td>\n",
       "      <td>2.16</td>\n",
       "      <td>1.719424</td>\n",
       "      <td>140</td>\n",
       "      <td>129</td>\n",
       "      <td>True</td>\n",
       "      <td>True</td>\n",
       "    </tr>\n",
       "    <tr>\n",
       "      <th>3559</th>\n",
       "      <td>2012-11-22T02:30:00.000Z</td>\n",
       "      <td>Miami Heat</td>\n",
       "      <td>Milwaukee Bucks</td>\n",
       "      <td>1.16</td>\n",
       "      <td>5.570000</td>\n",
       "      <td>113</td>\n",
       "      <td>106</td>\n",
       "      <td>True</td>\n",
       "      <td>True</td>\n",
       "    </tr>\n",
       "    <tr>\n",
       "      <th>7177</th>\n",
       "      <td>2009-12-09T03:00:00.000Z</td>\n",
       "      <td>Chicago Bulls</td>\n",
       "      <td>Brooklyn Nets</td>\n",
       "      <td>1.39</td>\n",
       "      <td>3.100000</td>\n",
       "      <td>101</td>\n",
       "      <td>103</td>\n",
       "      <td>False</td>\n",
       "      <td>False</td>\n",
       "    </tr>\n",
       "    <tr>\n",
       "      <th>3671</th>\n",
       "      <td>2012-12-19T05:30:00.000Z</td>\n",
       "      <td>Los Angeles Lakers</td>\n",
       "      <td>Charlotte Hornets</td>\n",
       "      <td>1.08</td>\n",
       "      <td>8.680000</td>\n",
       "      <td>101</td>\n",
       "      <td>100</td>\n",
       "      <td>False</td>\n",
       "      <td>True</td>\n",
       "    </tr>\n",
       "    <tr>\n",
       "      <th>6296</th>\n",
       "      <td>2010-04-27T02:30:00.000Z</td>\n",
       "      <td>Milwaukee Bucks</td>\n",
       "      <td>Atlanta Hawks</td>\n",
       "      <td>2.11</td>\n",
       "      <td>1.740000</td>\n",
       "      <td>111</td>\n",
       "      <td>104</td>\n",
       "      <td>False</td>\n",
       "      <td>True</td>\n",
       "    </tr>\n",
       "  </tbody>\n",
       "</table>\n",
       "</div>"
      ],
      "text/plain": [
       "                     date_time           home_team          away_team  odd_home  odd_away  score_home  score_away overtime home_wins\n",
       "7604  2009-03-14T19:00:00.000Z          Miami Heat          Utah Jazz      2.16  1.719424         140         129     True      True\n",
       "3559  2012-11-22T02:30:00.000Z          Miami Heat    Milwaukee Bucks      1.16  5.570000         113         106     True      True\n",
       "7177  2009-12-09T03:00:00.000Z       Chicago Bulls      Brooklyn Nets      1.39  3.100000         101         103    False     False\n",
       "3671  2012-12-19T05:30:00.000Z  Los Angeles Lakers  Charlotte Hornets      1.08  8.680000         101         100    False      True\n",
       "6296  2010-04-27T02:30:00.000Z     Milwaukee Bucks      Atlanta Hawks      2.11  1.740000         111         104    False      True"
      ]
     },
     "execution_count": 405,
     "metadata": {},
     "output_type": "execute_result"
    }
   ],
   "source": [
    "X_train.head()"
   ]
  },
  {
   "cell_type": "code",
   "execution_count": 406,
   "metadata": {
    "collapsed": false
   },
   "outputs": [
    {
     "data": {
      "text/html": [
       "<div>\n",
       "<table border=\"1\" class=\"dataframe\">\n",
       "  <thead>\n",
       "    <tr style=\"text-align: right;\">\n",
       "      <th></th>\n",
       "      <th>odd_home</th>\n",
       "      <th>odd_away</th>\n",
       "      <th>home_wins</th>\n",
       "    </tr>\n",
       "  </thead>\n",
       "  <tbody>\n",
       "    <tr>\n",
       "      <th>7604</th>\n",
       "      <td>2.16</td>\n",
       "      <td>1.719424</td>\n",
       "      <td>True</td>\n",
       "    </tr>\n",
       "    <tr>\n",
       "      <th>3559</th>\n",
       "      <td>1.16</td>\n",
       "      <td>5.570000</td>\n",
       "      <td>True</td>\n",
       "    </tr>\n",
       "    <tr>\n",
       "      <th>7177</th>\n",
       "      <td>1.39</td>\n",
       "      <td>3.100000</td>\n",
       "      <td>False</td>\n",
       "    </tr>\n",
       "    <tr>\n",
       "      <th>3671</th>\n",
       "      <td>1.08</td>\n",
       "      <td>8.680000</td>\n",
       "      <td>True</td>\n",
       "    </tr>\n",
       "    <tr>\n",
       "      <th>6296</th>\n",
       "      <td>2.11</td>\n",
       "      <td>1.740000</td>\n",
       "      <td>True</td>\n",
       "    </tr>\n",
       "  </tbody>\n",
       "</table>\n",
       "</div>"
      ],
      "text/plain": [
       "      odd_home  odd_away home_wins\n",
       "7604      2.16  1.719424      True\n",
       "3559      1.16  5.570000      True\n",
       "7177      1.39  3.100000     False\n",
       "3671      1.08  8.680000      True\n",
       "6296      2.11  1.740000      True"
      ]
     },
     "execution_count": 406,
     "metadata": {},
     "output_type": "execute_result"
    }
   ],
   "source": [
    "X_train[['odd_home','odd_away','home_wins']].head()"
   ]
  },
  {
   "cell_type": "code",
   "execution_count": 407,
   "metadata": {
    "collapsed": false
   },
   "outputs": [],
   "source": [
    "def plot_feature_space(X,x1,x2):\n",
    "    plt.scatter(X[x1][X['home_wins']==True],X[x2][X['home_wins']==True],color='g',alpha=.5)\n",
    "    plt.scatter(X[x1][X['home_wins']==False],X[x2][X['home_wins']==False],color='r',alpha=.5)\n",
    "    plt.xlabel(x1)\n",
    "    plt.ylabel(x2)\n",
    "    plt.grid(True)\n",
    "    plt.xlim([0,25])\n",
    "    plt.ylim([0,25])\n",
    "    plt.axis('equal')\n",
    "    remove_border()"
   ]
  },
  {
   "cell_type": "code",
   "execution_count": 408,
   "metadata": {
    "collapsed": false
   },
   "outputs": [
    {
     "data": {
      "image/png": "[encoded data removed]",
      "text/plain": [
       "<matplotlib.figure.Figure at 0x7f0122ee4bd0>"
      ]
     },
     "metadata": {},
     "output_type": "display_data"
    }
   ],
   "source": [
    "plot_feature_space(X_train,'odd_home','odd_away')"
   ]
  },
  {
   "cell_type": "markdown",
   "metadata": {},
   "source": [
    "The two areas of data clearly overlap so it's hard to draw a decision boundary just yet."
   ]
  },
  {
   "cell_type": "markdown",
   "metadata": {},
   "source": [
    "# Feature Scaling"
   ]
  },
  {
   "cell_type": "code",
   "execution_count": 409,
   "metadata": {
    "collapsed": true
   },
   "outputs": [],
   "source": [
    "def apply_feature_scaling(X_j):\n",
    "    return (X_j - np.mean(X_j))/(np.max(X_j)-np.min(X_j))"
   ]
  },
  {
   "cell_type": "code",
   "execution_count": 410,
   "metadata": {
    "collapsed": false
   },
   "outputs": [],
   "source": [
    "def feature_scale(X,x_array):\n",
    "    for x_i in x_array:\n",
    "        X[x_i]=apply_feature_scaling(X[x_i]);"
   ]
  },
  {
   "cell_type": "code",
   "execution_count": 411,
   "metadata": {
    "collapsed": false
   },
   "outputs": [
    {
     "name": "stderr",
     "output_type": "stream",
     "text": [
      "/home/lguitton/anaconda2/lib/python2.7/site-packages/ipykernel/__main__.py:3: SettingWithCopyWarning: \n",
      "A value is trying to be set on a copy of a slice from a DataFrame.\n",
      "Try using .loc[row_indexer,col_indexer] = value instead\n",
      "\n",
      "See the caveats in the documentation: http://pandas.pydata.org/pandas-docs/stable/indexing.html#indexing-view-versus-copy\n",
      "  app.launch_new_instance()\n"
     ]
    }
   ],
   "source": [
    "feature_scale(X_train,['odd_home','odd_away']);"
   ]
  },
  {
   "cell_type": "code",
   "execution_count": 412,
   "metadata": {
    "collapsed": false
   },
   "outputs": [
    {
     "data": {
      "text/html": [
       "<div>\n",
       "<table border=\"1\" class=\"dataframe\">\n",
       "  <thead>\n",
       "    <tr style=\"text-align: right;\">\n",
       "      <th></th>\n",
       "      <th>date_time</th>\n",
       "      <th>home_team</th>\n",
       "      <th>away_team</th>\n",
       "      <th>odd_home</th>\n",
       "      <th>odd_away</th>\n",
       "      <th>score_home</th>\n",
       "      <th>score_away</th>\n",
       "      <th>overtime</th>\n",
       "      <th>home_wins</th>\n",
       "    </tr>\n",
       "  </thead>\n",
       "  <tbody>\n",
       "    <tr>\n",
       "      <th>7604</th>\n",
       "      <td>2009-03-14T19:00:00.000Z</td>\n",
       "      <td>Miami Heat</td>\n",
       "      <td>Utah Jazz</td>\n",
       "      <td>0.016745</td>\n",
       "      <td>-0.071433</td>\n",
       "      <td>140</td>\n",
       "      <td>129</td>\n",
       "      <td>True</td>\n",
       "      <td>True</td>\n",
       "    </tr>\n",
       "    <tr>\n",
       "      <th>3559</th>\n",
       "      <td>2012-11-22T02:30:00.000Z</td>\n",
       "      <td>Miami Heat</td>\n",
       "      <td>Milwaukee Bucks</td>\n",
       "      <td>-0.044869</td>\n",
       "      <td>0.100391</td>\n",
       "      <td>113</td>\n",
       "      <td>106</td>\n",
       "      <td>True</td>\n",
       "      <td>True</td>\n",
       "    </tr>\n",
       "    <tr>\n",
       "      <th>7177</th>\n",
       "      <td>2009-12-09T03:00:00.000Z</td>\n",
       "      <td>Chicago Bulls</td>\n",
       "      <td>Brooklyn Nets</td>\n",
       "      <td>-0.030698</td>\n",
       "      <td>-0.009827</td>\n",
       "      <td>101</td>\n",
       "      <td>103</td>\n",
       "      <td>False</td>\n",
       "      <td>False</td>\n",
       "    </tr>\n",
       "    <tr>\n",
       "      <th>3671</th>\n",
       "      <td>2012-12-19T05:30:00.000Z</td>\n",
       "      <td>Los Angeles Lakers</td>\n",
       "      <td>Charlotte Hornets</td>\n",
       "      <td>-0.049798</td>\n",
       "      <td>0.239169</td>\n",
       "      <td>101</td>\n",
       "      <td>100</td>\n",
       "      <td>False</td>\n",
       "      <td>True</td>\n",
       "    </tr>\n",
       "    <tr>\n",
       "      <th>6296</th>\n",
       "      <td>2010-04-27T02:30:00.000Z</td>\n",
       "      <td>Milwaukee Bucks</td>\n",
       "      <td>Atlanta Hawks</td>\n",
       "      <td>0.013664</td>\n",
       "      <td>-0.070514</td>\n",
       "      <td>111</td>\n",
       "      <td>104</td>\n",
       "      <td>False</td>\n",
       "      <td>True</td>\n",
       "    </tr>\n",
       "  </tbody>\n",
       "</table>\n",
       "</div>"
      ],
      "text/plain": [
       "                     date_time           home_team          away_team  odd_home  odd_away  score_home  score_away overtime home_wins\n",
       "7604  2009-03-14T19:00:00.000Z          Miami Heat          Utah Jazz  0.016745 -0.071433         140         129     True      True\n",
       "3559  2012-11-22T02:30:00.000Z          Miami Heat    Milwaukee Bucks -0.044869  0.100391         113         106     True      True\n",
       "7177  2009-12-09T03:00:00.000Z       Chicago Bulls      Brooklyn Nets -0.030698 -0.009827         101         103    False     False\n",
       "3671  2012-12-19T05:30:00.000Z  Los Angeles Lakers  Charlotte Hornets -0.049798  0.239169         101         100    False      True\n",
       "6296  2010-04-27T02:30:00.000Z     Milwaukee Bucks      Atlanta Hawks  0.013664 -0.070514         111         104    False      True"
      ]
     },
     "execution_count": 412,
     "metadata": {},
     "output_type": "execute_result"
    }
   ],
   "source": [
    "X_train.head()"
   ]
  },
  {
   "cell_type": "code",
   "execution_count": 413,
   "metadata": {
    "collapsed": false
   },
   "outputs": [
    {
     "data": {
      "image/png": "[encoded data removed]",
      "text/plain": [
       "<matplotlib.figure.Figure at 0x7f0122bb7510>"
      ]
     },
     "metadata": {},
     "output_type": "display_data"
    }
   ],
   "source": [
    "plot_feature_space(X_train,'odd_home','odd_away')"
   ]
  },
  {
   "cell_type": "markdown",
   "metadata": {},
   "source": [
    "# Feature Mapping"
   ]
  },
  {
   "cell_type": "code",
   "execution_count": 414,
   "metadata": {
    "collapsed": false
   },
   "outputs": [
    {
     "data": {
      "text/html": [
       "<div>\n",
       "<table border=\"1\" class=\"dataframe\">\n",
       "  <thead>\n",
       "    <tr style=\"text-align: right;\">\n",
       "      <th></th>\n",
       "      <th>inverse_odd_home</th>\n",
       "    </tr>\n",
       "  </thead>\n",
       "  <tbody>\n",
       "    <tr>\n",
       "      <th>7604</th>\n",
       "      <td>59.718620</td>\n",
       "    </tr>\n",
       "    <tr>\n",
       "      <th>3559</th>\n",
       "      <td>-22.287054</td>\n",
       "    </tr>\n",
       "    <tr>\n",
       "      <th>7177</th>\n",
       "      <td>-32.575613</td>\n",
       "    </tr>\n",
       "    <tr>\n",
       "      <th>3671</th>\n",
       "      <td>-20.081030</td>\n",
       "    </tr>\n",
       "    <tr>\n",
       "      <th>6296</th>\n",
       "      <td>73.182433</td>\n",
       "    </tr>\n",
       "  </tbody>\n",
       "</table>\n",
       "</div>"
      ],
      "text/plain": [
       "      inverse_odd_home\n",
       "7604         59.718620\n",
       "3559        -22.287054\n",
       "7177        -32.575613\n",
       "3671        -20.081030\n",
       "6296         73.182433"
      ]
     },
     "execution_count": 414,
     "metadata": {},
     "output_type": "execute_result"
    }
   ],
   "source": [
    "x1 = pd.DataFrame(1/X_train['odd_home'])\n",
    "x1 = x1.rename(columns={'odd_home':'inverse_odd_home'})\n",
    "x1.head()"
   ]
  },
  {
   "cell_type": "code",
   "execution_count": 415,
   "metadata": {
    "collapsed": false
   },
   "outputs": [
    {
     "data": {
      "text/html": [
       "<div>\n",
       "<table border=\"1\" class=\"dataframe\">\n",
       "  <thead>\n",
       "    <tr style=\"text-align: right;\">\n",
       "      <th></th>\n",
       "      <th>date_time</th>\n",
       "      <th>home_team</th>\n",
       "      <th>away_team</th>\n",
       "      <th>odd_home</th>\n",
       "      <th>odd_away</th>\n",
       "      <th>score_home</th>\n",
       "      <th>score_away</th>\n",
       "      <th>overtime</th>\n",
       "      <th>home_wins</th>\n",
       "      <th>inverse_odd_home</th>\n",
       "    </tr>\n",
       "  </thead>\n",
       "  <tbody>\n",
       "    <tr>\n",
       "      <th>7604</th>\n",
       "      <td>2009-03-14T19:00:00.000Z</td>\n",
       "      <td>Miami Heat</td>\n",
       "      <td>Utah Jazz</td>\n",
       "      <td>0.016745</td>\n",
       "      <td>-0.071433</td>\n",
       "      <td>140</td>\n",
       "      <td>129</td>\n",
       "      <td>True</td>\n",
       "      <td>True</td>\n",
       "      <td>59.718620</td>\n",
       "    </tr>\n",
       "    <tr>\n",
       "      <th>3559</th>\n",
       "      <td>2012-11-22T02:30:00.000Z</td>\n",
       "      <td>Miami Heat</td>\n",
       "      <td>Milwaukee Bucks</td>\n",
       "      <td>-0.044869</td>\n",
       "      <td>0.100391</td>\n",
       "      <td>113</td>\n",
       "      <td>106</td>\n",
       "      <td>True</td>\n",
       "      <td>True</td>\n",
       "      <td>-22.287054</td>\n",
       "    </tr>\n",
       "    <tr>\n",
       "      <th>7177</th>\n",
       "      <td>2009-12-09T03:00:00.000Z</td>\n",
       "      <td>Chicago Bulls</td>\n",
       "      <td>Brooklyn Nets</td>\n",
       "      <td>-0.030698</td>\n",
       "      <td>-0.009827</td>\n",
       "      <td>101</td>\n",
       "      <td>103</td>\n",
       "      <td>False</td>\n",
       "      <td>False</td>\n",
       "      <td>-32.575613</td>\n",
       "    </tr>\n",
       "    <tr>\n",
       "      <th>3671</th>\n",
       "      <td>2012-12-19T05:30:00.000Z</td>\n",
       "      <td>Los Angeles Lakers</td>\n",
       "      <td>Charlotte Hornets</td>\n",
       "      <td>-0.049798</td>\n",
       "      <td>0.239169</td>\n",
       "      <td>101</td>\n",
       "      <td>100</td>\n",
       "      <td>False</td>\n",
       "      <td>True</td>\n",
       "      <td>-20.081030</td>\n",
       "    </tr>\n",
       "    <tr>\n",
       "      <th>6296</th>\n",
       "      <td>2010-04-27T02:30:00.000Z</td>\n",
       "      <td>Milwaukee Bucks</td>\n",
       "      <td>Atlanta Hawks</td>\n",
       "      <td>0.013664</td>\n",
       "      <td>-0.070514</td>\n",
       "      <td>111</td>\n",
       "      <td>104</td>\n",
       "      <td>False</td>\n",
       "      <td>True</td>\n",
       "      <td>73.182433</td>\n",
       "    </tr>\n",
       "  </tbody>\n",
       "</table>\n",
       "</div>"
      ],
      "text/plain": [
       "                     date_time           home_team          away_team  odd_home  odd_away  score_home  score_away overtime home_wins  inverse_odd_home\n",
       "7604  2009-03-14T19:00:00.000Z          Miami Heat          Utah Jazz  0.016745 -0.071433         140         129     True      True         59.718620\n",
       "3559  2012-11-22T02:30:00.000Z          Miami Heat    Milwaukee Bucks -0.044869  0.100391         113         106     True      True        -22.287054\n",
       "7177  2009-12-09T03:00:00.000Z       Chicago Bulls      Brooklyn Nets -0.030698 -0.009827         101         103    False     False        -32.575613\n",
       "3671  2012-12-19T05:30:00.000Z  Los Angeles Lakers  Charlotte Hornets -0.049798  0.239169         101         100    False      True        -20.081030\n",
       "6296  2010-04-27T02:30:00.000Z     Milwaukee Bucks      Atlanta Hawks  0.013664 -0.070514         111         104    False      True         73.182433"
      ]
     },
     "execution_count": 415,
     "metadata": {},
     "output_type": "execute_result"
    }
   ],
   "source": [
    "X_train_map = X_train\n",
    "X_train_map = pd.concat([X_train_map,x1],axis=1)\n",
    "X_train_map.head()"
   ]
  },
  {
   "cell_type": "code",
   "execution_count": 416,
   "metadata": {
    "collapsed": true
   },
   "outputs": [],
   "source": [
    "feature_scale(X_train_map,['inverse_odd_home']);"
   ]
  },
  {
   "cell_type": "code",
   "execution_count": 417,
   "metadata": {
    "collapsed": false
   },
   "outputs": [
    {
     "data": {
      "image/png": "[encoded data removed]",
      "text/plain": [
       "<matplotlib.figure.Figure at 0x7f0122233610>"
      ]
     },
     "metadata": {},
     "output_type": "display_data"
    }
   ],
   "source": [
    "plot_feature_space(X_train_map,'inverse_odd_home','odd_away')"
   ]
  },
  {
   "cell_type": "code",
   "execution_count": 418,
   "metadata": {
    "collapsed": false
   },
   "outputs": [
    {
     "data": {
      "text/html": [
       "<div>\n",
       "<table border=\"1\" class=\"dataframe\">\n",
       "  <thead>\n",
       "    <tr style=\"text-align: right;\">\n",
       "      <th></th>\n",
       "      <th>inverse_odd_away</th>\n",
       "    </tr>\n",
       "  </thead>\n",
       "  <tbody>\n",
       "    <tr>\n",
       "      <th>7604</th>\n",
       "      <td>-13.999214</td>\n",
       "    </tr>\n",
       "    <tr>\n",
       "      <th>3559</th>\n",
       "      <td>9.961012</td>\n",
       "    </tr>\n",
       "    <tr>\n",
       "      <th>7177</th>\n",
       "      <td>-101.757902</td>\n",
       "    </tr>\n",
       "    <tr>\n",
       "      <th>3671</th>\n",
       "      <td>4.181148</td>\n",
       "    </tr>\n",
       "    <tr>\n",
       "      <th>6296</th>\n",
       "      <td>-14.181493</td>\n",
       "    </tr>\n",
       "  </tbody>\n",
       "</table>\n",
       "</div>"
      ],
      "text/plain": [
       "      inverse_odd_away\n",
       "7604        -13.999214\n",
       "3559          9.961012\n",
       "7177       -101.757902\n",
       "3671          4.181148\n",
       "6296        -14.181493"
      ]
     },
     "execution_count": 418,
     "metadata": {},
     "output_type": "execute_result"
    }
   ],
   "source": [
    "x2 = pd.DataFrame(1/X_train['odd_away'])\n",
    "x2 = x2.rename(columns={'odd_away':'inverse_odd_away'})\n",
    "x2.head()"
   ]
  },
  {
   "cell_type": "code",
   "execution_count": 419,
   "metadata": {
    "collapsed": false
   },
   "outputs": [
    {
     "data": {
      "text/html": [
       "<div>\n",
       "<table border=\"1\" class=\"dataframe\">\n",
       "  <thead>\n",
       "    <tr style=\"text-align: right;\">\n",
       "      <th></th>\n",
       "      <th>date_time</th>\n",
       "      <th>home_team</th>\n",
       "      <th>away_team</th>\n",
       "      <th>odd_home</th>\n",
       "      <th>odd_away</th>\n",
       "      <th>score_home</th>\n",
       "      <th>score_away</th>\n",
       "      <th>overtime</th>\n",
       "      <th>home_wins</th>\n",
       "      <th>inverse_odd_home</th>\n",
       "      <th>inverse_odd_away</th>\n",
       "    </tr>\n",
       "  </thead>\n",
       "  <tbody>\n",
       "    <tr>\n",
       "      <th>7604</th>\n",
       "      <td>2009-03-14T19:00:00.000Z</td>\n",
       "      <td>Miami Heat</td>\n",
       "      <td>Utah Jazz</td>\n",
       "      <td>0.016745</td>\n",
       "      <td>-0.071433</td>\n",
       "      <td>140</td>\n",
       "      <td>129</td>\n",
       "      <td>True</td>\n",
       "      <td>True</td>\n",
       "      <td>0.005692</td>\n",
       "      <td>-13.999214</td>\n",
       "    </tr>\n",
       "    <tr>\n",
       "      <th>3559</th>\n",
       "      <td>2012-11-22T02:30:00.000Z</td>\n",
       "      <td>Miami Heat</td>\n",
       "      <td>Milwaukee Bucks</td>\n",
       "      <td>-0.044869</td>\n",
       "      <td>0.100391</td>\n",
       "      <td>113</td>\n",
       "      <td>106</td>\n",
       "      <td>True</td>\n",
       "      <td>True</td>\n",
       "      <td>-0.001683</td>\n",
       "      <td>9.961012</td>\n",
       "    </tr>\n",
       "    <tr>\n",
       "      <th>7177</th>\n",
       "      <td>2009-12-09T03:00:00.000Z</td>\n",
       "      <td>Chicago Bulls</td>\n",
       "      <td>Brooklyn Nets</td>\n",
       "      <td>-0.030698</td>\n",
       "      <td>-0.009827</td>\n",
       "      <td>101</td>\n",
       "      <td>103</td>\n",
       "      <td>False</td>\n",
       "      <td>False</td>\n",
       "      <td>-0.002608</td>\n",
       "      <td>-101.757902</td>\n",
       "    </tr>\n",
       "    <tr>\n",
       "      <th>3671</th>\n",
       "      <td>2012-12-19T05:30:00.000Z</td>\n",
       "      <td>Los Angeles Lakers</td>\n",
       "      <td>Charlotte Hornets</td>\n",
       "      <td>-0.049798</td>\n",
       "      <td>0.239169</td>\n",
       "      <td>101</td>\n",
       "      <td>100</td>\n",
       "      <td>False</td>\n",
       "      <td>True</td>\n",
       "      <td>-0.001485</td>\n",
       "      <td>4.181148</td>\n",
       "    </tr>\n",
       "    <tr>\n",
       "      <th>6296</th>\n",
       "      <td>2010-04-27T02:30:00.000Z</td>\n",
       "      <td>Milwaukee Bucks</td>\n",
       "      <td>Atlanta Hawks</td>\n",
       "      <td>0.013664</td>\n",
       "      <td>-0.070514</td>\n",
       "      <td>111</td>\n",
       "      <td>104</td>\n",
       "      <td>False</td>\n",
       "      <td>True</td>\n",
       "      <td>0.006903</td>\n",
       "      <td>-14.181493</td>\n",
       "    </tr>\n",
       "  </tbody>\n",
       "</table>\n",
       "</div>"
      ],
      "text/plain": [
       "                     date_time           home_team          away_team  odd_home  odd_away  score_home  score_away overtime home_wins  inverse_odd_home  inverse_odd_away\n",
       "7604  2009-03-14T19:00:00.000Z          Miami Heat          Utah Jazz  0.016745 -0.071433         140         129     True      True          0.005692        -13.999214\n",
       "3559  2012-11-22T02:30:00.000Z          Miami Heat    Milwaukee Bucks -0.044869  0.100391         113         106     True      True         -0.001683          9.961012\n",
       "7177  2009-12-09T03:00:00.000Z       Chicago Bulls      Brooklyn Nets -0.030698 -0.009827         101         103    False     False         -0.002608       -101.757902\n",
       "3671  2012-12-19T05:30:00.000Z  Los Angeles Lakers  Charlotte Hornets -0.049798  0.239169         101         100    False      True         -0.001485          4.181148\n",
       "6296  2010-04-27T02:30:00.000Z     Milwaukee Bucks      Atlanta Hawks  0.013664 -0.070514         111         104    False      True          0.006903        -14.181493"
      ]
     },
     "execution_count": 419,
     "metadata": {},
     "output_type": "execute_result"
    }
   ],
   "source": [
    "X_train_map = pd.concat([X_train_map,x2],axis=1)\n",
    "X_train_map.head()"
   ]
  },
  {
   "cell_type": "code",
   "execution_count": 420,
   "metadata": {
    "collapsed": false
   },
   "outputs": [
    {
     "data": {
      "image/png": "[encoded data removed]",
      "text/plain": [
       "<matplotlib.figure.Figure at 0x7f01200fe510>"
      ]
     },
     "metadata": {},
     "output_type": "display_data"
    }
   ],
   "source": [
    "feature_scale(X_train_map,['inverse_odd_away']);\n",
    "plot_feature_space(X_train_map,'odd_home','inverse_odd_away')"
   ]
  },
  {
   "cell_type": "code",
   "execution_count": 421,
   "metadata": {
    "collapsed": false
   },
   "outputs": [
    {
     "data": {
      "text/html": [
       "<div>\n",
       "<table border=\"1\" class=\"dataframe\">\n",
       "  <thead>\n",
       "    <tr style=\"text-align: right;\">\n",
       "      <th></th>\n",
       "      <th>square_odd_away</th>\n",
       "    </tr>\n",
       "  </thead>\n",
       "  <tbody>\n",
       "    <tr>\n",
       "      <th>7604</th>\n",
       "      <td>0.005103</td>\n",
       "    </tr>\n",
       "    <tr>\n",
       "      <th>3559</th>\n",
       "      <td>0.010078</td>\n",
       "    </tr>\n",
       "    <tr>\n",
       "      <th>7177</th>\n",
       "      <td>0.000097</td>\n",
       "    </tr>\n",
       "    <tr>\n",
       "      <th>3671</th>\n",
       "      <td>0.057202</td>\n",
       "    </tr>\n",
       "    <tr>\n",
       "      <th>6296</th>\n",
       "      <td>0.004972</td>\n",
       "    </tr>\n",
       "  </tbody>\n",
       "</table>\n",
       "</div>"
      ],
      "text/plain": [
       "      square_odd_away\n",
       "7604         0.005103\n",
       "3559         0.010078\n",
       "7177         0.000097\n",
       "3671         0.057202\n",
       "6296         0.004972"
      ]
     },
     "execution_count": 421,
     "metadata": {},
     "output_type": "execute_result"
    }
   ],
   "source": [
    "x3 = pd.DataFrame(X_train['odd_away']**2)\n",
    "x3 = x3.rename(columns={'odd_away':'square_odd_away'})\n",
    "x3.head()"
   ]
  },
  {
   "cell_type": "code",
   "execution_count": 422,
   "metadata": {
    "collapsed": false
   },
   "outputs": [
    {
     "data": {
      "image/png": "[encoded data removed]",
      "text/plain": [
       "<matplotlib.figure.Figure at 0x7f0121ffc3d0>"
      ]
     },
     "metadata": {},
     "output_type": "display_data"
    }
   ],
   "source": [
    "X_train_map = pd.concat([X_train_map,x3],axis=1)\n",
    "feature_scale(X_train_map,['square_odd_away']);\n",
    "plot_feature_space(X_train_map,'odd_home','square_odd_away')"
   ]
  },
  {
   "cell_type": "code",
   "execution_count": 423,
   "metadata": {
    "collapsed": false
   },
   "outputs": [
    {
     "data": {
      "text/html": [
       "<div>\n",
       "<table border=\"1\" class=\"dataframe\">\n",
       "  <thead>\n",
       "    <tr style=\"text-align: right;\">\n",
       "      <th></th>\n",
       "      <th>square_odd_home</th>\n",
       "    </tr>\n",
       "  </thead>\n",
       "  <tbody>\n",
       "    <tr>\n",
       "      <th>7604</th>\n",
       "      <td>0.000280</td>\n",
       "    </tr>\n",
       "    <tr>\n",
       "      <th>3559</th>\n",
       "      <td>0.002013</td>\n",
       "    </tr>\n",
       "    <tr>\n",
       "      <th>7177</th>\n",
       "      <td>0.000942</td>\n",
       "    </tr>\n",
       "    <tr>\n",
       "      <th>3671</th>\n",
       "      <td>0.002480</td>\n",
       "    </tr>\n",
       "    <tr>\n",
       "      <th>6296</th>\n",
       "      <td>0.000187</td>\n",
       "    </tr>\n",
       "  </tbody>\n",
       "</table>\n",
       "</div>"
      ],
      "text/plain": [
       "      square_odd_home\n",
       "7604         0.000280\n",
       "3559         0.002013\n",
       "7177         0.000942\n",
       "3671         0.002480\n",
       "6296         0.000187"
      ]
     },
     "execution_count": 423,
     "metadata": {},
     "output_type": "execute_result"
    }
   ],
   "source": [
    "x4 = pd.DataFrame(X_train['odd_home']**2)\n",
    "x4 = x4.rename(columns={'odd_home':'square_odd_home'})\n",
    "x4.head()"
   ]
  },
  {
   "cell_type": "code",
   "execution_count": 424,
   "metadata": {
    "collapsed": false
   },
   "outputs": [
    {
     "data": {
      "image/png": "[encoded data removed]",
      "text/plain": [
       "<matplotlib.figure.Figure at 0x7f01200ce310>"
      ]
     },
     "metadata": {},
     "output_type": "display_data"
    }
   ],
   "source": [
    "X_train_map = pd.concat([X_train_map,x4],axis=1)\n",
    "feature_scale(X_train_map,['square_odd_home']);\n",
    "plot_feature_space(X_train_map,'square_odd_home','square_odd_away')"
   ]
  },
  {
   "cell_type": "code",
   "execution_count": 425,
   "metadata": {
    "collapsed": false
   },
   "outputs": [
    {
     "data": {
      "text/html": [
       "<div>\n",
       "<table border=\"1\" class=\"dataframe\">\n",
       "  <thead>\n",
       "    <tr style=\"text-align: right;\">\n",
       "      <th></th>\n",
       "      <th>product_odds</th>\n",
       "    </tr>\n",
       "  </thead>\n",
       "  <tbody>\n",
       "    <tr>\n",
       "      <th>7604</th>\n",
       "      <td>-0.001196</td>\n",
       "    </tr>\n",
       "    <tr>\n",
       "      <th>3559</th>\n",
       "      <td>-0.004504</td>\n",
       "    </tr>\n",
       "    <tr>\n",
       "      <th>7177</th>\n",
       "      <td>0.000302</td>\n",
       "    </tr>\n",
       "    <tr>\n",
       "      <th>3671</th>\n",
       "      <td>-0.011910</td>\n",
       "    </tr>\n",
       "    <tr>\n",
       "      <th>6296</th>\n",
       "      <td>-0.000964</td>\n",
       "    </tr>\n",
       "  </tbody>\n",
       "</table>\n",
       "</div>"
      ],
      "text/plain": [
       "      product_odds\n",
       "7604     -0.001196\n",
       "3559     -0.004504\n",
       "7177      0.000302\n",
       "3671     -0.011910\n",
       "6296     -0.000964"
      ]
     },
     "execution_count": 425,
     "metadata": {},
     "output_type": "execute_result"
    }
   ],
   "source": [
    "x5 = pd.DataFrame(X_train['odd_home']*X_train['odd_away'])\n",
    "x5 = x5.rename(columns={0:'product_odds'})\n",
    "x5.head()"
   ]
  },
  {
   "cell_type": "code",
   "execution_count": 426,
   "metadata": {
    "collapsed": false
   },
   "outputs": [
    {
     "data": {
      "image/png": "[encoded data removed]",
      "text/plain": [
       "<matplotlib.figure.Figure at 0x7f012063bd50>"
      ]
     },
     "metadata": {},
     "output_type": "display_data"
    }
   ],
   "source": [
    "X_train_map = pd.concat([X_train_map,x5],axis=1)\n",
    "feature_scale(X_train_map,['product_odds']);\n",
    "plot_feature_space(X_train_map,'odd_home','product_odds')"
   ]
  },
  {
   "cell_type": "code",
   "execution_count": 427,
   "metadata": {
    "collapsed": false
   },
   "outputs": [
    {
     "data": {
      "image/png": "[encoded data removed]",
      "text/plain": [
       "<matplotlib.figure.Figure at 0x7f0122ff2210>"
      ]
     },
     "metadata": {},
     "output_type": "display_data"
    }
   ],
   "source": [
    "plot_feature_space(X_train_map,'square_odd_home','product_odds')"
   ]
  },
  {
   "cell_type": "code",
   "execution_count": 428,
   "metadata": {
    "collapsed": false
   },
   "outputs": [
    {
     "data": {
      "text/html": [
       "<div>\n",
       "<table border=\"1\" class=\"dataframe\">\n",
       "  <thead>\n",
       "    <tr style=\"text-align: right;\">\n",
       "      <th></th>\n",
       "      <th>date_time</th>\n",
       "      <th>home_team</th>\n",
       "      <th>away_team</th>\n",
       "      <th>odd_home</th>\n",
       "      <th>odd_away</th>\n",
       "      <th>score_home</th>\n",
       "      <th>score_away</th>\n",
       "      <th>overtime</th>\n",
       "      <th>home_wins</th>\n",
       "      <th>inverse_odd_home</th>\n",
       "      <th>inverse_odd_away</th>\n",
       "      <th>square_odd_away</th>\n",
       "      <th>square_odd_home</th>\n",
       "      <th>product_odds</th>\n",
       "    </tr>\n",
       "  </thead>\n",
       "  <tbody>\n",
       "    <tr>\n",
       "      <th>7604</th>\n",
       "      <td>2009-03-14T19:00:00.000Z</td>\n",
       "      <td>Miami Heat</td>\n",
       "      <td>Utah Jazz</td>\n",
       "      <td>0.016745</td>\n",
       "      <td>-0.071433</td>\n",
       "      <td>140</td>\n",
       "      <td>129</td>\n",
       "      <td>True</td>\n",
       "      <td>True</td>\n",
       "      <td>0.005692</td>\n",
       "      <td>0.001308</td>\n",
       "      <td>-0.009118</td>\n",
       "      <td>-0.004849</td>\n",
       "      <td>0.023692</td>\n",
       "    </tr>\n",
       "    <tr>\n",
       "      <th>3559</th>\n",
       "      <td>2012-11-22T02:30:00.000Z</td>\n",
       "      <td>Miami Heat</td>\n",
       "      <td>Milwaukee Bucks</td>\n",
       "      <td>-0.044869</td>\n",
       "      <td>0.100391</td>\n",
       "      <td>113</td>\n",
       "      <td>106</td>\n",
       "      <td>True</td>\n",
       "      <td>True</td>\n",
       "      <td>-0.001683</td>\n",
       "      <td>0.001546</td>\n",
       "      <td>-0.002939</td>\n",
       "      <td>-0.002912</td>\n",
       "      <td>-0.010065</td>\n",
       "    </tr>\n",
       "    <tr>\n",
       "      <th>7177</th>\n",
       "      <td>2009-12-09T03:00:00.000Z</td>\n",
       "      <td>Chicago Bulls</td>\n",
       "      <td>Brooklyn Nets</td>\n",
       "      <td>-0.030698</td>\n",
       "      <td>-0.009827</td>\n",
       "      <td>101</td>\n",
       "      <td>103</td>\n",
       "      <td>False</td>\n",
       "      <td>False</td>\n",
       "      <td>-0.002608</td>\n",
       "      <td>0.000433</td>\n",
       "      <td>-0.015335</td>\n",
       "      <td>-0.004109</td>\n",
       "      <td>0.038975</td>\n",
       "    </tr>\n",
       "    <tr>\n",
       "      <th>3671</th>\n",
       "      <td>2012-12-19T05:30:00.000Z</td>\n",
       "      <td>Los Angeles Lakers</td>\n",
       "      <td>Charlotte Hornets</td>\n",
       "      <td>-0.049798</td>\n",
       "      <td>0.239169</td>\n",
       "      <td>101</td>\n",
       "      <td>100</td>\n",
       "      <td>False</td>\n",
       "      <td>True</td>\n",
       "      <td>-0.001485</td>\n",
       "      <td>0.001489</td>\n",
       "      <td>0.055581</td>\n",
       "      <td>-0.002390</td>\n",
       "      <td>-0.085629</td>\n",
       "    </tr>\n",
       "    <tr>\n",
       "      <th>6296</th>\n",
       "      <td>2010-04-27T02:30:00.000Z</td>\n",
       "      <td>Milwaukee Bucks</td>\n",
       "      <td>Atlanta Hawks</td>\n",
       "      <td>0.013664</td>\n",
       "      <td>-0.070514</td>\n",
       "      <td>111</td>\n",
       "      <td>104</td>\n",
       "      <td>False</td>\n",
       "      <td>True</td>\n",
       "      <td>0.006903</td>\n",
       "      <td>0.001306</td>\n",
       "      <td>-0.009280</td>\n",
       "      <td>-0.004953</td>\n",
       "      <td>0.026065</td>\n",
       "    </tr>\n",
       "  </tbody>\n",
       "</table>\n",
       "</div>"
      ],
      "text/plain": [
       "                     date_time           home_team          away_team  odd_home  odd_away  score_home  score_away overtime home_wins  inverse_odd_home  inverse_odd_away  square_odd_away  square_odd_home  product_odds\n",
       "7604  2009-03-14T19:00:00.000Z          Miami Heat          Utah Jazz  0.016745 -0.071433         140         129     True      True          0.005692          0.001308        -0.009118        -0.004849      0.023692\n",
       "3559  2012-11-22T02:30:00.000Z          Miami Heat    Milwaukee Bucks -0.044869  0.100391         113         106     True      True         -0.001683          0.001546        -0.002939        -0.002912     -0.010065\n",
       "7177  2009-12-09T03:00:00.000Z       Chicago Bulls      Brooklyn Nets -0.030698 -0.009827         101         103    False     False         -0.002608          0.000433        -0.015335        -0.004109      0.038975\n",
       "3671  2012-12-19T05:30:00.000Z  Los Angeles Lakers  Charlotte Hornets -0.049798  0.239169         101         100    False      True         -0.001485          0.001489         0.055581        -0.002390     -0.085629\n",
       "6296  2010-04-27T02:30:00.000Z     Milwaukee Bucks      Atlanta Hawks  0.013664 -0.070514         111         104    False      True          0.006903          0.001306        -0.009280        -0.004953      0.026065"
      ]
     },
     "execution_count": 428,
     "metadata": {},
     "output_type": "execute_result"
    }
   ],
   "source": [
    "X_train_map.head()"
   ]
  },
  {
   "cell_type": "code",
   "execution_count": 447,
   "metadata": {
    "collapsed": true
   },
   "outputs": [],
   "source": [
    "def odds_feature_mapping(X):\n",
    "    x0 = pd.DataFrame(X['odd_away']-X['odd_home'])\n",
    "    x0 = x0.rename(columns={0:'difference_odds'})\n",
    "    x1 = pd.DataFrame(1/X['odd_home'])\n",
    "    x1 = x1.rename(columns={'odd_home':'inverse_odd_home'})\n",
    "    x2 = pd.DataFrame(1/X['odd_away'])\n",
    "    x2 = x2.rename(columns={'odd_away':'inverse_odd_away'})\n",
    "    x3 = pd.DataFrame(X['odd_away']**2)\n",
    "    x3 = x3.rename(columns={'odd_away':'square_odd_away'})\n",
    "    x4 = pd.DataFrame(X['odd_home']**2)\n",
    "    x4 = x4.rename(columns={'odd_home':'square_odd_home'})\n",
    "    x5 = pd.DataFrame(X['odd_home']*X['odd_away'])\n",
    "    x5 = x5.rename(columns={0:'product_odds'})\n",
    "    X_mapped = pd.concat([X,x0,x1,x2,x4,x3,x5],axis=1)\n",
    "    feature_scale(X_mapped,['odd_home','odd_away','difference_odds','inverse_odd_home',\n",
    "                            'inverse_odd_away','square_odd_home','square_odd_away','product_odds']);\n",
    "    return X_mapped"
   ]
  },
  {
   "cell_type": "code",
   "execution_count": 448,
   "metadata": {
    "collapsed": false
   },
   "outputs": [],
   "source": [
    "X_train_map = odds_feature_mapping(X_train)"
   ]
  },
  {
   "cell_type": "code",
   "execution_count": 449,
   "metadata": {
    "collapsed": false
   },
   "outputs": [
    {
     "data": {
      "text/html": [
       "<div>\n",
       "<table border=\"1\" class=\"dataframe\">\n",
       "  <thead>\n",
       "    <tr style=\"text-align: right;\">\n",
       "      <th></th>\n",
       "      <th>date_time</th>\n",
       "      <th>home_team</th>\n",
       "      <th>away_team</th>\n",
       "      <th>odd_home</th>\n",
       "      <th>odd_away</th>\n",
       "      <th>score_home</th>\n",
       "      <th>score_away</th>\n",
       "      <th>overtime</th>\n",
       "      <th>home_wins</th>\n",
       "      <th>difference_odds</th>\n",
       "      <th>inverse_odd_home</th>\n",
       "      <th>inverse_odd_away</th>\n",
       "      <th>square_odd_home</th>\n",
       "      <th>square_odd_away</th>\n",
       "      <th>product_odds</th>\n",
       "    </tr>\n",
       "  </thead>\n",
       "  <tbody>\n",
       "    <tr>\n",
       "      <th>7604</th>\n",
       "      <td>2009-03-14T19:00:00.000Z</td>\n",
       "      <td>Miami Heat</td>\n",
       "      <td>Utah Jazz</td>\n",
       "      <td>0.016745</td>\n",
       "      <td>-0.071433</td>\n",
       "      <td>140</td>\n",
       "      <td>129</td>\n",
       "      <td>True</td>\n",
       "      <td>True</td>\n",
       "      <td>-0.044089</td>\n",
       "      <td>0.005692</td>\n",
       "      <td>0.001308</td>\n",
       "      <td>-0.004849</td>\n",
       "      <td>-0.009118</td>\n",
       "      <td>0.023692</td>\n",
       "    </tr>\n",
       "    <tr>\n",
       "      <th>3559</th>\n",
       "      <td>2012-11-22T02:30:00.000Z</td>\n",
       "      <td>Miami Heat</td>\n",
       "      <td>Milwaukee Bucks</td>\n",
       "      <td>-0.044869</td>\n",
       "      <td>0.100391</td>\n",
       "      <td>113</td>\n",
       "      <td>106</td>\n",
       "      <td>True</td>\n",
       "      <td>True</td>\n",
       "      <td>0.072630</td>\n",
       "      <td>-0.001683</td>\n",
       "      <td>0.001546</td>\n",
       "      <td>-0.002912</td>\n",
       "      <td>-0.002939</td>\n",
       "      <td>-0.010065</td>\n",
       "    </tr>\n",
       "    <tr>\n",
       "      <th>7177</th>\n",
       "      <td>2009-12-09T03:00:00.000Z</td>\n",
       "      <td>Chicago Bulls</td>\n",
       "      <td>Brooklyn Nets</td>\n",
       "      <td>-0.030698</td>\n",
       "      <td>-0.009827</td>\n",
       "      <td>101</td>\n",
       "      <td>103</td>\n",
       "      <td>False</td>\n",
       "      <td>False</td>\n",
       "      <td>0.010435</td>\n",
       "      <td>-0.002608</td>\n",
       "      <td>0.000433</td>\n",
       "      <td>-0.004109</td>\n",
       "      <td>-0.015335</td>\n",
       "      <td>0.038975</td>\n",
       "    </tr>\n",
       "    <tr>\n",
       "      <th>3671</th>\n",
       "      <td>2012-12-19T05:30:00.000Z</td>\n",
       "      <td>Los Angeles Lakers</td>\n",
       "      <td>Charlotte Hornets</td>\n",
       "      <td>-0.049798</td>\n",
       "      <td>0.239169</td>\n",
       "      <td>101</td>\n",
       "      <td>100</td>\n",
       "      <td>False</td>\n",
       "      <td>True</td>\n",
       "      <td>0.144483</td>\n",
       "      <td>-0.001485</td>\n",
       "      <td>0.001489</td>\n",
       "      <td>-0.002390</td>\n",
       "      <td>0.055581</td>\n",
       "      <td>-0.085629</td>\n",
       "    </tr>\n",
       "    <tr>\n",
       "      <th>6296</th>\n",
       "      <td>2010-04-27T02:30:00.000Z</td>\n",
       "      <td>Milwaukee Bucks</td>\n",
       "      <td>Atlanta Hawks</td>\n",
       "      <td>0.013664</td>\n",
       "      <td>-0.070514</td>\n",
       "      <td>111</td>\n",
       "      <td>104</td>\n",
       "      <td>False</td>\n",
       "      <td>True</td>\n",
       "      <td>-0.042089</td>\n",
       "      <td>0.006903</td>\n",
       "      <td>0.001306</td>\n",
       "      <td>-0.004953</td>\n",
       "      <td>-0.009280</td>\n",
       "      <td>0.026065</td>\n",
       "    </tr>\n",
       "  </tbody>\n",
       "</table>\n",
       "</div>"
      ],
      "text/plain": [
       "                     date_time           home_team          away_team  odd_home  odd_away  score_home  score_away overtime home_wins  difference_odds  inverse_odd_home  inverse_odd_away  square_odd_home  square_odd_away  product_odds\n",
       "7604  2009-03-14T19:00:00.000Z          Miami Heat          Utah Jazz  0.016745 -0.071433         140         129     True      True        -0.044089          0.005692          0.001308        -0.004849        -0.009118      0.023692\n",
       "3559  2012-11-22T02:30:00.000Z          Miami Heat    Milwaukee Bucks -0.044869  0.100391         113         106     True      True         0.072630         -0.001683          0.001546        -0.002912        -0.002939     -0.010065\n",
       "7177  2009-12-09T03:00:00.000Z       Chicago Bulls      Brooklyn Nets -0.030698 -0.009827         101         103    False     False         0.010435         -0.002608          0.000433        -0.004109        -0.015335      0.038975\n",
       "3671  2012-12-19T05:30:00.000Z  Los Angeles Lakers  Charlotte Hornets -0.049798  0.239169         101         100    False      True         0.144483         -0.001485          0.001489        -0.002390         0.055581     -0.085629\n",
       "6296  2010-04-27T02:30:00.000Z     Milwaukee Bucks      Atlanta Hawks  0.013664 -0.070514         111         104    False      True        -0.042089          0.006903          0.001306        -0.004953        -0.009280      0.026065"
      ]
     },
     "execution_count": 449,
     "metadata": {},
     "output_type": "execute_result"
    }
   ],
   "source": [
    "X_train_map.head()"
   ]
  },
  {
   "cell_type": "markdown",
   "metadata": {},
   "source": [
    "# Logistic Regression"
   ]
  },
  {
   "cell_type": "code",
   "execution_count": 432,
   "metadata": {
    "collapsed": true
   },
   "outputs": [],
   "source": [
    "from sklearn.linear_model import LogisticRegression"
   ]
  },
  {
   "cell_type": "code",
   "execution_count": 433,
   "metadata": {
    "collapsed": true
   },
   "outputs": [],
   "source": [
    "classifier = LogisticRegression()"
   ]
  },
  {
   "cell_type": "code",
   "execution_count": 454,
   "metadata": {
    "collapsed": false
   },
   "outputs": [
    {
     "data": {
      "text/plain": [
       "LogisticRegression(C=1.0, class_weight=None, dual=False, fit_intercept=True,\n",
       "          intercept_scaling=1, max_iter=100, multi_class='ovr', n_jobs=1,\n",
       "          penalty='l2', random_state=None, solver='liblinear', tol=0.0001,\n",
       "          verbose=0, warm_start=False)"
      ]
     },
     "execution_count": 454,
     "metadata": {},
     "output_type": "execute_result"
    }
   ],
   "source": [
    "fit_features = ['odd_home','odd_away','difference_odds','inverse_odd_home','inverse_odd_away',\n",
    "                'square_odd_home','square_odd_away','product_odds']\n",
    "X = X_train_map[fit_features]\n",
    "y = X_train_map['home_wins']\n",
    "classifier.fit(X ,y)"
   ]
  },
  {
   "cell_type": "code",
   "execution_count": 455,
   "metadata": {
    "collapsed": false
   },
   "outputs": [
    {
     "data": {
      "text/plain": [
       "0.68725270944434891"
      ]
     },
     "execution_count": 455,
     "metadata": {},
     "output_type": "execute_result"
    }
   ],
   "source": [
    "classifier.score(X,y)"
   ]
  },
  {
   "cell_type": "code",
   "execution_count": 435,
   "metadata": {
    "collapsed": false
   },
   "outputs": [
    {
     "data": {
      "text/html": [
       "<div>\n",
       "<table border=\"1\" class=\"dataframe\">\n",
       "  <thead>\n",
       "    <tr style=\"text-align: right;\">\n",
       "      <th></th>\n",
       "      <th>date_time</th>\n",
       "      <th>home_team</th>\n",
       "      <th>away_team</th>\n",
       "      <th>odd_home</th>\n",
       "      <th>odd_away</th>\n",
       "      <th>score_home</th>\n",
       "      <th>score_away</th>\n",
       "      <th>overtime</th>\n",
       "      <th>home_wins</th>\n",
       "    </tr>\n",
       "  </thead>\n",
       "  <tbody>\n",
       "    <tr>\n",
       "      <th>175</th>\n",
       "      <td>2015-03-26T03:00:00.000Z</td>\n",
       "      <td>Utah Jazz</td>\n",
       "      <td>Portland Trail Blazers</td>\n",
       "      <td>1.80</td>\n",
       "      <td>2.040000</td>\n",
       "      <td>89</td>\n",
       "      <td>92</td>\n",
       "      <td>False</td>\n",
       "      <td>False</td>\n",
       "    </tr>\n",
       "    <tr>\n",
       "      <th>7214</th>\n",
       "      <td>2009-12-03T05:30:00.000Z</td>\n",
       "      <td>Los Angeles Clippers</td>\n",
       "      <td>Houston Rockets</td>\n",
       "      <td>2.16</td>\n",
       "      <td>1.720000</td>\n",
       "      <td>85</td>\n",
       "      <td>102</td>\n",
       "      <td>False</td>\n",
       "      <td>False</td>\n",
       "    </tr>\n",
       "    <tr>\n",
       "      <th>4501</th>\n",
       "      <td>2012-02-15T05:00:00.000Z</td>\n",
       "      <td>Portland Trail Blazers</td>\n",
       "      <td>Washington Wizards</td>\n",
       "      <td>1.03</td>\n",
       "      <td>14.000000</td>\n",
       "      <td>109</td>\n",
       "      <td>124</td>\n",
       "      <td>False</td>\n",
       "      <td>False</td>\n",
       "    </tr>\n",
       "    <tr>\n",
       "      <th>7514</th>\n",
       "      <td>2009-03-29T21:30:00.000Z</td>\n",
       "      <td>Atlanta Hawks</td>\n",
       "      <td>Los Angeles Lakers</td>\n",
       "      <td>2.42</td>\n",
       "      <td>1.581395</td>\n",
       "      <td>86</td>\n",
       "      <td>76</td>\n",
       "      <td>False</td>\n",
       "      <td>True</td>\n",
       "    </tr>\n",
       "    <tr>\n",
       "      <th>427</th>\n",
       "      <td>2015-03-03T02:30:00.000Z</td>\n",
       "      <td>Miami Heat</td>\n",
       "      <td>Phoenix Suns</td>\n",
       "      <td>1.79</td>\n",
       "      <td>2.080000</td>\n",
       "      <td>115</td>\n",
       "      <td>98</td>\n",
       "      <td>False</td>\n",
       "      <td>True</td>\n",
       "    </tr>\n",
       "  </tbody>\n",
       "</table>\n",
       "</div>"
      ],
      "text/plain": [
       "                     date_time               home_team               away_team  odd_home   odd_away  score_home  score_away overtime home_wins\n",
       "175   2015-03-26T03:00:00.000Z               Utah Jazz  Portland Trail Blazers      1.80   2.040000          89          92    False     False\n",
       "7214  2009-12-03T05:30:00.000Z    Los Angeles Clippers         Houston Rockets      2.16   1.720000          85         102    False     False\n",
       "4501  2012-02-15T05:00:00.000Z  Portland Trail Blazers      Washington Wizards      1.03  14.000000         109         124    False     False\n",
       "7514  2009-03-29T21:30:00.000Z           Atlanta Hawks      Los Angeles Lakers      2.42   1.581395          86          76    False      True\n",
       "427   2015-03-03T02:30:00.000Z              Miami Heat            Phoenix Suns      1.79   2.080000         115          98    False      True"
      ]
     },
     "execution_count": 435,
     "metadata": {},
     "output_type": "execute_result"
    }
   ],
   "source": [
    "X_test.head()"
   ]
  },
  {
   "cell_type": "code",
   "execution_count": 452,
   "metadata": {
    "collapsed": true
   },
   "outputs": [],
   "source": [
    "X_test_map = odds_feature_mapping(X_test)"
   ]
  },
  {
   "cell_type": "code",
   "execution_count": 453,
   "metadata": {
    "collapsed": false
   },
   "outputs": [
    {
     "data": {
      "text/html": [
       "<div>\n",
       "<table border=\"1\" class=\"dataframe\">\n",
       "  <thead>\n",
       "    <tr style=\"text-align: right;\">\n",
       "      <th></th>\n",
       "      <th>date_time</th>\n",
       "      <th>home_team</th>\n",
       "      <th>away_team</th>\n",
       "      <th>odd_home</th>\n",
       "      <th>odd_away</th>\n",
       "      <th>score_home</th>\n",
       "      <th>score_away</th>\n",
       "      <th>overtime</th>\n",
       "      <th>home_wins</th>\n",
       "      <th>difference_odds</th>\n",
       "      <th>inverse_odd_home</th>\n",
       "      <th>inverse_odd_away</th>\n",
       "      <th>square_odd_home</th>\n",
       "      <th>square_odd_away</th>\n",
       "      <th>product_odds</th>\n",
       "    </tr>\n",
       "  </thead>\n",
       "  <tbody>\n",
       "    <tr>\n",
       "      <th>175</th>\n",
       "      <td>2015-03-26T03:00:00.000Z</td>\n",
       "      <td>Utah Jazz</td>\n",
       "      <td>Portland Trail Blazers</td>\n",
       "      <td>-0.001929</td>\n",
       "      <td>-0.068376</td>\n",
       "      <td>89</td>\n",
       "      <td>92</td>\n",
       "      <td>False</td>\n",
       "      <td>False</td>\n",
       "      <td>-0.043710</td>\n",
       "      <td>-0.085763</td>\n",
       "      <td>0.086568</td>\n",
       "      <td>-0.006404</td>\n",
       "      <td>-0.032409</td>\n",
       "      <td>-0.074413</td>\n",
       "    </tr>\n",
       "    <tr>\n",
       "      <th>7214</th>\n",
       "      <td>2009-12-03T05:30:00.000Z</td>\n",
       "      <td>Los Angeles Clippers</td>\n",
       "      <td>Houston Rockets</td>\n",
       "      <td>0.031129</td>\n",
       "      <td>-0.084257</td>\n",
       "      <td>85</td>\n",
       "      <td>102</td>\n",
       "      <td>False</td>\n",
       "      <td>False</td>\n",
       "      <td>-0.065617</td>\n",
       "      <td>-0.187955</td>\n",
       "      <td>0.186310</td>\n",
       "      <td>0.003736</td>\n",
       "      <td>-0.035095</td>\n",
       "      <td>-0.072026</td>\n",
       "    </tr>\n",
       "    <tr>\n",
       "      <th>4501</th>\n",
       "      <td>2012-02-15T05:00:00.000Z</td>\n",
       "      <td>Portland Trail Blazers</td>\n",
       "      <td>Washington Wizards</td>\n",
       "      <td>-0.072636</td>\n",
       "      <td>0.525173</td>\n",
       "      <td>109</td>\n",
       "      <td>124</td>\n",
       "      <td>False</td>\n",
       "      <td>False</td>\n",
       "      <td>0.366406</td>\n",
       "      <td>0.372612</td>\n",
       "      <td>-0.371429</td>\n",
       "      <td>-0.021904</td>\n",
       "      <td>0.395865</td>\n",
       "      <td>0.519337</td>\n",
       "    </tr>\n",
       "    <tr>\n",
       "      <th>7514</th>\n",
       "      <td>2009-03-29T21:30:00.000Z</td>\n",
       "      <td>Atlanta Hawks</td>\n",
       "      <td>Los Angeles Lakers</td>\n",
       "      <td>0.055004</td>\n",
       "      <td>-0.091135</td>\n",
       "      <td>86</td>\n",
       "      <td>76</td>\n",
       "      <td>False</td>\n",
       "      <td>True</td>\n",
       "      <td>-0.078459</td>\n",
       "      <td>-0.242852</td>\n",
       "      <td>0.242042</td>\n",
       "      <td>0.012206</td>\n",
       "      <td>-0.036116</td>\n",
       "      <td>-0.065851</td>\n",
       "    </tr>\n",
       "    <tr>\n",
       "      <th>427</th>\n",
       "      <td>2015-03-03T02:30:00.000Z</td>\n",
       "      <td>Miami Heat</td>\n",
       "      <td>Phoenix Suns</td>\n",
       "      <td>-0.002847</td>\n",
       "      <td>-0.066391</td>\n",
       "      <td>115</td>\n",
       "      <td>98</td>\n",
       "      <td>False</td>\n",
       "      <td>True</td>\n",
       "      <td>-0.042099</td>\n",
       "      <td>-0.082338</td>\n",
       "      <td>0.076258</td>\n",
       "      <td>-0.006659</td>\n",
       "      <td>-0.032041</td>\n",
       "      <td>-0.071584</td>\n",
       "    </tr>\n",
       "  </tbody>\n",
       "</table>\n",
       "</div>"
      ],
      "text/plain": [
       "                     date_time               home_team               away_team  odd_home  odd_away  score_home  score_away overtime home_wins  difference_odds  inverse_odd_home  inverse_odd_away  square_odd_home  square_odd_away  product_odds\n",
       "175   2015-03-26T03:00:00.000Z               Utah Jazz  Portland Trail Blazers -0.001929 -0.068376          89          92    False     False        -0.043710         -0.085763          0.086568        -0.006404        -0.032409     -0.074413\n",
       "7214  2009-12-03T05:30:00.000Z    Los Angeles Clippers         Houston Rockets  0.031129 -0.084257          85         102    False     False        -0.065617         -0.187955          0.186310         0.003736        -0.035095     -0.072026\n",
       "4501  2012-02-15T05:00:00.000Z  Portland Trail Blazers      Washington Wizards -0.072636  0.525173         109         124    False     False         0.366406          0.372612         -0.371429        -0.021904         0.395865      0.519337\n",
       "7514  2009-03-29T21:30:00.000Z           Atlanta Hawks      Los Angeles Lakers  0.055004 -0.091135          86          76    False      True        -0.078459         -0.242852          0.242042         0.012206        -0.036116     -0.065851\n",
       "427   2015-03-03T02:30:00.000Z              Miami Heat            Phoenix Suns -0.002847 -0.066391         115          98    False      True        -0.042099         -0.082338          0.076258        -0.006659        -0.032041     -0.071584"
      ]
     },
     "execution_count": 453,
     "metadata": {},
     "output_type": "execute_result"
    }
   ],
   "source": [
    "X_test_map.head()"
   ]
  },
  {
   "cell_type": "code",
   "execution_count": 456,
   "metadata": {
    "collapsed": false
   },
   "outputs": [
    {
     "data": {
      "text/plain": [
       "array([False, False,  True, ...,  True,  True, False], dtype=bool)"
      ]
     },
     "execution_count": 456,
     "metadata": {},
     "output_type": "execute_result"
    }
   ],
   "source": [
    "X = X_test_map[fit_features]\n",
    "classifier.predict(X)"
   ]
  },
  {
   "cell_type": "code",
   "execution_count": 457,
   "metadata": {
    "collapsed": false
   },
   "outputs": [
    {
     "data": {
      "text/plain": [
       "0.69931754315535932"
      ]
     },
     "execution_count": 457,
     "metadata": {},
     "output_type": "execute_result"
    }
   ],
   "source": [
    "X = X_test_map[fit_features]\n",
    "y = X_test_map['home_wins']\n",
    "classifier.score(X,y)"
   ]
  },
  {
   "cell_type": "markdown",
   "metadata": {},
   "source": [
    "Même après le feature mapping, on plafonne toujours à 70%"
   ]
  },
  {
   "cell_type": "markdown",
   "metadata": {},
   "source": [
    "# Random Forest"
   ]
  },
  {
   "cell_type": "code",
   "execution_count": 458,
   "metadata": {
    "collapsed": true
   },
   "outputs": [],
   "source": [
    "from sklearn.ensemble import RandomForestClassifier"
   ]
  },
  {
   "cell_type": "code",
   "execution_count": 459,
   "metadata": {
    "collapsed": false
   },
   "outputs": [],
   "source": [
    "classifier = RandomForestClassifier()"
   ]
  },
  {
   "cell_type": "code",
   "execution_count": 464,
   "metadata": {
    "collapsed": false
   },
   "outputs": [
    {
     "data": {
      "text/plain": [
       "RandomForestClassifier(bootstrap=True, class_weight=None, criterion='gini',\n",
       "            max_depth=None, max_features='auto', max_leaf_nodes=None,\n",
       "            min_samples_leaf=1, min_samples_split=2,\n",
       "            min_weight_fraction_leaf=0.0, n_estimators=10, n_jobs=1,\n",
       "            oob_score=False, random_state=None, verbose=0,\n",
       "            warm_start=False)"
      ]
     },
     "execution_count": 464,
     "metadata": {},
     "output_type": "execute_result"
    }
   ],
   "source": [
    "fit_features = ['odd_home','odd_away','difference_odds','inverse_odd_home','inverse_odd_away',\n",
    "                'square_odd_home','square_odd_away','product_odds']\n",
    "X = X_train_map[fit_features]\n",
    "y = X_train_map['home_wins']\n",
    "classifier.fit(X ,y)"
   ]
  },
  {
   "cell_type": "code",
   "execution_count": 465,
   "metadata": {
    "collapsed": false
   },
   "outputs": [
    {
     "data": {
      "text/plain": [
       "0.55038137294259337"
      ]
     },
     "execution_count": 465,
     "metadata": {},
     "output_type": "execute_result"
    }
   ],
   "source": [
    "X = X_test_map[fit_features]\n",
    "y = X_test_map['home_wins']\n",
    "classifier.score(X,y)"
   ]
  },
  {
   "cell_type": "markdown",
   "metadata": {},
   "source": [
    "Les résultats d'une random forest sont encore pires"
   ]
  },
  {
   "cell_type": "markdown",
   "metadata": {},
   "source": [
    "# SVM"
   ]
  },
  {
   "cell_type": "code",
   "execution_count": 466,
   "metadata": {
    "collapsed": true
   },
   "outputs": [],
   "source": [
    "from sklearn import svm"
   ]
  },
  {
   "cell_type": "code",
   "execution_count": 481,
   "metadata": {
    "collapsed": false
   },
   "outputs": [],
   "source": [
    "classifier = svm.SVC(kernel='rbf')"
   ]
  },
  {
   "cell_type": "code",
   "execution_count": 482,
   "metadata": {
    "collapsed": false
   },
   "outputs": [
    {
     "data": {
      "text/plain": [
       "SVC(C=1.0, cache_size=200, class_weight=None, coef0=0.0,\n",
       "  decision_function_shape=None, degree=3, gamma='auto', kernel='rbf',\n",
       "  max_iter=-1, probability=False, random_state=None, shrinking=True,\n",
       "  tol=0.001, verbose=False)"
      ]
     },
     "execution_count": 482,
     "metadata": {},
     "output_type": "execute_result"
    }
   ],
   "source": [
    "X = X_train_map[fit_features]\n",
    "y = X_train_map['home_wins']\n",
    "classifier.fit(X ,y)"
   ]
  },
  {
   "cell_type": "code",
   "execution_count": 483,
   "metadata": {
    "collapsed": false
   },
   "outputs": [
    {
     "data": {
      "text/plain": [
       "0.65274989963869934"
      ]
     },
     "execution_count": 483,
     "metadata": {},
     "output_type": "execute_result"
    }
   ],
   "source": [
    "X = X_test_map[fit_features]\n",
    "y = X_test_map['home_wins']\n",
    "classifier.score(X,y)"
   ]
  },
  {
   "cell_type": "markdown",
   "metadata": {},
   "source": [
    "The SVM with radial basis function kernel performs less good than SVM with linear"
   ]
  },
  {
   "cell_type": "markdown",
   "metadata": {},
   "source": [
    "# Regularization"
   ]
  },
  {
   "cell_type": "code",
   "execution_count": 500,
   "metadata": {
    "collapsed": false
   },
   "outputs": [
    {
     "data": {
      "text/plain": [
       "[0.01, 0.02, 0.04, 0.08, 0.16, 0.32, 0.64, 1.28, 2.56, 5.12, 10.24]"
      ]
     },
     "execution_count": 500,
     "metadata": {},
     "output_type": "execute_result"
    }
   ],
   "source": [
    "lambada = [0.01]\n",
    "for n in range(10):\n",
    "    lambada.append(2*lambada[len(lambada)-1])\n",
    "lambada"
   ]
  },
  {
   "cell_type": "code",
   "execution_count": 501,
   "metadata": {
    "collapsed": false
   },
   "outputs": [],
   "source": [
    "lambada = np.array(lambada)"
   ]
  },
  {
   "cell_type": "code",
   "execution_count": 502,
   "metadata": {
    "collapsed": true
   },
   "outputs": [],
   "source": [
    "C = 1/lambada"
   ]
  },
  {
   "cell_type": "code",
   "execution_count": 503,
   "metadata": {
    "collapsed": false
   },
   "outputs": [
    {
     "data": {
      "text/plain": [
       "array([  1.00000000e+02,   5.00000000e+01,   2.50000000e+01,\n",
       "         1.25000000e+01,   6.25000000e+00,   3.12500000e+00,\n",
       "         1.56250000e+00,   7.81250000e-01,   3.90625000e-01,\n",
       "         1.95312500e-01,   9.76562500e-02])"
      ]
     },
     "execution_count": 503,
     "metadata": {},
     "output_type": "execute_result"
    }
   ],
   "source": [
    "C"
   ]
  },
  {
   "cell_type": "code",
   "execution_count": 506,
   "metadata": {
    "collapsed": false
   },
   "outputs": [],
   "source": [
    "scores=np.zeros(11)\n",
    "for i in range(11):\n",
    "    classifier = LogisticRegression(C=C[i])\n",
    "    X = X_train_map[fit_features]\n",
    "    y = X_train_map['home_wins']\n",
    "    classifier.fit(X ,y)\n",
    "    X = X_test_map[fit_features]\n",
    "    y = X_test_map['home_wins']\n",
    "    scores[i] = classifier.score(X,y)"
   ]
  },
  {
   "cell_type": "code",
   "execution_count": 507,
   "metadata": {
    "collapsed": false
   },
   "outputs": [
    {
     "data": {
      "text/plain": [
       "array([ 0.69530309,  0.6989161 ,  0.7025291 ,  0.70212766,  0.703332  ,\n",
       "        0.70413489,  0.69851465,  0.69931754,  0.69971899,  0.70212766,\n",
       "        0.69690887])"
      ]
     },
     "execution_count": 507,
     "metadata": {},
     "output_type": "execute_result"
    }
   ],
   "source": [
    "scores"
   ]
  },
  {
   "cell_type": "code",
   "execution_count": 508,
   "metadata": {
    "collapsed": false
   },
   "outputs": [
    {
     "data": {
      "text/plain": [
       "0.32000000000000001"
      ]
     },
     "execution_count": 508,
     "metadata": {},
     "output_type": "execute_result"
    }
   ],
   "source": [
    "lambada[5]"
   ]
  },
  {
   "cell_type": "code",
   "execution_count": 509,
   "metadata": {
    "collapsed": false
   },
   "outputs": [
    {
     "data": {
      "text/plain": [
       "3.125"
      ]
     },
     "execution_count": 509,
     "metadata": {},
     "output_type": "execute_result"
    }
   ],
   "source": [
    "C[5]"
   ]
  },
  {
   "cell_type": "markdown",
   "metadata": {},
   "source": [
    "Even if we didn't use a cross validation set to fit the regularization parameter, we get that C=3.125 gives better results"
   ]
  },
  {
   "cell_type": "markdown",
   "metadata": {},
   "source": [
    "# Feature Engineering"
   ]
  },
  {
   "cell_type": "code",
   "execution_count": null,
   "metadata": {
    "collapsed": true
   },
   "outputs": [],
   "source": []
  }
 ],
 "metadata": {
  "kernelspec": {
   "display_name": "Python 2",
   "language": "python",
   "name": "python2"
  },
  "language_info": {
   "codemirror_mode": {
    "name": "ipython",
    "version": 2
   },
   "file_extension": ".py",
   "mimetype": "text/x-python",
   "name": "python",
   "nbconvert_exporter": "python",
   "pygments_lexer": "ipython2",
   "version": "2.7.11"
  }
 },
 "nbformat": 4,
 "nbformat_minor": 0
}
