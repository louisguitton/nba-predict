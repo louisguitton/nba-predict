{
 "cells": [
  {
   "cell_type": "markdown",
   "metadata": {},
   "source": [
    "# Analysis with the rest feature"
   ]
  },
  {
   "cell_type": "code",
   "execution_count": 45,
   "metadata": {
    "collapsed": false
   },
   "outputs": [],
   "source": [
    "%matplotlib inline\n",
    "import numpy as np\n",
    "import matplotlib.pyplot as plt\n",
    "import pandas as pd"
   ]
  },
  {
   "cell_type": "code",
   "execution_count": 46,
   "metadata": {
    "collapsed": false
   },
   "outputs": [
    {
     "data": {
      "text/html": [
       "<div>\n",
       "<table border=\"1\" class=\"dataframe\">\n",
       "  <thead>\n",
       "    <tr style=\"text-align: right;\">\n",
       "      <th></th>\n",
       "      <th>date_time</th>\n",
       "      <th>home_team</th>\n",
       "      <th>away_team</th>\n",
       "      <th>odd_home</th>\n",
       "      <th>odd_away</th>\n",
       "      <th>score_home</th>\n",
       "      <th>score_away</th>\n",
       "      <th>overtime</th>\n",
       "      <th>rest_time_home</th>\n",
       "      <th>rest_time_away</th>\n",
       "      <th>odd_point_home</th>\n",
       "      <th>odd_point_away</th>\n",
       "      <th>odd_prim_home</th>\n",
       "      <th>odd_prim_away</th>\n",
       "    </tr>\n",
       "  </thead>\n",
       "  <tbody>\n",
       "    <tr>\n",
       "      <th>0</th>\n",
       "      <td>2015-03-13T01:00:00.000Z</td>\n",
       "      <td>Washington Wizards</td>\n",
       "      <td>Memphis Grizzlies</td>\n",
       "      <td>1.259740</td>\n",
       "      <td>4.030000</td>\n",
       "      <td>107</td>\n",
       "      <td>87</td>\n",
       "      <td>False</td>\n",
       "      <td>3.000000</td>\n",
       "      <td>0.979167</td>\n",
       "      <td>-0.31008658008658</td>\n",
       "      <td>2.7162174940898343</td>\n",
       "      <td>5.174610</td>\n",
       "      <td>2.643931</td>\n",
       "    </tr>\n",
       "    <tr>\n",
       "      <th>1</th>\n",
       "      <td>2015-03-12T04:30:00.000Z</td>\n",
       "      <td>Golden State Warriors</td>\n",
       "      <td>Detroit Pistons</td>\n",
       "      <td>1.050000</td>\n",
       "      <td>11.520000</td>\n",
       "      <td>105</td>\n",
       "      <td>98</td>\n",
       "      <td>False</td>\n",
       "      <td>2.020833</td>\n",
       "      <td>1.000000</td>\n",
       "      <td>-0.18763771514534752</td>\n",
       "      <td>9.910243902439024</td>\n",
       "      <td>2.505009</td>\n",
       "      <td>6.564878</td>\n",
       "    </tr>\n",
       "    <tr>\n",
       "      <th>2</th>\n",
       "      <td>2015-03-12T04:30:00.000Z</td>\n",
       "      <td>Portland Trail Blazers</td>\n",
       "      <td>Houston Rockets</td>\n",
       "      <td>1.729927</td>\n",
       "      <td>2.160000</td>\n",
       "      <td>105</td>\n",
       "      <td>100</td>\n",
       "      <td>False</td>\n",
       "      <td>4.062500</td>\n",
       "      <td>4.020833</td>\n",
       "      <td>0.06623938811365229</td>\n",
       "      <td>0.14638045891931908</td>\n",
       "      <td>6.481224</td>\n",
       "      <td>7.501726</td>\n",
       "    </tr>\n",
       "    <tr>\n",
       "      <th>3</th>\n",
       "      <td>2015-03-12T04:00:00.000Z</td>\n",
       "      <td>Phoenix Suns</td>\n",
       "      <td>Minnesota Timberwolves</td>\n",
       "      <td>1.490196</td>\n",
       "      <td>2.720000</td>\n",
       "      <td>106</td>\n",
       "      <td>97</td>\n",
       "      <td>False</td>\n",
       "      <td>2.000000</td>\n",
       "      <td>1.979167</td>\n",
       "      <td>-0.7249019607843137</td>\n",
       "      <td>-0.5002105263157895</td>\n",
       "      <td>4.430196</td>\n",
       "      <td>6.363021</td>\n",
       "    </tr>\n",
       "    <tr>\n",
       "      <th>4</th>\n",
       "      <td>2015-03-12T03:00:00.000Z</td>\n",
       "      <td>Denver Nuggets</td>\n",
       "      <td>Atlanta Hawks</td>\n",
       "      <td>3.450000</td>\n",
       "      <td>1.330033</td>\n",
       "      <td>115</td>\n",
       "      <td>102</td>\n",
       "      <td>False</td>\n",
       "      <td>2.000000</td>\n",
       "      <td>2.062500</td>\n",
       "      <td>1.1350719424460434</td>\n",
       "      <td>0.09696678380451829</td>\n",
       "      <td>4.629856</td>\n",
       "      <td>2.536949</td>\n",
       "    </tr>\n",
       "  </tbody>\n",
       "</table>\n",
       "</div>"
      ],
      "text/plain": [
       "                  date_time               home_team               away_team  \\\n",
       "0  2015-03-13T01:00:00.000Z      Washington Wizards       Memphis Grizzlies   \n",
       "1  2015-03-12T04:30:00.000Z   Golden State Warriors         Detroit Pistons   \n",
       "2  2015-03-12T04:30:00.000Z  Portland Trail Blazers         Houston Rockets   \n",
       "3  2015-03-12T04:00:00.000Z            Phoenix Suns  Minnesota Timberwolves   \n",
       "4  2015-03-12T03:00:00.000Z          Denver Nuggets           Atlanta Hawks   \n",
       "\n",
       "   odd_home   odd_away  score_home  score_away overtime  rest_time_home  \\\n",
       "0  1.259740   4.030000         107          87    False        3.000000   \n",
       "1  1.050000  11.520000         105          98    False        2.020833   \n",
       "2  1.729927   2.160000         105         100    False        4.062500   \n",
       "3  1.490196   2.720000         106          97    False        2.000000   \n",
       "4  3.450000   1.330033         115         102    False        2.000000   \n",
       "\n",
       "   rest_time_away        odd_point_home       odd_point_away  odd_prim_home  \\\n",
       "0        0.979167     -0.31008658008658   2.7162174940898343       5.174610   \n",
       "1        1.000000  -0.18763771514534752    9.910243902439024       2.505009   \n",
       "2        4.020833   0.06623938811365229  0.14638045891931908       6.481224   \n",
       "3        1.979167   -0.7249019607843137  -0.5002105263157895       4.430196   \n",
       "4        2.062500    1.1350719424460434  0.09696678380451829       4.629856   \n",
       "\n",
       "   odd_prim_away  \n",
       "0       2.643931  \n",
       "1       6.564878  \n",
       "2       7.501726  \n",
       "3       6.363021  \n",
       "4       2.536949  "
      ]
     },
     "execution_count": 46,
     "metadata": {},
     "output_type": "execute_result"
    }
   ],
   "source": [
    "df=pd.read_csv(\"../data/games_mongodump.csv\")\n",
    "df.head()"
   ]
  },
  {
   "cell_type": "code",
   "execution_count": 47,
   "metadata": {
    "collapsed": false
   },
   "outputs": [],
   "source": [
    "# Generate Train and Test set\n",
    "def generate_sets(df):\n",
    "    # Label data\n",
    "    label = pd.DataFrame(df[\"score_home\"]>df[\"score_away\"],\n",
    "                         index=np.arange(len(df[\"score_home\"])),columns=[\"home_wins\"])\n",
    "    # Select only the variables needed\n",
    "    features = ['odd_home','odd_away','rest_time_home', 'rest_time_away','odd_point_home','odd_point_away',\n",
    "                'odd_prim_home','odd_prim_away']\n",
    "    X = df[features].join(label)\n",
    "    Xset = clean_nan(X)\n",
    "    Xset = Xset.reindex(np.random.permutation(Xset.index))\n",
    "    m = np.ceil(len(Xset)*0.7)\n",
    "    X_train = Xset.iloc[0:m]\n",
    "    X_test = Xset.iloc[m:len(X)]\n",
    "    return X_train, X_test"
   ]
  },
  {
   "cell_type": "code",
   "execution_count": 48,
   "metadata": {
    "collapsed": true
   },
   "outputs": [],
   "source": [
    "# Feature Scaling\n",
    "def apply_feature_scaling(X_j):\n",
    "    return (X_j - np.mean(X_j))/(np.max(X_j)-np.min(X_j))\n",
    "def feature_scale(X,x_array):\n",
    "    for x_i in x_array:\n",
    "        X[x_i]=apply_feature_scaling(X[x_i]);"
   ]
  },
  {
   "cell_type": "code",
   "execution_count": 49,
   "metadata": {
    "collapsed": true
   },
   "outputs": [],
   "source": [
    "# Clean NaN Values \n",
    "def clean_nan(X):\n",
    "    return X.fillna(0)"
   ]
  },
  {
   "cell_type": "code",
   "execution_count": 50,
   "metadata": {
    "collapsed": true
   },
   "outputs": [],
   "source": [
    "def remove_border(axes=None, top=False, right=False, left=True, bottom=True):\n",
    "    \"\"\"\n",
    "    Minimize chartjunk by stripping out unnecesasry plot borders and axis ticks\n",
    "    \n",
    "    The top/right/left/bottom keywords toggle whether the corresponding plot border is drawn\n",
    "    \"\"\"\n",
    "    ax = axes or plt.gca()\n",
    "    ax.spines['top'].set_visible(top)\n",
    "    ax.spines['right'].set_visible(right)\n",
    "    ax.spines['left'].set_visible(left)\n",
    "    ax.spines['bottom'].set_visible(bottom)\n",
    "    \n",
    "    #turn off all ticks\n",
    "    ax.yaxis.set_ticks_position('none')\n",
    "    ax.xaxis.set_ticks_position('none')\n",
    "    \n",
    "    #now re-enable visibles\n",
    "    if top:\n",
    "        ax.xaxis.tick_top()\n",
    "    if bottom:\n",
    "        ax.xaxis.tick_bottom()\n",
    "    if left:\n",
    "        ax.yaxis.tick_left()\n",
    "    if right:\n",
    "        ax.yaxis.tick_right()"
   ]
  },
  {
   "cell_type": "code",
   "execution_count": 51,
   "metadata": {
    "collapsed": true
   },
   "outputs": [],
   "source": [
    "def plot_feature_space(X,x1,x2):\n",
    "    plt.scatter(X[x1][X['home_wins']==True],X[x2][X['home_wins']==True],color='g',alpha=.5)\n",
    "    plt.scatter(X[x1][X['home_wins']==False],X[x2][X['home_wins']==False],color='r',alpha=.5)\n",
    "    plt.xlabel(x1)\n",
    "    plt.ylabel(x2)\n",
    "    plt.grid(True)\n",
    "#     plt.xlim([0,25])\n",
    "#     plt.ylim([0,25])\n",
    "    plt.axis('equal')\n",
    "    remove_border()"
   ]
  },
  {
   "cell_type": "markdown",
   "metadata": {},
   "source": [
    "# Random dependant"
   ]
  },
  {
   "cell_type": "code",
   "execution_count": 53,
   "metadata": {
    "collapsed": false
   },
   "outputs": [
    {
     "name": "stderr",
     "output_type": "stream",
     "text": [
      "/home/lguitton/anaconda2/lib/python2.7/site-packages/ipykernel/__main__.py:13: FutureWarning: slice indexers when using iloc should be integers and not floating point\n",
      "/home/lguitton/anaconda2/lib/python2.7/site-packages/ipykernel/__main__.py:14: FutureWarning: slice indexers when using iloc should be integers and not floating point\n"
     ]
    },
    {
     "data": {
      "text/html": [
       "<div>\n",
       "<table border=\"1\" class=\"dataframe\">\n",
       "  <thead>\n",
       "    <tr style=\"text-align: right;\">\n",
       "      <th></th>\n",
       "      <th>odd_home</th>\n",
       "      <th>odd_away</th>\n",
       "      <th>rest_time_home</th>\n",
       "      <th>rest_time_away</th>\n",
       "      <th>odd_point_home</th>\n",
       "      <th>odd_point_away</th>\n",
       "      <th>odd_prim_home</th>\n",
       "      <th>odd_prim_away</th>\n",
       "      <th>home_wins</th>\n",
       "    </tr>\n",
       "  </thead>\n",
       "  <tbody>\n",
       "    <tr>\n",
       "      <th>1278</th>\n",
       "      <td>1.520833</td>\n",
       "      <td>2.590000</td>\n",
       "      <td>1.979167</td>\n",
       "      <td>2.916667</td>\n",
       "      <td>0.05608283002588445</td>\n",
       "      <td>0.1268571428571429</td>\n",
       "      <td>2.900142</td>\n",
       "      <td>7.014583</td>\n",
       "      <td>True</td>\n",
       "    </tr>\n",
       "    <tr>\n",
       "      <th>695</th>\n",
       "      <td>2.620000</td>\n",
       "      <td>1.510204</td>\n",
       "      <td>4.104167</td>\n",
       "      <td>1.083333</td>\n",
       "      <td>-0.2509644670050761</td>\n",
       "      <td>-3.90442700156986</td>\n",
       "      <td>12.866563</td>\n",
       "      <td>3.927194</td>\n",
       "      <td>True</td>\n",
       "    </tr>\n",
       "    <tr>\n",
       "      <th>625</th>\n",
       "      <td>1.080000</td>\n",
       "      <td>8.570000</td>\n",
       "      <td>3.062500</td>\n",
       "      <td>4.062500</td>\n",
       "      <td>-0.01306122448979593</td>\n",
       "      <td>1.8092848689771768</td>\n",
       "      <td>3.368750</td>\n",
       "      <td>19.885491</td>\n",
       "      <td>True</td>\n",
       "    </tr>\n",
       "    <tr>\n",
       "      <th>2808</th>\n",
       "      <td>2.280000</td>\n",
       "      <td>1.670000</td>\n",
       "      <td>2.041667</td>\n",
       "      <td>2.020833</td>\n",
       "      <td>-0.19102040816326538</td>\n",
       "      <td>0.15835051546391743</td>\n",
       "      <td>5.053125</td>\n",
       "      <td>3.051458</td>\n",
       "      <td>False</td>\n",
       "    </tr>\n",
       "    <tr>\n",
       "      <th>4877</th>\n",
       "      <td>3.410000</td>\n",
       "      <td>1.330000</td>\n",
       "      <td>1.000000</td>\n",
       "      <td>1.229167</td>\n",
       "      <td>0.6500000000000004</td>\n",
       "      <td>-0.13830508474576264</td>\n",
       "      <td>3.085000</td>\n",
       "      <td>1.739271</td>\n",
       "      <td>True</td>\n",
       "    </tr>\n",
       "  </tbody>\n",
       "</table>\n",
       "</div>"
      ],
      "text/plain": [
       "      odd_home  odd_away  rest_time_home  rest_time_away  \\\n",
       "1278  1.520833  2.590000        1.979167        2.916667   \n",
       "695   2.620000  1.510204        4.104167        1.083333   \n",
       "625   1.080000  8.570000        3.062500        4.062500   \n",
       "2808  2.280000  1.670000        2.041667        2.020833   \n",
       "4877  3.410000  1.330000        1.000000        1.229167   \n",
       "\n",
       "            odd_point_home        odd_point_away  odd_prim_home  \\\n",
       "1278   0.05608283002588445    0.1268571428571429       2.900142   \n",
       "695    -0.2509644670050761     -3.90442700156986      12.866563   \n",
       "625   -0.01306122448979593    1.8092848689771768       3.368750   \n",
       "2808  -0.19102040816326538   0.15835051546391743       5.053125   \n",
       "4877    0.6500000000000004  -0.13830508474576264       3.085000   \n",
       "\n",
       "      odd_prim_away home_wins  \n",
       "1278       7.014583      True  \n",
       "695        3.927194      True  \n",
       "625       19.885491      True  \n",
       "2808       3.051458     False  \n",
       "4877       1.739271      True  "
      ]
     },
     "execution_count": 53,
     "metadata": {},
     "output_type": "execute_result"
    }
   ],
   "source": [
    "X_train, X_test = generate_sets(df)\n",
    "X_train.head()"
   ]
  },
  {
   "cell_type": "markdown",
   "metadata": {},
   "source": [
    "# Plotting"
   ]
  },
  {
   "cell_type": "code",
   "execution_count": 13,
   "metadata": {
    "collapsed": false
   },
   "outputs": [
    {
     "data": {
      "image/png": "[encoded data removed]",
      "text/plain": [
       "<matplotlib.figure.Figure at 0x7f751a52ef90>"
      ]
     },
     "metadata": {},
     "output_type": "display_data"
    }
   ],
   "source": [
    "plot_feature_space(X_train,'odd_home','odd_away')"
   ]
  },
  {
   "cell_type": "code",
   "execution_count": 12,
   "metadata": {
    "collapsed": false
   },
   "outputs": [
    {
     "data": {
      "text/plain": [
       "(0, 25)"
      ]
     },
     "execution_count": 12,
     "metadata": {},
     "output_type": "execute_result"
    },
    {
     "data": {
      "image/png": "[encoded data removed]",
      "text/plain": [
       "<matplotlib.figure.Figure at 0x7f751a2a7110>"
      ]
     },
     "metadata": {},
     "output_type": "display_data"
    }
   ],
   "source": [
    "plot_feature_space(X_train,'rest_time_home','rest_time_away')\n",
    "plt.xlim([0,25])\n",
    "plt.ylim([0,25])"
   ]
  },
  {
   "cell_type": "markdown",
   "metadata": {},
   "source": [
    "It appears that there is no clear trend like \"the rested team wins\""
   ]
  },
  {
   "cell_type": "code",
   "execution_count": 14,
   "metadata": {
    "collapsed": false
   },
   "outputs": [
    {
     "data": {
      "image/png": "[encoded data removed]",
      "text/plain": [
       "<matplotlib.figure.Figure at 0x7f7519d2b9d0>"
      ]
     },
     "metadata": {},
     "output_type": "display_data"
    }
   ],
   "source": [
    "plot_feature_space(X_train,'odd_point_home','odd_point_away')"
   ]
  },
  {
   "cell_type": "code",
   "execution_count": 17,
   "metadata": {
    "collapsed": false
   },
   "outputs": [
    {
     "data": {
      "text/plain": [
       "(-50, 50)"
      ]
     },
     "execution_count": 17,
     "metadata": {},
     "output_type": "execute_result"
    },
    {
     "data": {
      "image/png": "[encoded data removed]",
      "text/plain": [
       "<matplotlib.figure.Figure at 0x7f75178faad0>"
      ]
     },
     "metadata": {},
     "output_type": "display_data"
    }
   ],
   "source": [
    "plot_feature_space(X_train,'odd_point_home','odd_point_away')\n",
    "plt.xlim([-50,50])\n",
    "plt.ylim([-50,50])"
   ]
  },
  {
   "cell_type": "markdown",
   "metadata": {},
   "source": [
    "If abs(odd_point) depasse 40 pour la home team ou la away team, alors la home team wins"
   ]
  },
  {
   "cell_type": "code",
   "execution_count": 18,
   "metadata": {
    "collapsed": false
   },
   "outputs": [
    {
     "data": {
      "image/png": "[encoded data removed]",
      "text/plain": [
       "<matplotlib.figure.Figure at 0x7f75177f1390>"
      ]
     },
     "metadata": {},
     "output_type": "display_data"
    }
   ],
   "source": [
    "plot_feature_space(X_train,'odd_prim_home','odd_prim_away')"
   ]
  },
  {
   "cell_type": "code",
   "execution_count": 19,
   "metadata": {
    "collapsed": false
   },
   "outputs": [
    {
     "data": {
      "text/plain": [
       "(0, 500)"
      ]
     },
     "execution_count": 19,
     "metadata": {},
     "output_type": "execute_result"
    },
    {
     "data": {
      "image/png": "[encoded data removed]",
      "text/plain": [
       "<matplotlib.figure.Figure at 0x7f75176fc890>"
      ]
     },
     "metadata": {},
     "output_type": "display_data"
    }
   ],
   "source": [
    "plot_feature_space(X_train,'odd_prim_home','odd_prim_away')\n",
    "plt.xlim([0,500])\n",
    "plt.ylim([0,500])"
   ]
  },
  {
   "cell_type": "markdown",
   "metadata": {},
   "source": [
    "If odd_prim_away>50, home team  wins"
   ]
  },
  {
   "cell_type": "code",
   "execution_count": 24,
   "metadata": {
    "collapsed": false
   },
   "outputs": [
    {
     "data": {
      "text/plain": [
       "(-50, 50)"
      ]
     },
     "execution_count": 24,
     "metadata": {},
     "output_type": "execute_result"
    },
    {
     "data": {
      "image/png": "[encoded data removed]",
      "text/plain": [
       "<matplotlib.figure.Figure at 0x7f75174b9550>"
      ]
     },
     "metadata": {},
     "output_type": "display_data"
    }
   ],
   "source": [
    "plot_feature_space(X_train,'odd_away','odd_point_away')\n",
    "plt.xlim([0,25])\n",
    "plt.ylim([-50,50])"
   ]
  },
  {
   "cell_type": "code",
   "execution_count": null,
   "metadata": {
    "collapsed": true
   },
   "outputs": [],
   "source": []
  },
  {
   "cell_type": "markdown",
   "metadata": {},
   "source": [
    "# Training"
   ]
  },
  {
   "cell_type": "code",
   "execution_count": 26,
   "metadata": {
    "collapsed": false
   },
   "outputs": [
    {
     "data": {
      "text/plain": [
       "'-1.2162406015037592'"
      ]
     },
     "execution_count": 26,
     "metadata": {},
     "output_type": "execute_result"
    }
   ],
   "source": [
    "X_train[\"odd_point_home\"][105]\n",
    "# 2 columns are of string type, and I don't know why!!"
   ]
  },
  {
   "cell_type": "markdown",
   "metadata": {},
   "source": [
    "# Logistic Regression"
   ]
  },
  {
   "cell_type": "code",
   "execution_count": 27,
   "metadata": {
    "collapsed": true
   },
   "outputs": [],
   "source": [
    "from sklearn.linear_model import LogisticRegression\n",
    "classifier = LogisticRegression()"
   ]
  },
  {
   "cell_type": "code",
   "execution_count": 61,
   "metadata": {
    "collapsed": false
   },
   "outputs": [
    {
     "name": "stderr",
     "output_type": "stream",
     "text": [
      "/home/lguitton/anaconda2/lib/python2.7/site-packages/ipykernel/__main__.py:13: FutureWarning: slice indexers when using iloc should be integers and not floating point\n",
      "/home/lguitton/anaconda2/lib/python2.7/site-packages/ipykernel/__main__.py:14: FutureWarning: slice indexers when using iloc should be integers and not floating point\n"
     ]
    },
    {
     "data": {
      "text/plain": [
       "LogisticRegression(C=1.0, class_weight=None, dual=False, fit_intercept=True,\n",
       "          intercept_scaling=1, max_iter=100, multi_class='ovr', n_jobs=1,\n",
       "          penalty='l2', random_state=None, solver='liblinear', tol=0.0001,\n",
       "          verbose=0, warm_start=False)"
      ]
     },
     "execution_count": 61,
     "metadata": {},
     "output_type": "execute_result"
    }
   ],
   "source": [
    "X_train, X_test = generate_sets(df)\n",
    "fit_features = ['odd_home','odd_away','rest_time_home', 'rest_time_away',\n",
    "                'odd_prim_home','odd_prim_away']\n",
    "X = X_train[fit_features]\n",
    "y = X_train['home_wins']\n",
    "classifier.fit(X ,y)"
   ]
  },
  {
   "cell_type": "code",
   "execution_count": 62,
   "metadata": {
    "collapsed": false
   },
   "outputs": [
    {
     "data": {
      "text/plain": [
       "0.69249297470895221"
      ]
     },
     "execution_count": 62,
     "metadata": {},
     "output_type": "execute_result"
    }
   ],
   "source": [
    "X = X_test[fit_features]\n",
    "y = X_test['home_wins']\n",
    "classifier.score(X,y)"
   ]
  },
  {
   "cell_type": "markdown",
   "metadata": {},
   "source": [
    "# Neural Networks"
   ]
  },
  {
   "cell_type": "code",
   "execution_count": null,
   "metadata": {
    "collapsed": true
   },
   "outputs": [],
   "source": []
  }
 ],
 "metadata": {
  "kernelspec": {
   "display_name": "Python 2",
   "language": "python",
   "name": "python2"
  },
  "language_info": {
   "codemirror_mode": {
    "name": "ipython",
    "version": 2
   },
   "file_extension": ".py",
   "mimetype": "text/x-python",
   "name": "python",
   "nbconvert_exporter": "python",
   "pygments_lexer": "ipython2",
   "version": "2.7.11"
  }
 },
 "nbformat": 4,
 "nbformat_minor": 0
}
