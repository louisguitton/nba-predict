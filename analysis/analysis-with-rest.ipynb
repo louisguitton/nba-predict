{
 "cells": [
  {
   "cell_type": "markdown",
   "metadata": {},
   "source": [
    "# Analysis with the rest feature"
   ]
  },
  {
   "cell_type": "code",
   "execution_count": 2,
   "metadata": {
    "collapsed": false
   },
   "outputs": [],
   "source": [
    "%matplotlib inline\n",
    "import numpy as np\n",
    "import matplotlib.pyplot as plt\n",
    "import pandas as pd"
   ]
  },
  {
   "cell_type": "code",
   "execution_count": 5,
   "metadata": {
    "collapsed": false
   },
   "outputs": [
    {
     "data": {
      "text/html": [
       "<div>\n",
       "<table border=\"1\" class=\"dataframe\">\n",
       "  <thead>\n",
       "    <tr style=\"text-align: right;\">\n",
       "      <th></th>\n",
       "      <th>date_time</th>\n",
       "      <th>home_team</th>\n",
       "      <th>away_team</th>\n",
       "      <th>odd_home</th>\n",
       "      <th>odd_away</th>\n",
       "      <th>score_home</th>\n",
       "      <th>score_away</th>\n",
       "      <th>overtime</th>\n",
       "    </tr>\n",
       "  </thead>\n",
       "  <tbody>\n",
       "    <tr>\n",
       "      <th>0</th>\n",
       "      <td>2015-03-13T01:00:00.000Z</td>\n",
       "      <td>Washington Wizards</td>\n",
       "      <td>Memphis Grizzlies</td>\n",
       "      <td>1.259740</td>\n",
       "      <td>4.030000</td>\n",
       "      <td>107</td>\n",
       "      <td>87</td>\n",
       "      <td>False</td>\n",
       "    </tr>\n",
       "    <tr>\n",
       "      <th>1</th>\n",
       "      <td>2015-03-12T04:30:00.000Z</td>\n",
       "      <td>Golden State Warriors</td>\n",
       "      <td>Detroit Pistons</td>\n",
       "      <td>1.050000</td>\n",
       "      <td>11.520000</td>\n",
       "      <td>105</td>\n",
       "      <td>98</td>\n",
       "      <td>False</td>\n",
       "    </tr>\n",
       "    <tr>\n",
       "      <th>2</th>\n",
       "      <td>2015-03-12T04:30:00.000Z</td>\n",
       "      <td>Portland Trail Blazers</td>\n",
       "      <td>Houston Rockets</td>\n",
       "      <td>1.729927</td>\n",
       "      <td>2.160000</td>\n",
       "      <td>105</td>\n",
       "      <td>100</td>\n",
       "      <td>False</td>\n",
       "    </tr>\n",
       "    <tr>\n",
       "      <th>3</th>\n",
       "      <td>2015-03-12T04:00:00.000Z</td>\n",
       "      <td>Phoenix Suns</td>\n",
       "      <td>Minnesota Timberwolves</td>\n",
       "      <td>1.490196</td>\n",
       "      <td>2.720000</td>\n",
       "      <td>106</td>\n",
       "      <td>97</td>\n",
       "      <td>False</td>\n",
       "    </tr>\n",
       "    <tr>\n",
       "      <th>4</th>\n",
       "      <td>2015-03-12T03:00:00.000Z</td>\n",
       "      <td>Denver Nuggets</td>\n",
       "      <td>Atlanta Hawks</td>\n",
       "      <td>3.450000</td>\n",
       "      <td>1.330033</td>\n",
       "      <td>115</td>\n",
       "      <td>102</td>\n",
       "      <td>False</td>\n",
       "    </tr>\n",
       "  </tbody>\n",
       "</table>\n",
       "</div>"
      ],
      "text/plain": [
       "                  date_time               home_team               away_team  \\\n",
       "0  2015-03-13T01:00:00.000Z      Washington Wizards       Memphis Grizzlies   \n",
       "1  2015-03-12T04:30:00.000Z   Golden State Warriors         Detroit Pistons   \n",
       "2  2015-03-12T04:30:00.000Z  Portland Trail Blazers         Houston Rockets   \n",
       "3  2015-03-12T04:00:00.000Z            Phoenix Suns  Minnesota Timberwolves   \n",
       "4  2015-03-12T03:00:00.000Z          Denver Nuggets           Atlanta Hawks   \n",
       "\n",
       "   odd_home   odd_away  score_home  score_away overtime  \n",
       "0  1.259740   4.030000         107          87    False  \n",
       "1  1.050000  11.520000         105          98    False  \n",
       "2  1.729927   2.160000         105         100    False  \n",
       "3  1.490196   2.720000         106          97    False  \n",
       "4  3.450000   1.330033         115         102    False  "
      ]
     },
     "execution_count": 5,
     "metadata": {},
     "output_type": "execute_result"
    }
   ],
   "source": [
    "df=pd.read_csv(\"../data/games_mongodump.csv\")\n",
    "df.head(5)"
   ]
  },
  {
   "cell_type": "code",
   "execution_count": null,
   "metadata": {
    "collapsed": true
   },
   "outputs": [],
   "source": []
  }
 ],
 "metadata": {
  "kernelspec": {
   "display_name": "Python 2",
   "language": "python",
   "name": "python2"
  },
  "language_info": {
   "codemirror_mode": {
    "name": "ipython",
    "version": 2
   },
   "file_extension": ".py",
   "mimetype": "text/x-python",
   "name": "python",
   "nbconvert_exporter": "python",
   "pygments_lexer": "ipython2",
   "version": "2.7.11"
  }
 },
 "nbformat": 4,
 "nbformat_minor": 0
}
