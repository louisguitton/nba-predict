{
 "cells": [
  {
   "cell_type": "markdown",
   "metadata": {},
   "source": [
    "# Analysis with the rest feature"
   ]
  },
  {
   "cell_type": "code",
   "execution_count": 1,
   "metadata": {
    "collapsed": false
   },
   "outputs": [],
   "source": [
    "%matplotlib inline\n",
    "import numpy as np\n",
    "import matplotlib.pyplot as plt\n",
    "import pandas as pd"
   ]
  },
  {
   "cell_type": "code",
   "execution_count": 2,
   "metadata": {
    "collapsed": false
   },
   "outputs": [
    {
     "data": {
      "text/html": [
       "<div>\n",
       "<table border=\"1\" class=\"dataframe\">\n",
       "  <thead>\n",
       "    <tr style=\"text-align: right;\">\n",
       "      <th></th>\n",
       "      <th>date_time</th>\n",
       "      <th>home_team</th>\n",
       "      <th>away_team</th>\n",
       "      <th>odd_home</th>\n",
       "      <th>odd_away</th>\n",
       "      <th>score_home</th>\n",
       "      <th>score_away</th>\n",
       "      <th>overtime</th>\n",
       "      <th>rest_time_home</th>\n",
       "      <th>rest_time_away</th>\n",
       "      <th>odd_point_home</th>\n",
       "      <th>odd_point_away</th>\n",
       "      <th>odd_prim_home</th>\n",
       "      <th>odd_prim_away</th>\n",
       "    </tr>\n",
       "  </thead>\n",
       "  <tbody>\n",
       "    <tr>\n",
       "      <th>0</th>\n",
       "      <td>2015-03-13T01:00:00.000Z</td>\n",
       "      <td>Washington Wizards</td>\n",
       "      <td>Memphis Grizzlies</td>\n",
       "      <td>1.259740</td>\n",
       "      <td>4.030000</td>\n",
       "      <td>107</td>\n",
       "      <td>87</td>\n",
       "      <td>False</td>\n",
       "      <td>3.000000</td>\n",
       "      <td>0.979167</td>\n",
       "      <td>-0.31008658008658</td>\n",
       "      <td>2.7162174940898343</td>\n",
       "      <td>5.174610</td>\n",
       "      <td>2.643931</td>\n",
       "    </tr>\n",
       "    <tr>\n",
       "      <th>1</th>\n",
       "      <td>2015-03-12T04:30:00.000Z</td>\n",
       "      <td>Golden State Warriors</td>\n",
       "      <td>Detroit Pistons</td>\n",
       "      <td>1.050000</td>\n",
       "      <td>11.520000</td>\n",
       "      <td>105</td>\n",
       "      <td>98</td>\n",
       "      <td>False</td>\n",
       "      <td>2.020833</td>\n",
       "      <td>1.000000</td>\n",
       "      <td>-0.18763771514534752</td>\n",
       "      <td>9.910243902439024</td>\n",
       "      <td>2.505009</td>\n",
       "      <td>6.564878</td>\n",
       "    </tr>\n",
       "    <tr>\n",
       "      <th>2</th>\n",
       "      <td>2015-03-12T04:30:00.000Z</td>\n",
       "      <td>Portland Trail Blazers</td>\n",
       "      <td>Houston Rockets</td>\n",
       "      <td>1.729927</td>\n",
       "      <td>2.160000</td>\n",
       "      <td>105</td>\n",
       "      <td>100</td>\n",
       "      <td>False</td>\n",
       "      <td>4.062500</td>\n",
       "      <td>4.020833</td>\n",
       "      <td>0.06623938811365229</td>\n",
       "      <td>0.14638045891931908</td>\n",
       "      <td>6.481224</td>\n",
       "      <td>7.501726</td>\n",
       "    </tr>\n",
       "    <tr>\n",
       "      <th>3</th>\n",
       "      <td>2015-03-12T04:00:00.000Z</td>\n",
       "      <td>Phoenix Suns</td>\n",
       "      <td>Minnesota Timberwolves</td>\n",
       "      <td>1.490196</td>\n",
       "      <td>2.720000</td>\n",
       "      <td>106</td>\n",
       "      <td>97</td>\n",
       "      <td>False</td>\n",
       "      <td>2.000000</td>\n",
       "      <td>1.979167</td>\n",
       "      <td>-0.7249019607843137</td>\n",
       "      <td>-0.5002105263157895</td>\n",
       "      <td>4.430196</td>\n",
       "      <td>6.363021</td>\n",
       "    </tr>\n",
       "    <tr>\n",
       "      <th>4</th>\n",
       "      <td>2015-03-12T03:00:00.000Z</td>\n",
       "      <td>Denver Nuggets</td>\n",
       "      <td>Atlanta Hawks</td>\n",
       "      <td>3.450000</td>\n",
       "      <td>1.330033</td>\n",
       "      <td>115</td>\n",
       "      <td>102</td>\n",
       "      <td>False</td>\n",
       "      <td>2.000000</td>\n",
       "      <td>2.062500</td>\n",
       "      <td>1.1350719424460434</td>\n",
       "      <td>0.09696678380451829</td>\n",
       "      <td>4.629856</td>\n",
       "      <td>2.536949</td>\n",
       "    </tr>\n",
       "  </tbody>\n",
       "</table>\n",
       "</div>"
      ],
      "text/plain": [
       "                  date_time               home_team               away_team  \\\n",
       "0  2015-03-13T01:00:00.000Z      Washington Wizards       Memphis Grizzlies   \n",
       "1  2015-03-12T04:30:00.000Z   Golden State Warriors         Detroit Pistons   \n",
       "2  2015-03-12T04:30:00.000Z  Portland Trail Blazers         Houston Rockets   \n",
       "3  2015-03-12T04:00:00.000Z            Phoenix Suns  Minnesota Timberwolves   \n",
       "4  2015-03-12T03:00:00.000Z          Denver Nuggets           Atlanta Hawks   \n",
       "\n",
       "   odd_home   odd_away  score_home  score_away overtime  rest_time_home  \\\n",
       "0  1.259740   4.030000         107          87    False        3.000000   \n",
       "1  1.050000  11.520000         105          98    False        2.020833   \n",
       "2  1.729927   2.160000         105         100    False        4.062500   \n",
       "3  1.490196   2.720000         106          97    False        2.000000   \n",
       "4  3.450000   1.330033         115         102    False        2.000000   \n",
       "\n",
       "   rest_time_away        odd_point_home       odd_point_away  odd_prim_home  \\\n",
       "0        0.979167     -0.31008658008658   2.7162174940898343       5.174610   \n",
       "1        1.000000  -0.18763771514534752    9.910243902439024       2.505009   \n",
       "2        4.020833   0.06623938811365229  0.14638045891931908       6.481224   \n",
       "3        1.979167   -0.7249019607843137  -0.5002105263157895       4.430196   \n",
       "4        2.062500    1.1350719424460434  0.09696678380451829       4.629856   \n",
       "\n",
       "   odd_prim_away  \n",
       "0       2.643931  \n",
       "1       6.564878  \n",
       "2       7.501726  \n",
       "3       6.363021  \n",
       "4       2.536949  "
      ]
     },
     "execution_count": 2,
     "metadata": {},
     "output_type": "execute_result"
    }
   ],
   "source": [
    "df=pd.read_csv(\"../data/games_mongodump.csv\")\n",
    "df.head()"
   ]
  },
  {
   "cell_type": "code",
   "execution_count": 17,
   "metadata": {
    "collapsed": false
   },
   "outputs": [],
   "source": [
    "# Generate Train and Test set\n",
    "def generate_sets(df):\n",
    "    # Label data\n",
    "    label = pd.DataFrame(df[\"score_home\"]>df[\"score_away\"],\n",
    "                         index=np.arange(len(df[\"score_home\"])),columns=[\"home_wins\"])\n",
    "    # Select only the variables needed\n",
    "    features = ['odd_home','odd_away','rest_time_home', 'rest_time_away','odd_point_home','odd_point_away',\n",
    "                'odd_prim_home','odd_prim_away']\n",
    "    X = df[features].join(label)\n",
    "#     X[['odd_point_home', 'odd_point_away']] = X[['odd_point_home', 'odd_point_away']].astype(float)\n",
    "    Xset = clean_nan(X)\n",
    "    Xset = Xset[Xset.rest_time_home !=0]\n",
    "    Xset = Xset[Xset.rest_time_away !=0]\n",
    "    Xset[['odd_point_home','odd_point_away']]=Xset[['odd_point_home','odd_point_away']].astype(float)\n",
    "    Xset = Xset.reindex(np.random.permutation(Xset.index))\n",
    "    m = np.ceil(len(Xset)*0.7)\n",
    "    X_train = Xset.iloc[0:m]\n",
    "    X_test = Xset.iloc[m:len(X)]\n",
    "    return X_train, X_test"
   ]
  },
  {
   "cell_type": "code",
   "execution_count": 4,
   "metadata": {
    "collapsed": true
   },
   "outputs": [],
   "source": [
    "# Feature Scaling\n",
    "def apply_feature_scaling(X_j):\n",
    "    return (X_j - np.mean(X_j))/(np.max(X_j)-np.min(X_j))\n",
    "def feature_scale(X,x_array):\n",
    "    for x_i in x_array:\n",
    "        X[x_i]=apply_feature_scaling(X[x_i]);"
   ]
  },
  {
   "cell_type": "code",
   "execution_count": 5,
   "metadata": {
    "collapsed": true
   },
   "outputs": [],
   "source": [
    "# Clean NaN Values \n",
    "def clean_nan(X):\n",
    "    return X.dropna(axis=0)"
   ]
  },
  {
   "cell_type": "code",
   "execution_count": 6,
   "metadata": {
    "collapsed": true
   },
   "outputs": [],
   "source": [
    "def remove_border(axes=None, top=False, right=False, left=True, bottom=True):\n",
    "    \"\"\"\n",
    "    Minimize chartjunk by stripping out unnecesasry plot borders and axis ticks\n",
    "    \n",
    "    The top/right/left/bottom keywords toggle whether the corresponding plot border is drawn\n",
    "    \"\"\"\n",
    "    ax = axes or plt.gca()\n",
    "    ax.spines['top'].set_visible(top)\n",
    "    ax.spines['right'].set_visible(right)\n",
    "    ax.spines['left'].set_visible(left)\n",
    "    ax.spines['bottom'].set_visible(bottom)\n",
    "    \n",
    "    #turn off all ticks\n",
    "    ax.yaxis.set_ticks_position('none')\n",
    "    ax.xaxis.set_ticks_position('none')\n",
    "    \n",
    "    #now re-enable visibles\n",
    "    if top:\n",
    "        ax.xaxis.tick_top()\n",
    "    if bottom:\n",
    "        ax.xaxis.tick_bottom()\n",
    "    if left:\n",
    "        ax.yaxis.tick_left()\n",
    "    if right:\n",
    "        ax.yaxis.tick_right()"
   ]
  },
  {
   "cell_type": "code",
   "execution_count": 7,
   "metadata": {
    "collapsed": true
   },
   "outputs": [],
   "source": [
    "def plot_feature_space(X,x1,x2):\n",
    "    plt.scatter(X[x1][X['home_wins']==True],X[x2][X['home_wins']==True],color='g',alpha=.5)\n",
    "    plt.scatter(X[x1][X['home_wins']==False],X[x2][X['home_wins']==False],color='r',alpha=.5)\n",
    "    plt.xlabel(x1)\n",
    "    plt.ylabel(x2)\n",
    "    plt.grid(True)\n",
    "#     plt.xlim([0,25])\n",
    "#     plt.ylim([0,25])\n",
    "    plt.axis('equal')\n",
    "    remove_border()"
   ]
  },
  {
   "cell_type": "markdown",
   "metadata": {},
   "source": [
    "# Random dependant"
   ]
  },
  {
   "cell_type": "code",
   "execution_count": 18,
   "metadata": {
    "collapsed": false
   },
   "outputs": [
    {
     "name": "stderr",
     "output_type": "stream",
     "text": [
      "/home/lguitton/anaconda2/lib/python2.7/site-packages/ipykernel/__main__.py:17: FutureWarning: slice indexers when using iloc should be integers and not floating point\n",
      "/home/lguitton/anaconda2/lib/python2.7/site-packages/ipykernel/__main__.py:18: FutureWarning: slice indexers when using iloc should be integers and not floating point\n"
     ]
    },
    {
     "data": {
      "text/html": [
       "<div>\n",
       "<table border=\"1\" class=\"dataframe\">\n",
       "  <thead>\n",
       "    <tr style=\"text-align: right;\">\n",
       "      <th></th>\n",
       "      <th>odd_home</th>\n",
       "      <th>odd_away</th>\n",
       "      <th>rest_time_home</th>\n",
       "      <th>rest_time_away</th>\n",
       "      <th>odd_point_home</th>\n",
       "      <th>odd_point_away</th>\n",
       "      <th>odd_prim_home</th>\n",
       "      <th>odd_prim_away</th>\n",
       "      <th>home_wins</th>\n",
       "    </tr>\n",
       "  </thead>\n",
       "  <tbody>\n",
       "    <tr>\n",
       "      <th>3531</th>\n",
       "      <td>1.140000</td>\n",
       "      <td>6.09</td>\n",
       "      <td>2.020833</td>\n",
       "      <td>2.062500</td>\n",
       "      <td>-0.237526</td>\n",
       "      <td>0.741818</td>\n",
       "      <td>2.788750</td>\n",
       "      <td>10.982812</td>\n",
       "      <td>True</td>\n",
       "    </tr>\n",
       "    <tr>\n",
       "      <th>5166</th>\n",
       "      <td>1.100000</td>\n",
       "      <td>7.70</td>\n",
       "      <td>2.000000</td>\n",
       "      <td>1.937500</td>\n",
       "      <td>0.000000</td>\n",
       "      <td>1.197419</td>\n",
       "      <td>2.200000</td>\n",
       "      <td>12.671250</td>\n",
       "      <td>True</td>\n",
       "    </tr>\n",
       "    <tr>\n",
       "      <th>4073</th>\n",
       "      <td>1.620000</td>\n",
       "      <td>2.37</td>\n",
       "      <td>2.291667</td>\n",
       "      <td>2.020833</td>\n",
       "      <td>-0.279273</td>\n",
       "      <td>0.519588</td>\n",
       "      <td>4.445833</td>\n",
       "      <td>3.728438</td>\n",
       "      <td>True</td>\n",
       "    </tr>\n",
       "    <tr>\n",
       "      <th>2771</th>\n",
       "      <td>2.420000</td>\n",
       "      <td>1.59</td>\n",
       "      <td>3.041667</td>\n",
       "      <td>3.270833</td>\n",
       "      <td>0.174247</td>\n",
       "      <td>-0.339363</td>\n",
       "      <td>6.554792</td>\n",
       "      <td>7.015938</td>\n",
       "      <td>True</td>\n",
       "    </tr>\n",
       "    <tr>\n",
       "      <th>1242</th>\n",
       "      <td>1.591716</td>\n",
       "      <td>2.39</td>\n",
       "      <td>6.020833</td>\n",
       "      <td>3.979167</td>\n",
       "      <td>-0.010992</td>\n",
       "      <td>0.005026</td>\n",
       "      <td>9.782682</td>\n",
       "      <td>9.470417</td>\n",
       "      <td>False</td>\n",
       "    </tr>\n",
       "  </tbody>\n",
       "</table>\n",
       "</div>"
      ],
      "text/plain": [
       "      odd_home  odd_away  rest_time_home  rest_time_away  odd_point_home  \\\n",
       "3531  1.140000      6.09        2.020833        2.062500       -0.237526   \n",
       "5166  1.100000      7.70        2.000000        1.937500        0.000000   \n",
       "4073  1.620000      2.37        2.291667        2.020833       -0.279273   \n",
       "2771  2.420000      1.59        3.041667        3.270833        0.174247   \n",
       "1242  1.591716      2.39        6.020833        3.979167       -0.010992   \n",
       "\n",
       "      odd_point_away  odd_prim_home  odd_prim_away home_wins  \n",
       "3531        0.741818       2.788750      10.982812      True  \n",
       "5166        1.197419       2.200000      12.671250      True  \n",
       "4073        0.519588       4.445833       3.728438      True  \n",
       "2771       -0.339363       6.554792       7.015938      True  \n",
       "1242        0.005026       9.782682       9.470417     False  "
      ]
     },
     "execution_count": 18,
     "metadata": {},
     "output_type": "execute_result"
    }
   ],
   "source": [
    "X_train, X_test = generate_sets(df)\n",
    "X_train.head()"
   ]
  },
  {
   "cell_type": "markdown",
   "metadata": {},
   "source": [
    "# Plotting"
   ]
  },
  {
   "cell_type": "code",
   "execution_count": 19,
   "metadata": {
    "collapsed": false
   },
   "outputs": [
    {
     "data": {
      "image/png": "[encoded data removed]",
      "text/plain": [
       "<matplotlib.figure.Figure at 0x7fb83d486b10>"
      ]
     },
     "metadata": {},
     "output_type": "display_data"
    }
   ],
   "source": [
    "plot_feature_space(X_train,'odd_home','odd_away')"
   ]
  },
  {
   "cell_type": "code",
   "execution_count": 20,
   "metadata": {
    "collapsed": false
   },
   "outputs": [
    {
     "data": {
      "text/plain": [
       "(0, 25)"
      ]
     },
     "execution_count": 20,
     "metadata": {},
     "output_type": "execute_result"
    },
    {
     "data": {
      "image/png": "[encoded data removed]",
      "text/plain": [
       "<matplotlib.figure.Figure at 0x7fb83ff1c790>"
      ]
     },
     "metadata": {},
     "output_type": "display_data"
    }
   ],
   "source": [
    "plot_feature_space(X_train,'rest_time_home','rest_time_away')\n",
    "plt.xlim([0,25])\n",
    "plt.ylim([0,25])"
   ]
  },
  {
   "cell_type": "markdown",
   "metadata": {},
   "source": [
    "It appears that there is no clear trend like \"the rested team wins\""
   ]
  },
  {
   "cell_type": "code",
   "execution_count": 21,
   "metadata": {
    "collapsed": false
   },
   "outputs": [
    {
     "data": {
      "image/png": "[encoded data removed]",
      "text/plain": [
       "<matplotlib.figure.Figure at 0x7fb83d48a610>"
      ]
     },
     "metadata": {},
     "output_type": "display_data"
    }
   ],
   "source": [
    "plot_feature_space(X_train,'odd_point_home','odd_point_away')"
   ]
  },
  {
   "cell_type": "code",
   "execution_count": 22,
   "metadata": {
    "collapsed": false
   },
   "outputs": [
    {
     "data": {
      "text/plain": [
       "(-50, 50)"
      ]
     },
     "execution_count": 22,
     "metadata": {},
     "output_type": "execute_result"
    },
    {
     "data": {
      "image/png": "[encoded data removed]",
      "text/plain": [
       "<matplotlib.figure.Figure at 0x7fb83d3386d0>"
      ]
     },
     "metadata": {},
     "output_type": "display_data"
    }
   ],
   "source": [
    "plot_feature_space(X_train,'odd_point_home','odd_point_away')\n",
    "plt.xlim([-50,50])\n",
    "plt.ylim([-50,50])"
   ]
  },
  {
   "cell_type": "markdown",
   "metadata": {},
   "source": [
    "If abs(odd_point) depasse 40 pour la home team ou la away team, alors la home team wins"
   ]
  },
  {
   "cell_type": "code",
   "execution_count": 23,
   "metadata": {
    "collapsed": false
   },
   "outputs": [
    {
     "data": {
      "image/png": "[encoded data removed]",
      "text/plain": [
       "<matplotlib.figure.Figure at 0x7fb83d2ec190>"
      ]
     },
     "metadata": {},
     "output_type": "display_data"
    }
   ],
   "source": [
    "plot_feature_space(X_train,'odd_prim_home','odd_prim_away')"
   ]
  },
  {
   "cell_type": "code",
   "execution_count": 24,
   "metadata": {
    "collapsed": false
   },
   "outputs": [
    {
     "data": {
      "text/plain": [
       "(0, 500)"
      ]
     },
     "execution_count": 24,
     "metadata": {},
     "output_type": "execute_result"
    },
    {
     "data": {
      "image/png": "[encoded data removed]",
      "text/plain": [
       "<matplotlib.figure.Figure at 0x7fb83d1fea10>"
      ]
     },
     "metadata": {},
     "output_type": "display_data"
    }
   ],
   "source": [
    "plot_feature_space(X_train,'odd_prim_home','odd_prim_away')\n",
    "plt.xlim([0,500])\n",
    "plt.ylim([0,500])"
   ]
  },
  {
   "cell_type": "markdown",
   "metadata": {},
   "source": [
    "If odd_prim_away>50, home team  wins"
   ]
  },
  {
   "cell_type": "code",
   "execution_count": 25,
   "metadata": {
    "collapsed": false
   },
   "outputs": [
    {
     "data": {
      "text/plain": [
       "(-50, 50)"
      ]
     },
     "execution_count": 25,
     "metadata": {},
     "output_type": "execute_result"
    },
    {
     "data": {
      "image/png": "[encoded data removed]",
      "text/plain": [
       "<matplotlib.figure.Figure at 0x7fb83d21c690>"
      ]
     },
     "metadata": {},
     "output_type": "display_data"
    }
   ],
   "source": [
    "plot_feature_space(X_train,'odd_away','odd_point_away')\n",
    "plt.xlim([0,25])\n",
    "plt.ylim([-50,50])"
   ]
  },
  {
   "cell_type": "markdown",
   "metadata": {},
   "source": [
    "# Cleaning"
   ]
  },
  {
   "cell_type": "code",
   "execution_count": null,
   "metadata": {
    "collapsed": false
   },
   "outputs": [],
   "source": [
    "X_train[\"odd_point_home\"][105]\n",
    "# 2 columns are of string type, and I don't know why!!"
   ]
  },
  {
   "cell_type": "code",
   "execution_count": 12,
   "metadata": {
    "collapsed": false
   },
   "outputs": [
    {
     "data": {
      "text/plain": [
       "odd_home          float64\n",
       "odd_away          float64\n",
       "rest_time_home    float64\n",
       "rest_time_away    float64\n",
       "odd_point_home     object\n",
       "odd_point_away     object\n",
       "odd_prim_home     float64\n",
       "odd_prim_away     float64\n",
       "home_wins            bool\n",
       "dtype: object"
      ]
     },
     "execution_count": 12,
     "metadata": {},
     "output_type": "execute_result"
    }
   ],
   "source": [
    "X_train.dtypes"
   ]
  },
  {
   "cell_type": "code",
   "execution_count": 13,
   "metadata": {
    "collapsed": false
   },
   "outputs": [
    {
     "data": {
      "text/html": [
       "<div>\n",
       "<table border=\"1\" class=\"dataframe\">\n",
       "  <thead>\n",
       "    <tr style=\"text-align: right;\">\n",
       "      <th></th>\n",
       "      <th>odd_home</th>\n",
       "      <th>odd_away</th>\n",
       "      <th>rest_time_home</th>\n",
       "      <th>rest_time_away</th>\n",
       "      <th>odd_prim_home</th>\n",
       "      <th>odd_prim_away</th>\n",
       "      <th>home_wins</th>\n",
       "    </tr>\n",
       "  </thead>\n",
       "  <tbody>\n",
       "    <tr>\n",
       "      <th>count</th>\n",
       "      <td>5785.000000</td>\n",
       "      <td>5785.000000</td>\n",
       "      <td>5785.000000</td>\n",
       "      <td>5785.000000</td>\n",
       "      <td>5785.000000</td>\n",
       "      <td>5785.000000</td>\n",
       "      <td>5785</td>\n",
       "    </tr>\n",
       "    <tr>\n",
       "      <th>mean</th>\n",
       "      <td>1.860128</td>\n",
       "      <td>3.370771</td>\n",
       "      <td>4.384260</td>\n",
       "      <td>4.214649</td>\n",
       "      <td>10.272739</td>\n",
       "      <td>12.558716</td>\n",
       "      <td>0.604494</td>\n",
       "    </tr>\n",
       "    <tr>\n",
       "      <th>std</th>\n",
       "      <td>1.027156</td>\n",
       "      <td>2.586034</td>\n",
       "      <td>17.843589</td>\n",
       "      <td>18.832070</td>\n",
       "      <td>50.650535</td>\n",
       "      <td>63.498756</td>\n",
       "      <td>0.489001</td>\n",
       "    </tr>\n",
       "    <tr>\n",
       "      <th>min</th>\n",
       "      <td>1.010000</td>\n",
       "      <td>1.030000</td>\n",
       "      <td>0.020833</td>\n",
       "      <td>0.020833</td>\n",
       "      <td>0.028854</td>\n",
       "      <td>0.025312</td>\n",
       "      <td>False</td>\n",
       "    </tr>\n",
       "    <tr>\n",
       "      <th>25%</th>\n",
       "      <td>1.270000</td>\n",
       "      <td>1.769231</td>\n",
       "      <td>1.958333</td>\n",
       "      <td>1.041667</td>\n",
       "      <td>2.823333</td>\n",
       "      <td>2.929063</td>\n",
       "      <td>0</td>\n",
       "    </tr>\n",
       "    <tr>\n",
       "      <th>50%</th>\n",
       "      <td>1.540000</td>\n",
       "      <td>2.540000</td>\n",
       "      <td>2.000000</td>\n",
       "      <td>2.000000</td>\n",
       "      <td>4.113958</td>\n",
       "      <td>4.587292</td>\n",
       "      <td>1</td>\n",
       "    </tr>\n",
       "    <tr>\n",
       "      <th>75%</th>\n",
       "      <td>2.090000</td>\n",
       "      <td>3.900000</td>\n",
       "      <td>3.000000</td>\n",
       "      <td>2.312500</td>\n",
       "      <td>6.566250</td>\n",
       "      <td>7.950000</td>\n",
       "      <td>1</td>\n",
       "    </tr>\n",
       "    <tr>\n",
       "      <th>max</th>\n",
       "      <td>14.560000</td>\n",
       "      <td>23.430000</td>\n",
       "      <td>252.020833</td>\n",
       "      <td>253.062500</td>\n",
       "      <td>1484.280000</td>\n",
       "      <td>1809.707500</td>\n",
       "      <td>True</td>\n",
       "    </tr>\n",
       "  </tbody>\n",
       "</table>\n",
       "</div>"
      ],
      "text/plain": [
       "          odd_home     odd_away  rest_time_home  rest_time_away  \\\n",
       "count  5785.000000  5785.000000     5785.000000     5785.000000   \n",
       "mean      1.860128     3.370771        4.384260        4.214649   \n",
       "std       1.027156     2.586034       17.843589       18.832070   \n",
       "min       1.010000     1.030000        0.020833        0.020833   \n",
       "25%       1.270000     1.769231        1.958333        1.041667   \n",
       "50%       1.540000     2.540000        2.000000        2.000000   \n",
       "75%       2.090000     3.900000        3.000000        2.312500   \n",
       "max      14.560000    23.430000      252.020833      253.062500   \n",
       "\n",
       "       odd_prim_home  odd_prim_away home_wins  \n",
       "count    5785.000000    5785.000000      5785  \n",
       "mean       10.272739      12.558716  0.604494  \n",
       "std        50.650535      63.498756  0.489001  \n",
       "min         0.028854       0.025312     False  \n",
       "25%         2.823333       2.929063         0  \n",
       "50%         4.113958       4.587292         1  \n",
       "75%         6.566250       7.950000         1  \n",
       "max      1484.280000    1809.707500      True  "
      ]
     },
     "execution_count": 13,
     "metadata": {},
     "output_type": "execute_result"
    }
   ],
   "source": [
    "X_train.describe()"
   ]
  },
  {
   "cell_type": "code",
   "execution_count": 22,
   "metadata": {
    "collapsed": false
   },
   "outputs": [],
   "source": [
    "X_train = X_train[X_train.rest_time_home !=0]"
   ]
  },
  {
   "cell_type": "code",
   "execution_count": 23,
   "metadata": {
    "collapsed": true
   },
   "outputs": [],
   "source": [
    "X_train = X_train[X_train.rest_time_away !=0]"
   ]
  },
  {
   "cell_type": "code",
   "execution_count": 25,
   "metadata": {
    "collapsed": false
   },
   "outputs": [
    {
     "data": {
      "text/html": [
       "<div>\n",
       "<table border=\"1\" class=\"dataframe\">\n",
       "  <thead>\n",
       "    <tr style=\"text-align: right;\">\n",
       "      <th></th>\n",
       "      <th>odd_home</th>\n",
       "      <th>odd_away</th>\n",
       "      <th>rest_time_home</th>\n",
       "      <th>rest_time_away</th>\n",
       "      <th>odd_prim_home</th>\n",
       "      <th>odd_prim_away</th>\n",
       "      <th>home_wins</th>\n",
       "    </tr>\n",
       "  </thead>\n",
       "  <tbody>\n",
       "    <tr>\n",
       "      <th>count</th>\n",
       "      <td>5781.000000</td>\n",
       "      <td>5781.000000</td>\n",
       "      <td>5781.000000</td>\n",
       "      <td>5781.000000</td>\n",
       "      <td>5781.000000</td>\n",
       "      <td>5781.000000</td>\n",
       "      <td>5781</td>\n",
       "    </tr>\n",
       "    <tr>\n",
       "      <th>mean</th>\n",
       "      <td>1.866972</td>\n",
       "      <td>3.342005</td>\n",
       "      <td>4.670743</td>\n",
       "      <td>4.202506</td>\n",
       "      <td>10.851421</td>\n",
       "      <td>12.340021</td>\n",
       "      <td>0.601107</td>\n",
       "    </tr>\n",
       "    <tr>\n",
       "      <th>std</th>\n",
       "      <td>1.038860</td>\n",
       "      <td>2.529455</td>\n",
       "      <td>19.323329</td>\n",
       "      <td>18.857256</td>\n",
       "      <td>52.343049</td>\n",
       "      <td>62.510766</td>\n",
       "      <td>0.489713</td>\n",
       "    </tr>\n",
       "    <tr>\n",
       "      <th>min</th>\n",
       "      <td>1.010000</td>\n",
       "      <td>1.020000</td>\n",
       "      <td>0.020833</td>\n",
       "      <td>0.020833</td>\n",
       "      <td>0.026042</td>\n",
       "      <td>0.025312</td>\n",
       "      <td>False</td>\n",
       "    </tr>\n",
       "    <tr>\n",
       "      <th>25%</th>\n",
       "      <td>1.270000</td>\n",
       "      <td>1.760000</td>\n",
       "      <td>1.958333</td>\n",
       "      <td>1.041667</td>\n",
       "      <td>2.810208</td>\n",
       "      <td>2.939062</td>\n",
       "      <td>0</td>\n",
       "    </tr>\n",
       "    <tr>\n",
       "      <th>50%</th>\n",
       "      <td>1.540000</td>\n",
       "      <td>2.520000</td>\n",
       "      <td>2.000000</td>\n",
       "      <td>1.979167</td>\n",
       "      <td>4.080000</td>\n",
       "      <td>4.533750</td>\n",
       "      <td>1</td>\n",
       "    </tr>\n",
       "    <tr>\n",
       "      <th>75%</th>\n",
       "      <td>2.100000</td>\n",
       "      <td>3.880000</td>\n",
       "      <td>3.000000</td>\n",
       "      <td>2.291667</td>\n",
       "      <td>6.551042</td>\n",
       "      <td>7.778646</td>\n",
       "      <td>1</td>\n",
       "    </tr>\n",
       "    <tr>\n",
       "      <th>max</th>\n",
       "      <td>17.240000</td>\n",
       "      <td>23.430000</td>\n",
       "      <td>252.020833</td>\n",
       "      <td>253.062500</td>\n",
       "      <td>1484.280000</td>\n",
       "      <td>1809.707500</td>\n",
       "      <td>True</td>\n",
       "    </tr>\n",
       "  </tbody>\n",
       "</table>\n",
       "</div>"
      ],
      "text/plain": [
       "          odd_home     odd_away  rest_time_home  rest_time_away  \\\n",
       "count  5781.000000  5781.000000     5781.000000     5781.000000   \n",
       "mean      1.866972     3.342005        4.670743        4.202506   \n",
       "std       1.038860     2.529455       19.323329       18.857256   \n",
       "min       1.010000     1.020000        0.020833        0.020833   \n",
       "25%       1.270000     1.760000        1.958333        1.041667   \n",
       "50%       1.540000     2.520000        2.000000        1.979167   \n",
       "75%       2.100000     3.880000        3.000000        2.291667   \n",
       "max      17.240000    23.430000      252.020833      253.062500   \n",
       "\n",
       "       odd_prim_home  odd_prim_away home_wins  \n",
       "count    5781.000000    5781.000000      5781  \n",
       "mean       10.851421      12.340021  0.601107  \n",
       "std        52.343049      62.510766  0.489713  \n",
       "min         0.026042       0.025312     False  \n",
       "25%         2.810208       2.939062         0  \n",
       "50%         4.080000       4.533750         1  \n",
       "75%         6.551042       7.778646         1  \n",
       "max      1484.280000    1809.707500      True  "
      ]
     },
     "execution_count": 25,
     "metadata": {},
     "output_type": "execute_result"
    }
   ],
   "source": [
    "X_train.describe()"
   ]
  },
  {
   "cell_type": "code",
   "execution_count": 26,
   "metadata": {
    "collapsed": false
   },
   "outputs": [
    {
     "data": {
      "text/plain": [
       "odd_home          float64\n",
       "odd_away          float64\n",
       "rest_time_home    float64\n",
       "rest_time_away    float64\n",
       "odd_point_home     object\n",
       "odd_point_away     object\n",
       "odd_prim_home     float64\n",
       "odd_prim_away     float64\n",
       "home_wins            bool\n",
       "dtype: object"
      ]
     },
     "execution_count": 26,
     "metadata": {},
     "output_type": "execute_result"
    }
   ],
   "source": [
    "X_train.dtypes"
   ]
  },
  {
   "cell_type": "code",
   "execution_count": 14,
   "metadata": {
    "collapsed": true
   },
   "outputs": [],
   "source": [
    "X_train[['odd_point_home','odd_point_away']]=X_train[['odd_point_home','odd_point_away']].astype(float)"
   ]
  },
  {
   "cell_type": "code",
   "execution_count": 15,
   "metadata": {
    "collapsed": false
   },
   "outputs": [
    {
     "data": {
      "text/plain": [
       "odd_home          float64\n",
       "odd_away          float64\n",
       "rest_time_home    float64\n",
       "rest_time_away    float64\n",
       "odd_point_home    float64\n",
       "odd_point_away    float64\n",
       "odd_prim_home     float64\n",
       "odd_prim_away     float64\n",
       "home_wins            bool\n",
       "dtype: object"
      ]
     },
     "execution_count": 15,
     "metadata": {},
     "output_type": "execute_result"
    }
   ],
   "source": [
    "X_train.dtypes"
   ]
  },
  {
   "cell_type": "code",
   "execution_count": 16,
   "metadata": {
    "collapsed": false
   },
   "outputs": [
    {
     "data": {
      "text/html": [
       "<div>\n",
       "<table border=\"1\" class=\"dataframe\">\n",
       "  <thead>\n",
       "    <tr style=\"text-align: right;\">\n",
       "      <th></th>\n",
       "      <th>odd_home</th>\n",
       "      <th>odd_away</th>\n",
       "      <th>rest_time_home</th>\n",
       "      <th>rest_time_away</th>\n",
       "      <th>odd_point_home</th>\n",
       "      <th>odd_point_away</th>\n",
       "      <th>odd_prim_home</th>\n",
       "      <th>odd_prim_away</th>\n",
       "      <th>home_wins</th>\n",
       "    </tr>\n",
       "  </thead>\n",
       "  <tbody>\n",
       "    <tr>\n",
       "      <th>count</th>\n",
       "      <td>5785.000000</td>\n",
       "      <td>5785.000000</td>\n",
       "      <td>5785.000000</td>\n",
       "      <td>5785.000000</td>\n",
       "      <td>5785.000000</td>\n",
       "      <td>5785.000000</td>\n",
       "      <td>5785.000000</td>\n",
       "      <td>5785.000000</td>\n",
       "      <td>5785</td>\n",
       "    </tr>\n",
       "    <tr>\n",
       "      <th>mean</th>\n",
       "      <td>1.860128</td>\n",
       "      <td>3.370771</td>\n",
       "      <td>4.384260</td>\n",
       "      <td>4.214649</td>\n",
       "      <td>-0.548094</td>\n",
       "      <td>0.647830</td>\n",
       "      <td>10.272739</td>\n",
       "      <td>12.558716</td>\n",
       "      <td>0.604494</td>\n",
       "    </tr>\n",
       "    <tr>\n",
       "      <th>std</th>\n",
       "      <td>1.027156</td>\n",
       "      <td>2.586034</td>\n",
       "      <td>17.843589</td>\n",
       "      <td>18.832070</td>\n",
       "      <td>4.255386</td>\n",
       "      <td>7.486018</td>\n",
       "      <td>50.650535</td>\n",
       "      <td>63.498756</td>\n",
       "      <td>0.489001</td>\n",
       "    </tr>\n",
       "    <tr>\n",
       "      <th>min</th>\n",
       "      <td>1.010000</td>\n",
       "      <td>1.030000</td>\n",
       "      <td>0.020833</td>\n",
       "      <td>0.020833</td>\n",
       "      <td>-243.120000</td>\n",
       "      <td>-142.998058</td>\n",
       "      <td>0.028854</td>\n",
       "      <td>0.025312</td>\n",
       "      <td>False</td>\n",
       "    </tr>\n",
       "    <tr>\n",
       "      <th>25%</th>\n",
       "      <td>1.270000</td>\n",
       "      <td>1.769231</td>\n",
       "      <td>1.958333</td>\n",
       "      <td>1.041667</td>\n",
       "      <td>-0.520459</td>\n",
       "      <td>-0.088421</td>\n",
       "      <td>2.823333</td>\n",
       "      <td>2.929063</td>\n",
       "      <td>0</td>\n",
       "    </tr>\n",
       "    <tr>\n",
       "      <th>50%</th>\n",
       "      <td>1.540000</td>\n",
       "      <td>2.540000</td>\n",
       "      <td>2.000000</td>\n",
       "      <td>2.000000</td>\n",
       "      <td>-0.112653</td>\n",
       "      <td>0.210000</td>\n",
       "      <td>4.113958</td>\n",
       "      <td>4.587292</td>\n",
       "      <td>1</td>\n",
       "    </tr>\n",
       "    <tr>\n",
       "      <th>75%</th>\n",
       "      <td>2.090000</td>\n",
       "      <td>3.900000</td>\n",
       "      <td>3.000000</td>\n",
       "      <td>2.312500</td>\n",
       "      <td>0.048980</td>\n",
       "      <td>0.830345</td>\n",
       "      <td>6.566250</td>\n",
       "      <td>7.950000</td>\n",
       "      <td>1</td>\n",
       "    </tr>\n",
       "    <tr>\n",
       "      <th>max</th>\n",
       "      <td>14.560000</td>\n",
       "      <td>23.430000</td>\n",
       "      <td>252.020833</td>\n",
       "      <td>253.062500</td>\n",
       "      <td>36.000000</td>\n",
       "      <td>318.480000</td>\n",
       "      <td>1484.280000</td>\n",
       "      <td>1809.707500</td>\n",
       "      <td>True</td>\n",
       "    </tr>\n",
       "  </tbody>\n",
       "</table>\n",
       "</div>"
      ],
      "text/plain": [
       "          odd_home     odd_away  rest_time_home  rest_time_away  \\\n",
       "count  5785.000000  5785.000000     5785.000000     5785.000000   \n",
       "mean      1.860128     3.370771        4.384260        4.214649   \n",
       "std       1.027156     2.586034       17.843589       18.832070   \n",
       "min       1.010000     1.030000        0.020833        0.020833   \n",
       "25%       1.270000     1.769231        1.958333        1.041667   \n",
       "50%       1.540000     2.540000        2.000000        2.000000   \n",
       "75%       2.090000     3.900000        3.000000        2.312500   \n",
       "max      14.560000    23.430000      252.020833      253.062500   \n",
       "\n",
       "       odd_point_home  odd_point_away  odd_prim_home  odd_prim_away home_wins  \n",
       "count     5785.000000     5785.000000    5785.000000    5785.000000      5785  \n",
       "mean        -0.548094        0.647830      10.272739      12.558716  0.604494  \n",
       "std          4.255386        7.486018      50.650535      63.498756  0.489001  \n",
       "min       -243.120000     -142.998058       0.028854       0.025312     False  \n",
       "25%         -0.520459       -0.088421       2.823333       2.929063         0  \n",
       "50%         -0.112653        0.210000       4.113958       4.587292         1  \n",
       "75%          0.048980        0.830345       6.566250       7.950000         1  \n",
       "max         36.000000      318.480000    1484.280000    1809.707500      True  "
      ]
     },
     "execution_count": 16,
     "metadata": {},
     "output_type": "execute_result"
    }
   ],
   "source": [
    "X_train.describe()"
   ]
  },
  {
   "cell_type": "markdown",
   "metadata": {},
   "source": [
    "# Logistic Regression"
   ]
  },
  {
   "cell_type": "code",
   "execution_count": 26,
   "metadata": {
    "collapsed": true
   },
   "outputs": [],
   "source": [
    "from sklearn.linear_model import LogisticRegression\n",
    "classifier = LogisticRegression()"
   ]
  },
  {
   "cell_type": "code",
   "execution_count": 37,
   "metadata": {
    "collapsed": false
   },
   "outputs": [
    {
     "name": "stderr",
     "output_type": "stream",
     "text": [
      "/home/lguitton/anaconda2/lib/python2.7/site-packages/ipykernel/__main__.py:17: FutureWarning: slice indexers when using iloc should be integers and not floating point\n",
      "/home/lguitton/anaconda2/lib/python2.7/site-packages/ipykernel/__main__.py:18: FutureWarning: slice indexers when using iloc should be integers and not floating point\n"
     ]
    },
    {
     "data": {
      "text/plain": [
       "LogisticRegression(C=1.0, class_weight=None, dual=False, fit_intercept=True,\n",
       "          intercept_scaling=1, max_iter=100, multi_class='ovr', n_jobs=1,\n",
       "          penalty='l2', random_state=None, solver='liblinear', tol=0.0001,\n",
       "          verbose=0, warm_start=False)"
      ]
     },
     "execution_count": 37,
     "metadata": {},
     "output_type": "execute_result"
    }
   ],
   "source": [
    "X_train, X_test = generate_sets(df)\n",
    "fit_features = ['odd_home','odd_away','rest_time_home', 'rest_time_away',\n",
    "                'odd_point_home', 'odd_point_away','odd_prim_home','odd_prim_away']\n",
    "X = X_train[fit_features]\n",
    "y = X_train['home_wins']\n",
    "classifier.fit(X ,y)"
   ]
  },
  {
   "cell_type": "code",
   "execution_count": 38,
   "metadata": {
    "collapsed": false
   },
   "outputs": [
    {
     "data": {
      "text/plain": [
       "0.67567567567567566"
      ]
     },
     "execution_count": 38,
     "metadata": {},
     "output_type": "execute_result"
    }
   ],
   "source": [
    "X = X_test[fit_features]\n",
    "y = X_test['home_wins']\n",
    "classifier.score(X,y)"
   ]
  },
  {
   "cell_type": "markdown",
   "metadata": {},
   "source": [
    "# Neural Networks"
   ]
  },
  {
   "cell_type": "code",
   "execution_count": null,
   "metadata": {
    "collapsed": true
   },
   "outputs": [],
   "source": []
  }
 ],
 "metadata": {
  "kernelspec": {
   "display_name": "Python 2",
   "language": "python",
   "name": "python2"
  },
  "language_info": {
   "codemirror_mode": {
    "name": "ipython",
    "version": 2
   },
   "file_extension": ".py",
   "mimetype": "text/x-python",
   "name": "python",
   "nbconvert_exporter": "python",
   "pygments_lexer": "ipython2",
   "version": "2.7.11"
  }
 },
 "nbformat": 4,
 "nbformat_minor": 0
}
