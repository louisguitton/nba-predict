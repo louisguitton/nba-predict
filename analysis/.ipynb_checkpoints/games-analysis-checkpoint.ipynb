{
 "cells": [
  {
   "cell_type": "markdown",
   "metadata": {},
   "source": [
    "# Preliminary plotting stuff to get things going"
   ]
  },
  {
   "cell_type": "code",
   "execution_count": 1,
   "metadata": {
    "collapsed": false
   },
   "outputs": [],
   "source": [
    "%matplotlib inline\n",
    "import numpy as np\n",
    "import matplotlib.pyplot as plt\n",
    "import pandas as pd\n",
    "from matplotlib import rcParams"
   ]
  },
  {
   "cell_type": "code",
   "execution_count": 2,
   "metadata": {
    "collapsed": false
   },
   "outputs": [
    {
     "ename": "ImportError",
     "evalue": "No module named palettable.colorbrewer.qualitative",
     "output_type": "error",
     "traceback": [
      "\u001b[1;31m---------------------------------------------------------------------------\u001b[0m",
      "\u001b[1;31mImportError\u001b[0m                               Traceback (most recent call last)",
      "\u001b[1;32m<ipython-input-2-ca248a235657>\u001b[0m in \u001b[0;36m<module>\u001b[1;34m()\u001b[0m\n\u001b[1;32m----> 1\u001b[1;33m \u001b[1;32mfrom\u001b[0m \u001b[0mpalettable\u001b[0m\u001b[1;33m.\u001b[0m\u001b[0mcolorbrewer\u001b[0m\u001b[1;33m.\u001b[0m\u001b[0mqualitative\u001b[0m \u001b[1;32mimport\u001b[0m \u001b[0mDark2_7\u001b[0m\u001b[1;33m\u001b[0m\u001b[0m\n\u001b[0m\u001b[0;32m      2\u001b[0m \u001b[1;32mfrom\u001b[0m \u001b[0mmatplotlib\u001b[0m \u001b[1;32mimport\u001b[0m \u001b[0mrcParams\u001b[0m\u001b[1;33m\u001b[0m\u001b[0m\n\u001b[0;32m      3\u001b[0m \u001b[1;33m\u001b[0m\u001b[0m\n\u001b[0;32m      4\u001b[0m \u001b[1;33m\u001b[0m\u001b[0m\n\u001b[0;32m      5\u001b[0m \u001b[0mrcParams\u001b[0m\u001b[1;33m[\u001b[0m\u001b[1;34m'figure.figsize'\u001b[0m\u001b[1;33m]\u001b[0m \u001b[1;33m=\u001b[0m \u001b[1;33m(\u001b[0m\u001b[1;36m10\u001b[0m\u001b[1;33m,\u001b[0m \u001b[1;36m6\u001b[0m\u001b[1;33m)\u001b[0m\u001b[1;33m\u001b[0m\u001b[0m\n",
      "\u001b[1;31mImportError\u001b[0m: No module named palettable.colorbrewer.qualitative"
     ]
    }
   ],
   "source": [
    "# from palettable.colorbrewer.qualitative import Dark2_7\n",
    "from matplotlib import rcParams\n",
    "\n",
    "\n",
    "rcParams['figure.figsize'] = (10, 6)\n",
    "rcParams['figure.dpi'] = 150\n",
    "# rcParams['axes.color_cycle'] = Dark2_7\n",
    "rcParams['lines.linewidth'] = 2\n",
    "rcParams['axes.facecolor'] = 'white'\n",
    "rcParams['font.size'] = 14\n",
    "rcParams['patch.edgecolor'] = 'white'\n",
    "# rcParams['patch.facecolor'] = Dark2_7[0]\n",
    "rcParams['font.family'] = 'StixGeneral'\n",
    "\n",
    "\n",
    "def remove_border(axes=None, top=False, right=False, left=True, bottom=True):\n",
    "    \"\"\"\n",
    "    Minimize chartjunk by stripping out unnecesasry plot borders and axis ticks\n",
    "    \n",
    "    The top/right/left/bottom keywords toggle whether the corresponding plot border is drawn\n",
    "    \"\"\"\n",
    "    ax = axes or plt.gca()\n",
    "    ax.spines['top'].set_visible(top)\n",
    "    ax.spines['right'].set_visible(right)\n",
    "    ax.spines['left'].set_visible(left)\n",
    "    ax.spines['bottom'].set_visible(bottom)\n",
    "    \n",
    "    #turn off all ticks\n",
    "    ax.yaxis.set_ticks_position('none')\n",
    "    ax.xaxis.set_ticks_position('none')\n",
    "    \n",
    "    #now re-enable visibles\n",
    "    if top:\n",
    "        ax.xaxis.tick_top()\n",
    "    if bottom:\n",
    "        ax.xaxis.tick_bottom()\n",
    "    if left:\n",
    "        ax.yaxis.tick_left()\n",
    "    if right:\n",
    "        ax.yaxis.tick_right()"
   ]
  },
  {
   "cell_type": "code",
   "execution_count": null,
   "metadata": {
    "collapsed": true
   },
   "outputs": [],
   "source": [
    "pd.set_option('display.width', 500)\n",
    "pd.set_option('display.max_columns', 100)"
   ]
  },
  {
   "cell_type": "markdown",
   "metadata": {},
   "source": [
    "# Loading and Cleaning"
   ]
  },
  {
   "cell_type": "code",
   "execution_count": null,
   "metadata": {
    "collapsed": false
   },
   "outputs": [],
   "source": [
    "df=pd.read_csv(\"games.csv\")\n",
    "df.head(5)"
   ]
  },
  {
   "cell_type": "code",
   "execution_count": null,
   "metadata": {
    "collapsed": false
   },
   "outputs": [],
   "source": [
    "df.describe()"
   ]
  },
  {
   "cell_type": "code",
   "execution_count": null,
   "metadata": {
    "collapsed": false
   },
   "outputs": [],
   "source": [
    "a = 'hello world' \n",
    "2 + 2 "
   ]
  },
  {
   "cell_type": "code",
   "execution_count": null,
   "metadata": {
    "collapsed": false
   },
   "outputs": [],
   "source": [
    "line = plt.figure()\n",
    "plt.plot(df[\"odd_winner\"]);"
   ]
  },
  {
   "cell_type": "code",
   "execution_count": null,
   "metadata": {
    "collapsed": false
   },
   "outputs": [],
   "source": [
    "games_cleaned = df.loc[df[\"odd_winner\"]<50,:] #I get rid of a lot of data like this\n",
    "games_cleaned = games_cleaned.loc[games_cleaned[\"odd_winner\"]>=0,:]\n",
    "plt.figure()\n",
    "plt.plot(games_cleaned[\"odd_winner\"]);"
   ]
  },
  {
   "cell_type": "code",
   "execution_count": null,
   "metadata": {
    "collapsed": false
   },
   "outputs": [],
   "source": [
    "games_cleaned.describe()"
   ]
  },
  {
   "cell_type": "code",
   "execution_count": null,
   "metadata": {
    "collapsed": false
   },
   "outputs": [],
   "source": [
    "games_cleaned.dtypes"
   ]
  },
  {
   "cell_type": "markdown",
   "metadata": {},
   "source": [
    "## Preliminary Analysis and plotting"
   ]
  },
  {
   "cell_type": "code",
   "execution_count": null,
   "metadata": {
    "collapsed": false
   },
   "outputs": [],
   "source": [
    "winner_group = games_cleaned.groupby('winner')\n",
    "winner_group.size()"
   ]
  },
  {
   "cell_type": "code",
   "execution_count": null,
   "metadata": {
    "collapsed": true
   },
   "outputs": [],
   "source": [
    "def nb_of_games(team):\n",
    "    return len(games_cleaned.loc[games_cleaned[\"winner\"] == team])+len(games_cleaned.loc[games_cleaned[\"looser\"] == team])"
   ]
  },
  {
   "cell_type": "code",
   "execution_count": null,
   "metadata": {
    "collapsed": false
   },
   "outputs": [],
   "source": [
    "teams = set(games_cleaned[\"winner\"]).union(set(games_cleaned[\"looser\"]))\n",
    "teams"
   ]
  },
  {
   "cell_type": "code",
   "execution_count": null,
   "metadata": {
    "collapsed": false
   },
   "outputs": [],
   "source": [
    "games_cleaned.loc[games_cleaned[\"winner\"] == \"West\"] #in df there is the allstar game, not in games_cleaned"
   ]
  },
  {
   "cell_type": "code",
   "execution_count": null,
   "metadata": {
    "collapsed": false
   },
   "outputs": [],
   "source": [
    "x = list(teams)\n",
    "y = [nb_of_games(t) for t in x]\n",
    "# red_dot = plt.plot(y,\"ro\")\n",
    "# plt.legend(red_dot,x)"
   ]
  },
  {
   "cell_type": "code",
   "execution_count": null,
   "metadata": {
    "collapsed": false
   },
   "outputs": [],
   "source": [
    "total_games = pd.DataFrame([x,y])\n",
    "total_games"
   ]
  },
  {
   "cell_type": "code",
   "execution_count": null,
   "metadata": {
    "collapsed": false
   },
   "outputs": [],
   "source": [
    "plt.figure()\n",
    "bins = np.linspace(60, 180, 100)\n",
    "plt.title(\"Winner and Looser Scores\")\n",
    "plt.xlabel(\"Points\")\n",
    "plt.ylabel(\"Frequency\")\n",
    "plt.hist(games_cleaned[\"score_winner\"],bins, alpha=0.5)\n",
    "plt.hist(games_cleaned[\"score_looser\"],bins, alpha=0.5)\n",
    "plt.show()"
   ]
  },
  {
   "cell_type": "code",
   "execution_count": null,
   "metadata": {
    "collapsed": false
   },
   "outputs": [],
   "source": [
    "plt.figure()\n",
    "bins = np.linspace(1, 20, 100)\n",
    "plt.hist(games_cleaned[\"odd_winner\"],bins, alpha=0.5);\n",
    "plt.hist(games_cleaned[\"odd_looser\"],bins, alpha=0.5);"
   ]
  },
  {
   "cell_type": "code",
   "execution_count": null,
   "metadata": {
    "collapsed": true
   },
   "outputs": [],
   "source": [
    "plt.figure()\n",
    "bins = np.linspace(1, 20, 100)\n",
    "plt.hist(log(games_cleaned[\"odd_winner\"]),bins, alpha=0.5);\n",
    "plt.hist(log(games_cleaned[\"odd_looser\"]),bins, alpha=0.5);"
   ]
  },
  {
   "cell_type": "markdown",
   "metadata": {},
   "source": [
    "## Feature Engineering"
   ]
  },
  {
   "cell_type": "code",
   "execution_count": 20,
   "metadata": {
    "collapsed": false
   },
   "outputs": [
    {
     "data": {
      "text/html": [
       "<div>\n",
       "<table border=\"1\" class=\"dataframe\">\n",
       "  <thead>\n",
       "    <tr style=\"text-align: right;\">\n",
       "      <th></th>\n",
       "      <th>date_time</th>\n",
       "      <th>winner</th>\n",
       "      <th>score_winner</th>\n",
       "      <th>odd_winner</th>\n",
       "      <th>looser</th>\n",
       "      <th>score_looser</th>\n",
       "      <th>odd_looser</th>\n",
       "      <th>overtime</th>\n",
       "      <th>available_bookmaker_odds</th>\n",
       "    </tr>\n",
       "  </thead>\n",
       "  <tbody>\n",
       "    <tr>\n",
       "      <th>0</th>\n",
       "      <td>2015-04-09T01:00:00.000Z</td>\n",
       "      <td>Boston Celtics</td>\n",
       "      <td>113</td>\n",
       "      <td>1.81</td>\n",
       "      <td>Detroit Pistons</td>\n",
       "      <td>103</td>\n",
       "      <td>2.05</td>\n",
       "      <td>False</td>\n",
       "      <td>13</td>\n",
       "    </tr>\n",
       "    <tr>\n",
       "      <th>1</th>\n",
       "      <td>2015-04-09T01:00:00.000Z</td>\n",
       "      <td>Orlando Magic</td>\n",
       "      <td>105</td>\n",
       "      <td>3.74</td>\n",
       "      <td>Chicago Bulls</td>\n",
       "      <td>103</td>\n",
       "      <td>1.29</td>\n",
       "      <td>False</td>\n",
       "      <td>13</td>\n",
       "    </tr>\n",
       "    <tr>\n",
       "      <th>2</th>\n",
       "      <td>2015-04-08T04:30:00.000Z</td>\n",
       "      <td>Los Angeles Clippers</td>\n",
       "      <td>105</td>\n",
       "      <td>1.02</td>\n",
       "      <td>Los Angeles Lakers</td>\n",
       "      <td>100</td>\n",
       "      <td>17.34</td>\n",
       "      <td>False</td>\n",
       "      <td>13</td>\n",
       "    </tr>\n",
       "    <tr>\n",
       "      <th>3</th>\n",
       "      <td>2015-04-08T04:00:00.000Z</td>\n",
       "      <td>Sacramento Kings</td>\n",
       "      <td>116</td>\n",
       "      <td>1.23</td>\n",
       "      <td>Minnesota Timberwolves</td>\n",
       "      <td>111</td>\n",
       "      <td>4.43</td>\n",
       "      <td>False</td>\n",
       "      <td>13</td>\n",
       "    </tr>\n",
       "    <tr>\n",
       "      <th>4</th>\n",
       "      <td>2015-04-08T02:00:00.000Z</td>\n",
       "      <td>New Orleans Pelicans</td>\n",
       "      <td>103</td>\n",
       "      <td>2.62</td>\n",
       "      <td>Golden State Warriors</td>\n",
       "      <td>100</td>\n",
       "      <td>1.52</td>\n",
       "      <td>False</td>\n",
       "      <td>13</td>\n",
       "    </tr>\n",
       "  </tbody>\n",
       "</table>\n",
       "</div>"
      ],
      "text/plain": [
       "                  date_time                winner  score_winner  odd_winner                  looser  score_looser  odd_looser overtime  available_bookmaker_odds\n",
       "0  2015-04-09T01:00:00.000Z        Boston Celtics           113        1.81         Detroit Pistons           103        2.05    False                        13\n",
       "1  2015-04-09T01:00:00.000Z         Orlando Magic           105        3.74           Chicago Bulls           103        1.29    False                        13\n",
       "2  2015-04-08T04:30:00.000Z  Los Angeles Clippers           105        1.02      Los Angeles Lakers           100       17.34    False                        13\n",
       "3  2015-04-08T04:00:00.000Z      Sacramento Kings           116        1.23  Minnesota Timberwolves           111        4.43    False                        13\n",
       "4  2015-04-08T02:00:00.000Z  New Orleans Pelicans           103        2.62   Golden State Warriors           100        1.52    False                        13"
      ]
     },
     "execution_count": 20,
     "metadata": {},
     "output_type": "execute_result"
    }
   ],
   "source": [
    "g = games_cleaned\n",
    "g.head()"
   ]
  },
  {
   "cell_type": "code",
   "execution_count": 21,
   "metadata": {
    "collapsed": false
   },
   "outputs": [
    {
     "data": {
      "text/plain": [
       "0     True\n",
       "1    False\n",
       "2     True\n",
       "3     True\n",
       "4    False\n",
       "dtype: bool"
      ]
     },
     "execution_count": 21,
     "metadata": {},
     "output_type": "execute_result"
    }
   ],
   "source": [
    "# Create a feature that says \"the lowest odd wins\"\n",
    "y = g[\"odd_winner\"]<=g[\"odd_looser\"]\n",
    "y.head()"
   ]
  },
  {
   "cell_type": "code",
   "execution_count": 22,
   "metadata": {
    "collapsed": false
   },
   "outputs": [
    {
     "data": {
      "image/png": "[encoded data removed]",
      "text/plain": [
       "<matplotlib.figure.Figure at 0x7f031ed54a50>"
      ]
     },
     "metadata": {},
     "output_type": "display_data"
    }
   ],
   "source": [
    "# plot the (odd_winner, odd_looser) graph with two different labels given the value of y\n",
    "plt.figure()\n",
    "plt.title(\"Winner = Lowest odd?\")\n",
    "plt.xlabel(\"Winner's Odd\")\n",
    "plt.ylabel(\"Looser's Odd\")\n",
    "# plt.legend([\"the lowest odd won\",\"the highest odd won\"])\n",
    "plt.scatter(g[\"odd_winner\"],g[\"odd_looser\"],c=y,alpha=0.5)\n",
    "plt.grid(True)\n",
    "plt.axis([1,20,1,20])\n",
    "plt.show()"
   ]
  },
  {
   "cell_type": "markdown",
   "metadata": {},
   "source": [
    "Games 1 and 4 are prolblematic for a better because the odds were predicting a different outcome than the real one.\n",
    "\n",
    "So we built a feature y measuring *if the lowest odd wins*.\n",
    "\n",
    "We then are trying to apply **supervised learning methods** to build a classifier able to predict with more certainty if the lowest odd is right."
   ]
  },
  {
   "cell_type": "code",
   "execution_count": 23,
   "metadata": {
    "collapsed": false
   },
   "outputs": [
    {
     "data": {
      "image/png": "[encoded data removed]",
      "text/plain": [
       "<matplotlib.figure.Figure at 0x7f031eb4d910>"
      ]
     },
     "metadata": {},
     "output_type": "display_data"
    }
   ],
   "source": [
    "# plot the (odd_winner, odd_looser) graph with two different labels given the value of y\n",
    "plt.figure()\n",
    "plt.title(\"Winner = Lowest odd?\")\n",
    "plt.xlabel(\"Lowest Odd\")\n",
    "plt.ylabel(\"Highest Odd\")\n",
    "# plt.legend([\"the lowest odd won\",\"the highest odd won\"])\n",
    "mini = g.loc[:,[\"odd_winner\",\"odd_looser\"]].min(axis=1)\n",
    "maxi = g.loc[:,[\"odd_winner\",\"odd_looser\"]].max(axis=1)\n",
    "plt.scatter(mini,maxi,c=y,alpha=0.5)\n",
    "plt.grid(True)\n",
    "plt.axis([1,2,1,20])\n",
    "plt.show()"
   ]
  },
  {
   "cell_type": "code",
   "execution_count": 24,
   "metadata": {
    "collapsed": false
   },
   "outputs": [
    {
     "data": {
      "text/plain": [
       "(array([ 405.,    0.,    0.,    0.,    0.,    0.,    0.,    0.,    0.,  945.]),\n",
       " array([ 0. ,  0.1,  0.2,  0.3,  0.4,  0.5,  0.6,  0.7,  0.8,  0.9,  1. ]),\n",
       " <a list of 10 Patch objects>)"
      ]
     },
     "execution_count": 24,
     "metadata": {},
     "output_type": "execute_result"
    },
    {
     "data": {
      "image/png": "[encoded data removed]",
      "text/plain": [
       "<matplotlib.figure.Figure at 0x7f031ee27650>"
      ]
     },
     "metadata": {},
     "output_type": "display_data"
    }
   ],
   "source": [
    "# Accuracy of classifier\n",
    "plt.hist(y)"
   ]
  },
  {
   "cell_type": "code",
   "execution_count": 25,
   "metadata": {
    "collapsed": false
   },
   "outputs": [
    {
     "data": {
      "text/plain": [
       "70"
      ]
     },
     "execution_count": 25,
     "metadata": {},
     "output_type": "execute_result"
    }
   ],
   "source": [
    "a=945*100/(405+945)\n",
    "a"
   ]
  },
  {
   "cell_type": "markdown",
   "metadata": {},
   "source": [
    "The accuracy of the classifier \"the lowest odd wins\" is already 70%."
   ]
  },
  {
   "cell_type": "code",
   "execution_count": 27,
   "metadata": {
    "collapsed": false
   },
   "outputs": [],
   "source": [
    "surprise = g.loc[y==False]"
   ]
  },
  {
   "cell_type": "code",
   "execution_count": 29,
   "metadata": {
    "collapsed": false
   },
   "outputs": [
    {
     "data": {
      "image/png": "[encoded data removed]",
      "text/plain": [
       "<matplotlib.figure.Figure at 0x7f031e8b9050>"
      ]
     },
     "metadata": {},
     "output_type": "display_data"
    }
   ],
   "source": [
    "plt.hist(surprise[\"odd_winner\"]);"
   ]
  },
  {
   "cell_type": "code",
   "execution_count": 40,
   "metadata": {
    "collapsed": false
   },
   "outputs": [],
   "source": [
    "a = df.loc[df[\"odd_winner\"]>=50,:]\n",
    "b = df.loc[df[\"odd_winner\"]<-50,:]\n",
    "us_odds = pd.concat([a,b])"
   ]
  },
  {
   "cell_type": "code",
   "execution_count": 43,
   "metadata": {
    "collapsed": false
   },
   "outputs": [
    {
     "data": {
      "text/plain": [
       "594    2.65\n",
       "599    2.87\n",
       "606    3.10\n",
       "608    2.93\n",
       "610    2.25\n",
       "619    2.08\n",
       "633    3.46\n",
       "651    2.18\n",
       "652    2.06\n",
       "654    4.24\n",
       "660    2.25\n",
       "670    3.79\n",
       "677    2.58\n",
       "678    2.06\n",
       "680    3.89\n",
       "Name: odd_winner, dtype: float64"
      ]
     },
     "execution_count": 43,
     "metadata": {},
     "output_type": "execute_result"
    }
   ],
   "source": [
    "#02 fevrier au 21 février are faulty = US odds\n",
    "us_odds.loc[us_odds[\"odd_winner\"]>=0][\"odd_winner\"]/100+1"
   ]
  },
  {
   "cell_type": "code",
   "execution_count": 47,
   "metadata": {
    "collapsed": false
   },
   "outputs": [
    {
     "data": {
      "text/plain": [
       "584    1.591716\n",
       "595    1.719424\n",
       "596    1.250000\n",
       "597    1.813008\n",
       "598    1.641026\n",
       "607    1.320513\n",
       "609    1.239808\n",
       "617    1.480769\n",
       "618    1.571429\n",
       "620    1.671141\n",
       "621    1.059988\n",
       "622    1.480769\n",
       "628    1.100000\n",
       "629    1.179856\n",
       "630    1.200000\n",
       "631    1.847458\n",
       "632    1.520833\n",
       "639    1.370370\n",
       "640    1.500000\n",
       "641    1.420168\n",
       "642    1.980392\n",
       "643    1.149925\n",
       "650    1.090009\n",
       "653    1.370370\n",
       "658    1.480769\n",
       "659    1.380228\n",
       "666    1.510204\n",
       "667    1.529101\n",
       "668    1.040000\n",
       "669    1.160000\n",
       "679    1.781250\n",
       "681    1.689655\n",
       "682    1.359712\n",
       "689    1.050000\n",
       "690    1.300300\n",
       "Name: odd_winner, dtype: float64"
      ]
     },
     "execution_count": 47,
     "metadata": {},
     "output_type": "execute_result"
    }
   ],
   "source": [
    "-100/us_odds.loc[us_odds[\"odd_winner\"]<0][\"odd_winner\"]+1"
   ]
  },
  {
   "cell_type": "code",
   "execution_count": null,
   "metadata": {
    "collapsed": true
   },
   "outputs": [],
   "source": []
  }
 ],
 "metadata": {
  "kernelspec": {
   "display_name": "Python 2",
   "language": "python",
   "name": "python2"
  },
  "language_info": {
   "codemirror_mode": {
    "name": "ipython",
    "version": 2
   },
   "file_extension": ".py",
   "mimetype": "text/x-python",
   "name": "python",
   "nbconvert_exporter": "python",
   "pygments_lexer": "ipython2",
   "version": "2.7.11"
  }
 },
 "nbformat": 4,
 "nbformat_minor": 0
}
