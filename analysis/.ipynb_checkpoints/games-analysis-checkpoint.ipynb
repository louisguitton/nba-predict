{
 "cells": [
  {
   "cell_type": "markdown",
   "metadata": {},
   "source": [
    "# Preliminary plotting stuff to get things going"
   ]
  },
  {
   "cell_type": "code",
   "execution_count": 2,
   "metadata": {
    "collapsed": false
   },
   "outputs": [],
   "source": [
    "%matplotlib inline\n",
    "import numpy as np\n",
    "import matplotlib.pyplot as plt\n",
    "import pandas as pd\n",
    "from matplotlib import rcParams"
   ]
  },
  {
   "cell_type": "code",
   "execution_count": 3,
   "metadata": {
    "collapsed": false
   },
   "outputs": [],
   "source": [
    "rcParams['figure.figsize'] = (10, 6)\n",
    "rcParams['figure.dpi'] = 150\n",
    "# rcParams['axes.color_cycle'] = Dark2_7\n",
    "rcParams['lines.linewidth'] = 2\n",
    "rcParams['axes.facecolor'] = 'white'\n",
    "rcParams['font.size'] = 14\n",
    "rcParams['patch.edgecolor'] = 'white'\n",
    "# rcParams['patch.facecolor'] = Dark2_7[0]\n",
    "rcParams['font.family'] = 'StixGeneral'\n",
    "\n",
    "\n",
    "def remove_border(axes=None, top=False, right=False, left=True, bottom=True):\n",
    "    \"\"\"\n",
    "    Minimize chartjunk by stripping out unnecesasry plot borders and axis ticks\n",
    "    \n",
    "    The top/right/left/bottom keywords toggle whether the corresponding plot border is drawn\n",
    "    \"\"\"\n",
    "    ax = axes or plt.gca()\n",
    "    ax.spines['top'].set_visible(top)\n",
    "    ax.spines['right'].set_visible(right)\n",
    "    ax.spines['left'].set_visible(left)\n",
    "    ax.spines['bottom'].set_visible(bottom)\n",
    "    \n",
    "    #turn off all ticks\n",
    "    ax.yaxis.set_ticks_position('none')\n",
    "    ax.xaxis.set_ticks_position('none')\n",
    "    \n",
    "    #now re-enable visibles\n",
    "    if top:\n",
    "        ax.xaxis.tick_top()\n",
    "    if bottom:\n",
    "        ax.xaxis.tick_bottom()\n",
    "    if left:\n",
    "        ax.yaxis.tick_left()\n",
    "    if right:\n",
    "        ax.yaxis.tick_right()"
   ]
  },
  {
   "cell_type": "code",
   "execution_count": 4,
   "metadata": {
    "collapsed": true
   },
   "outputs": [],
   "source": [
    "pd.set_option('display.width', 500)\n",
    "pd.set_option('display.max_columns', 100)"
   ]
  },
  {
   "cell_type": "markdown",
   "metadata": {},
   "source": [
    "# Loading and Cleaning"
   ]
  },
  {
   "cell_type": "code",
   "execution_count": 5,
   "metadata": {
    "collapsed": false
   },
   "outputs": [
    {
     "data": {
      "text/html": [
       "<div>\n",
       "<table border=\"1\" class=\"dataframe\">\n",
       "  <thead>\n",
       "    <tr style=\"text-align: right;\">\n",
       "      <th></th>\n",
       "      <th>date_time</th>\n",
       "      <th>home_team</th>\n",
       "      <th>away_team</th>\n",
       "      <th>odd_home</th>\n",
       "      <th>odd_away</th>\n",
       "      <th>score_home</th>\n",
       "      <th>score_away</th>\n",
       "      <th>overtime</th>\n",
       "    </tr>\n",
       "  </thead>\n",
       "  <tbody>\n",
       "    <tr>\n",
       "      <th>0</th>\n",
       "      <td>2015-03-13T01:00:00.000Z</td>\n",
       "      <td>Washington Wizards</td>\n",
       "      <td>Memphis Grizzlies</td>\n",
       "      <td>1.259740</td>\n",
       "      <td>4.030000</td>\n",
       "      <td>107</td>\n",
       "      <td>87</td>\n",
       "      <td>False</td>\n",
       "    </tr>\n",
       "    <tr>\n",
       "      <th>1</th>\n",
       "      <td>2015-03-12T04:30:00.000Z</td>\n",
       "      <td>Golden State Warriors</td>\n",
       "      <td>Detroit Pistons</td>\n",
       "      <td>1.050000</td>\n",
       "      <td>11.520000</td>\n",
       "      <td>105</td>\n",
       "      <td>98</td>\n",
       "      <td>False</td>\n",
       "    </tr>\n",
       "    <tr>\n",
       "      <th>2</th>\n",
       "      <td>2015-03-12T04:30:00.000Z</td>\n",
       "      <td>Portland Trail Blazers</td>\n",
       "      <td>Houston Rockets</td>\n",
       "      <td>1.729927</td>\n",
       "      <td>2.160000</td>\n",
       "      <td>105</td>\n",
       "      <td>100</td>\n",
       "      <td>False</td>\n",
       "    </tr>\n",
       "    <tr>\n",
       "      <th>3</th>\n",
       "      <td>2015-03-12T04:00:00.000Z</td>\n",
       "      <td>Phoenix Suns</td>\n",
       "      <td>Minnesota Timberwolves</td>\n",
       "      <td>1.490196</td>\n",
       "      <td>2.720000</td>\n",
       "      <td>106</td>\n",
       "      <td>97</td>\n",
       "      <td>False</td>\n",
       "    </tr>\n",
       "    <tr>\n",
       "      <th>4</th>\n",
       "      <td>2015-03-12T03:00:00.000Z</td>\n",
       "      <td>Denver Nuggets</td>\n",
       "      <td>Atlanta Hawks</td>\n",
       "      <td>3.450000</td>\n",
       "      <td>1.330033</td>\n",
       "      <td>115</td>\n",
       "      <td>102</td>\n",
       "      <td>False</td>\n",
       "    </tr>\n",
       "  </tbody>\n",
       "</table>\n",
       "</div>"
      ],
      "text/plain": [
       "                  date_time               home_team               away_team  odd_home   odd_away  score_home  score_away overtime\n",
       "0  2015-03-13T01:00:00.000Z      Washington Wizards       Memphis Grizzlies  1.259740   4.030000         107          87    False\n",
       "1  2015-03-12T04:30:00.000Z   Golden State Warriors         Detroit Pistons  1.050000  11.520000         105          98    False\n",
       "2  2015-03-12T04:30:00.000Z  Portland Trail Blazers         Houston Rockets  1.729927   2.160000         105         100    False\n",
       "3  2015-03-12T04:00:00.000Z            Phoenix Suns  Minnesota Timberwolves  1.490196   2.720000         106          97    False\n",
       "4  2015-03-12T03:00:00.000Z          Denver Nuggets           Atlanta Hawks  3.450000   1.330033         115         102    False"
      ]
     },
     "execution_count": 5,
     "metadata": {},
     "output_type": "execute_result"
    }
   ],
   "source": [
    "df=pd.read_csv(\"../data/games_mongodump.csv\")\n",
    "df.head(5)"
   ]
  },
  {
   "cell_type": "code",
   "execution_count": 6,
   "metadata": {
    "collapsed": false
   },
   "outputs": [
    {
     "data": {
      "text/html": [
       "<div>\n",
       "<table border=\"1\" class=\"dataframe\">\n",
       "  <thead>\n",
       "    <tr style=\"text-align: right;\">\n",
       "      <th></th>\n",
       "      <th>odd_home</th>\n",
       "      <th>odd_away</th>\n",
       "      <th>score_home</th>\n",
       "      <th>score_away</th>\n",
       "      <th>overtime</th>\n",
       "    </tr>\n",
       "  </thead>\n",
       "  <tbody>\n",
       "    <tr>\n",
       "      <th>count</th>\n",
       "      <td>8304.000000</td>\n",
       "      <td>8304.000000</td>\n",
       "      <td>8304.000000</td>\n",
       "      <td>8304.000000</td>\n",
       "      <td>8304</td>\n",
       "    </tr>\n",
       "    <tr>\n",
       "      <th>mean</th>\n",
       "      <td>1.868061</td>\n",
       "      <td>3.349489</td>\n",
       "      <td>100.658839</td>\n",
       "      <td>97.692076</td>\n",
       "      <td>0.0611753</td>\n",
       "    </tr>\n",
       "    <tr>\n",
       "      <th>std</th>\n",
       "      <td>1.048794</td>\n",
       "      <td>2.545006</td>\n",
       "      <td>12.029303</td>\n",
       "      <td>11.984653</td>\n",
       "      <td>0.239666</td>\n",
       "    </tr>\n",
       "    <tr>\n",
       "      <th>min</th>\n",
       "      <td>1.010000</td>\n",
       "      <td>1.020000</td>\n",
       "      <td>59.000000</td>\n",
       "      <td>56.000000</td>\n",
       "      <td>False</td>\n",
       "    </tr>\n",
       "    <tr>\n",
       "      <th>25%</th>\n",
       "      <td>1.270000</td>\n",
       "      <td>1.770000</td>\n",
       "      <td>93.000000</td>\n",
       "      <td>90.000000</td>\n",
       "      <td>0</td>\n",
       "    </tr>\n",
       "    <tr>\n",
       "      <th>50%</th>\n",
       "      <td>1.540000</td>\n",
       "      <td>2.520000</td>\n",
       "      <td>100.000000</td>\n",
       "      <td>98.000000</td>\n",
       "      <td>0</td>\n",
       "    </tr>\n",
       "    <tr>\n",
       "      <th>75%</th>\n",
       "      <td>2.090000</td>\n",
       "      <td>3.870000</td>\n",
       "      <td>108.000000</td>\n",
       "      <td>105.000000</td>\n",
       "      <td>0</td>\n",
       "    </tr>\n",
       "    <tr>\n",
       "      <th>max</th>\n",
       "      <td>17.240000</td>\n",
       "      <td>23.430000</td>\n",
       "      <td>163.000000</td>\n",
       "      <td>163.000000</td>\n",
       "      <td>True</td>\n",
       "    </tr>\n",
       "  </tbody>\n",
       "</table>\n",
       "</div>"
      ],
      "text/plain": [
       "          odd_home     odd_away   score_home   score_away   overtime\n",
       "count  8304.000000  8304.000000  8304.000000  8304.000000       8304\n",
       "mean      1.868061     3.349489   100.658839    97.692076  0.0611753\n",
       "std       1.048794     2.545006    12.029303    11.984653   0.239666\n",
       "min       1.010000     1.020000    59.000000    56.000000      False\n",
       "25%       1.270000     1.770000    93.000000    90.000000          0\n",
       "50%       1.540000     2.520000   100.000000    98.000000          0\n",
       "75%       2.090000     3.870000   108.000000   105.000000          0\n",
       "max      17.240000    23.430000   163.000000   163.000000       True"
      ]
     },
     "execution_count": 6,
     "metadata": {},
     "output_type": "execute_result"
    }
   ],
   "source": [
    "df.describe()"
   ]
  },
  {
   "cell_type": "code",
   "execution_count": 7,
   "metadata": {
    "collapsed": false
   },
   "outputs": [
    {
     "data": {
      "image/png": "[encoded data removed]",
      "text/plain": [
       "<matplotlib.figure.Figure at 0x7f014f874950>"
      ]
     },
     "metadata": {},
     "output_type": "display_data"
    }
   ],
   "source": [
    "line = plt.figure()\n",
    "plt.plot(df[\"odd_home\"]);"
   ]
  },
  {
   "cell_type": "markdown",
   "metadata": {},
   "source": [
    "## Preliminary Analysis and plotting"
   ]
  },
  {
   "cell_type": "code",
   "execution_count": 8,
   "metadata": {
    "collapsed": false
   },
   "outputs": [
    {
     "data": {
      "text/plain": [
       "home_team\n",
       "Atlanta Hawks             292\n",
       "Boston Celtics            296\n",
       "Brooklyn Nets             269\n",
       "Charlotte Hornets         258\n",
       "Chicago Bulls             292\n",
       "Cleveland Cavaliers       280\n",
       "Dallas Mavericks          287\n",
       "Denver Nuggets            274\n",
       "Detroit Pistons           252\n",
       "East                        2\n",
       "Golden State Warriors     272\n",
       "Houston Rockets           284\n",
       "Indiana Pacers            278\n",
       "Los Angeles Clippers      284\n",
       "Los Angeles Lakers        307\n",
       "Memphis Grizzlies         282\n",
       "Miami Heat                316\n",
       "Milwaukee Bucks           265\n",
       "Minnesota Timberwolves    254\n",
       "New Orleans Pelicans      257\n",
       "New York Knicks           258\n",
       "Oklahoma City Thunder     296\n",
       "Orlando Magic             285\n",
       "Philadelphia 76ers        266\n",
       "Phoenix Suns              268\n",
       "Portland Trail Blazers    270\n",
       "Sacramento Kings          256\n",
       "San Antonio Spurs         305\n",
       "Sophomores                  3\n",
       "Team Chuck                  1\n",
       "Toronto Raptors           265\n",
       "Utah Jazz                 263\n",
       "Washington Wizards        263\n",
       "West                        4\n",
       "dtype: int64"
      ]
     },
     "execution_count": 8,
     "metadata": {},
     "output_type": "execute_result"
    }
   ],
   "source": [
    "winner_group = df.groupby('home_team')\n",
    "winner_group.size()"
   ]
  },
  {
   "cell_type": "code",
   "execution_count": 9,
   "metadata": {
    "collapsed": true
   },
   "outputs": [],
   "source": [
    "def nb_of_games(team):\n",
    "    return len(df.loc[df[\"home_team\"] == team])+len(df.loc[df[\"away_team\"] == team])"
   ]
  },
  {
   "cell_type": "code",
   "execution_count": 10,
   "metadata": {
    "collapsed": false
   },
   "outputs": [
    {
     "data": {
      "text/plain": [
       "{'Atlanta Hawks',\n",
       " 'Boston Celtics',\n",
       " 'Brooklyn Nets',\n",
       " 'Charlotte Hornets',\n",
       " 'Chicago Bulls',\n",
       " 'Cleveland Cavaliers',\n",
       " 'Dallas Mavericks',\n",
       " 'Denver Nuggets',\n",
       " 'Detroit Pistons',\n",
       " 'East',\n",
       " 'Golden State Warriors',\n",
       " 'Houston Rockets',\n",
       " 'Indiana Pacers',\n",
       " 'Los Angeles Clippers',\n",
       " 'Los Angeles Lakers',\n",
       " 'Memphis Grizzlies',\n",
       " 'Miami Heat',\n",
       " 'Milwaukee Bucks',\n",
       " 'Minnesota Timberwolves',\n",
       " 'New Orleans Pelicans',\n",
       " 'New York Knicks',\n",
       " 'Oklahoma City Thunder',\n",
       " 'Orlando Magic',\n",
       " 'Philadelphia 76ers',\n",
       " 'Phoenix Suns',\n",
       " 'Portland Trail Blazers',\n",
       " 'Rookies',\n",
       " 'Sacramento Kings',\n",
       " 'San Antonio Spurs',\n",
       " 'Sophomores',\n",
       " 'Team Chuck',\n",
       " 'Team Shaq',\n",
       " 'Toronto Raptors',\n",
       " 'Utah Jazz',\n",
       " 'Washington Wizards',\n",
       " 'West'}"
      ]
     },
     "execution_count": 10,
     "metadata": {},
     "output_type": "execute_result"
    }
   ],
   "source": [
    "teams = set(df[\"home_team\"]).union(set(df[\"away_team\"]))\n",
    "teams"
   ]
  },
  {
   "cell_type": "code",
   "execution_count": 13,
   "metadata": {
    "collapsed": false
   },
   "outputs": [
    {
     "data": {
      "text/html": [
       "<div>\n",
       "<table border=\"1\" class=\"dataframe\">\n",
       "  <thead>\n",
       "    <tr style=\"text-align: right;\">\n",
       "      <th></th>\n",
       "      <th>date_time</th>\n",
       "      <th>home_team</th>\n",
       "      <th>away_team</th>\n",
       "      <th>odd_home</th>\n",
       "      <th>odd_away</th>\n",
       "      <th>score_home</th>\n",
       "      <th>score_away</th>\n",
       "      <th>overtime</th>\n",
       "    </tr>\n",
       "  </thead>\n",
       "  <tbody>\n",
       "    <tr>\n",
       "      <th>3130</th>\n",
       "      <td>2013-02-18T03:00:00.000Z</td>\n",
       "      <td>West</td>\n",
       "      <td>East</td>\n",
       "      <td>1.72</td>\n",
       "      <td>2.17</td>\n",
       "      <td>143</td>\n",
       "      <td>138</td>\n",
       "      <td>False</td>\n",
       "    </tr>\n",
       "    <tr>\n",
       "      <th>5332</th>\n",
       "      <td>2011-02-21T03:00:00.000Z</td>\n",
       "      <td>West</td>\n",
       "      <td>East</td>\n",
       "      <td>2.28</td>\n",
       "      <td>1.66</td>\n",
       "      <td>148</td>\n",
       "      <td>143</td>\n",
       "      <td>False</td>\n",
       "    </tr>\n",
       "    <tr>\n",
       "      <th>6828</th>\n",
       "      <td>2010-02-15T03:00:00.000Z</td>\n",
       "      <td>West</td>\n",
       "      <td>East</td>\n",
       "      <td>2.16</td>\n",
       "      <td>1.72</td>\n",
       "      <td>139</td>\n",
       "      <td>141</td>\n",
       "      <td>False</td>\n",
       "    </tr>\n",
       "    <tr>\n",
       "      <th>7913</th>\n",
       "      <td>2009-02-16T03:00:00.000Z</td>\n",
       "      <td>West</td>\n",
       "      <td>East</td>\n",
       "      <td>1.69</td>\n",
       "      <td>2.18</td>\n",
       "      <td>146</td>\n",
       "      <td>119</td>\n",
       "      <td>False</td>\n",
       "    </tr>\n",
       "  </tbody>\n",
       "</table>\n",
       "</div>"
      ],
      "text/plain": [
       "                     date_time home_team away_team  odd_home  odd_away  score_home  score_away overtime\n",
       "3130  2013-02-18T03:00:00.000Z      West      East      1.72      2.17         143         138    False\n",
       "5332  2011-02-21T03:00:00.000Z      West      East      2.28      1.66         148         143    False\n",
       "6828  2010-02-15T03:00:00.000Z      West      East      2.16      1.72         139         141    False\n",
       "7913  2009-02-16T03:00:00.000Z      West      East      1.69      2.18         146         119    False"
      ]
     },
     "execution_count": 13,
     "metadata": {},
     "output_type": "execute_result"
    }
   ],
   "source": [
    "df.loc[df[\"home_team\"] == \"West\"] #in df there is the allstar game, not in games_cleaned"
   ]
  },
  {
   "cell_type": "code",
   "execution_count": 14,
   "metadata": {
    "collapsed": false
   },
   "outputs": [],
   "source": [
    "x = list(teams)\n",
    "y = [nb_of_games(t) for t in x]\n",
    "# red_dot = plt.plot(y,\"ro\")\n",
    "# plt.legend(red_dot,x)"
   ]
  },
  {
   "cell_type": "code",
   "execution_count": 15,
   "metadata": {
    "collapsed": false
   },
   "outputs": [
    {
     "data": {
      "text/html": [
       "<div>\n",
       "<table border=\"1\" class=\"dataframe\">\n",
       "  <thead>\n",
       "    <tr style=\"text-align: right;\">\n",
       "      <th></th>\n",
       "      <th>0</th>\n",
       "      <th>1</th>\n",
       "      <th>2</th>\n",
       "      <th>3</th>\n",
       "      <th>4</th>\n",
       "      <th>5</th>\n",
       "      <th>6</th>\n",
       "      <th>7</th>\n",
       "      <th>8</th>\n",
       "      <th>9</th>\n",
       "      <th>10</th>\n",
       "      <th>11</th>\n",
       "      <th>12</th>\n",
       "      <th>13</th>\n",
       "      <th>14</th>\n",
       "      <th>15</th>\n",
       "      <th>16</th>\n",
       "      <th>17</th>\n",
       "      <th>18</th>\n",
       "      <th>19</th>\n",
       "      <th>20</th>\n",
       "      <th>21</th>\n",
       "      <th>22</th>\n",
       "      <th>23</th>\n",
       "      <th>24</th>\n",
       "      <th>25</th>\n",
       "      <th>26</th>\n",
       "      <th>27</th>\n",
       "      <th>28</th>\n",
       "      <th>29</th>\n",
       "      <th>30</th>\n",
       "      <th>31</th>\n",
       "      <th>32</th>\n",
       "      <th>33</th>\n",
       "      <th>34</th>\n",
       "      <th>35</th>\n",
       "    </tr>\n",
       "  </thead>\n",
       "  <tbody>\n",
       "    <tr>\n",
       "      <th>0</th>\n",
       "      <td>Los Angeles Lakers</td>\n",
       "      <td>Chicago Bulls</td>\n",
       "      <td>West</td>\n",
       "      <td>San Antonio Spurs</td>\n",
       "      <td>New Orleans Pelicans</td>\n",
       "      <td>Rookies</td>\n",
       "      <td>Philadelphia 76ers</td>\n",
       "      <td>Sophomores</td>\n",
       "      <td>Detroit Pistons</td>\n",
       "      <td>Boston Celtics</td>\n",
       "      <td>Miami Heat</td>\n",
       "      <td>Orlando Magic</td>\n",
       "      <td>Portland Trail Blazers</td>\n",
       "      <td>East</td>\n",
       "      <td>Golden State Warriors</td>\n",
       "      <td>New York Knicks</td>\n",
       "      <td>Washington Wizards</td>\n",
       "      <td>Dallas Mavericks</td>\n",
       "      <td>Minnesota Timberwolves</td>\n",
       "      <td>Los Angeles Clippers</td>\n",
       "      <td>Oklahoma City Thunder</td>\n",
       "      <td>Charlotte Hornets</td>\n",
       "      <td>Milwaukee Bucks</td>\n",
       "      <td>Team Chuck</td>\n",
       "      <td>Memphis Grizzlies</td>\n",
       "      <td>Toronto Raptors</td>\n",
       "      <td>Utah Jazz</td>\n",
       "      <td>Phoenix Suns</td>\n",
       "      <td>Sacramento Kings</td>\n",
       "      <td>Houston Rockets</td>\n",
       "      <td>Cleveland Cavaliers</td>\n",
       "      <td>Atlanta Hawks</td>\n",
       "      <td>Brooklyn Nets</td>\n",
       "      <td>Team Shaq</td>\n",
       "      <td>Indiana Pacers</td>\n",
       "      <td>Denver Nuggets</td>\n",
       "    </tr>\n",
       "    <tr>\n",
       "      <th>1</th>\n",
       "      <td>586</td>\n",
       "      <td>569</td>\n",
       "      <td>6</td>\n",
       "      <td>597</td>\n",
       "      <td>520</td>\n",
       "      <td>3</td>\n",
       "      <td>533</td>\n",
       "      <td>3</td>\n",
       "      <td>515</td>\n",
       "      <td>590</td>\n",
       "      <td>619</td>\n",
       "      <td>566</td>\n",
       "      <td>552</td>\n",
       "      <td>6</td>\n",
       "      <td>555</td>\n",
       "      <td>533</td>\n",
       "      <td>539</td>\n",
       "      <td>567</td>\n",
       "      <td>511</td>\n",
       "      <td>561</td>\n",
       "      <td>587</td>\n",
       "      <td>521</td>\n",
       "      <td>528</td>\n",
       "      <td>1</td>\n",
       "      <td>573</td>\n",
       "      <td>525</td>\n",
       "      <td>539</td>\n",
       "      <td>529</td>\n",
       "      <td>515</td>\n",
       "      <td>552</td>\n",
       "      <td>561</td>\n",
       "      <td>591</td>\n",
       "      <td>531</td>\n",
       "      <td>1</td>\n",
       "      <td>574</td>\n",
       "      <td>549</td>\n",
       "    </tr>\n",
       "  </tbody>\n",
       "</table>\n",
       "</div>"
      ],
      "text/plain": [
       "                   0              1     2                  3                     4        5                   6           7                8               9           10             11                      12    13                     14               15                  16                17                      18                    19                     20                 21               22          23                 24               25         26            27                28  \\\n",
       "0  Los Angeles Lakers  Chicago Bulls  West  San Antonio Spurs  New Orleans Pelicans  Rookies  Philadelphia 76ers  Sophomores  Detroit Pistons  Boston Celtics  Miami Heat  Orlando Magic  Portland Trail Blazers  East  Golden State Warriors  New York Knicks  Washington Wizards  Dallas Mavericks  Minnesota Timberwolves  Los Angeles Clippers  Oklahoma City Thunder  Charlotte Hornets  Milwaukee Bucks  Team Chuck  Memphis Grizzlies  Toronto Raptors  Utah Jazz  Phoenix Suns  Sacramento Kings   \n",
       "1                 586            569     6                597                   520        3                 533           3              515             590         619            566                     552     6                    555              533                 539               567                     511                   561                    587                521              528           1                573              525        539           529               515   \n",
       "\n",
       "                29                   30             31             32         33              34              35  \n",
       "0  Houston Rockets  Cleveland Cavaliers  Atlanta Hawks  Brooklyn Nets  Team Shaq  Indiana Pacers  Denver Nuggets  \n",
       "1              552                  561            591            531          1             574             549  "
      ]
     },
     "execution_count": 15,
     "metadata": {},
     "output_type": "execute_result"
    }
   ],
   "source": [
    "total_games = pd.DataFrame([x,y])\n",
    "total_games"
   ]
  },
  {
   "cell_type": "code",
   "execution_count": 16,
   "metadata": {
    "collapsed": false
   },
   "outputs": [
    {
     "data": {
      "image/png": "[encoded data removed]",
      "text/plain": [
       "<matplotlib.figure.Figure at 0x7f0126b7d250>"
      ]
     },
     "metadata": {},
     "output_type": "display_data"
    }
   ],
   "source": [
    "plt.figure()\n",
    "bins = np.linspace(60, 180, 100)\n",
    "plt.title(\"Home and Away Scores\")\n",
    "plt.xlabel(\"Points\")\n",
    "plt.ylabel(\"Frequency\")\n",
    "plt.hist(df[\"score_home\"],bins, alpha=0.5)\n",
    "plt.hist(df[\"score_away\"],bins, alpha=0.5)\n",
    "plt.show()"
   ]
  },
  {
   "cell_type": "code",
   "execution_count": 22,
   "metadata": {
    "collapsed": false
   },
   "outputs": [],
   "source": [
    "scores = pd.DataFrame([df[\"score_home\"],df[\"score_away\"]])\n",
    "winner_scores = scores.max(0)\n",
    "looser_scores = scores.min(0)"
   ]
  },
  {
   "cell_type": "code",
   "execution_count": 23,
   "metadata": {
    "collapsed": false
   },
   "outputs": [
    {
     "data": {
      "image/png": "[encoded data removed]",
      "text/plain": [
       "<matplotlib.figure.Figure at 0x7f0124191110>"
      ]
     },
     "metadata": {},
     "output_type": "display_data"
    }
   ],
   "source": [
    "plt.figure()\n",
    "bins = np.linspace(60, 180, 100)\n",
    "plt.title(\"Winner and Looser Scores\")\n",
    "plt.xlabel(\"Points\")\n",
    "plt.ylabel(\"Frequency\")\n",
    "plt.hist(winner_scores,bins, alpha=0.5)\n",
    "plt.hist(looser_scores,bins, alpha=0.5)\n",
    "plt.show()"
   ]
  },
  {
   "cell_type": "code",
   "execution_count": 24,
   "metadata": {
    "collapsed": false
   },
   "outputs": [
    {
     "data": {
      "image/png": "[encoded data removed]",
      "text/plain": [
       "<matplotlib.figure.Figure at 0x7f01244a4cd0>"
      ]
     },
     "metadata": {},
     "output_type": "display_data"
    }
   ],
   "source": [
    "plt.figure()\n",
    "bins = np.linspace(1, 20, 100)\n",
    "plt.hist(df[\"odd_home\"],bins, alpha=0.5);\n",
    "plt.hist(df[\"odd_away\"],bins, alpha=0.5);"
   ]
  },
  {
   "cell_type": "code",
   "execution_count": 33,
   "metadata": {
    "collapsed": false
   },
   "outputs": [
    {
     "data": {
      "text/plain": [
       "(array([ 986.,  757.,  569.,  470.,  306.,  209.,  163.,  104.,   94.,\n",
       "          44.,    6.,    1.,    0.,    0.,    0.,    0.,    0.,    0.,\n",
       "           0.,    0.,    0.,    0.,    0.,    0.,    0.,    0.,    0.,\n",
       "           0.,    0.,    0.,    0.,    0.,    0.,    0.,    0.,    0.,\n",
       "           0.,    0.,    0.,    0.,    0.,    0.,    0.,    0.,    0.,\n",
       "           0.,    0.,    0.,    0.,    0.,    0.,    0.,    0.,    0.,\n",
       "           0.,    0.,    0.,    0.,    0.,    0.,    0.,    0.,    0.,\n",
       "           0.,    0.,    0.,    0.,    0.,    0.,    0.,    0.,    0.,\n",
       "           0.,    0.,    0.,    0.,    0.,    0.,    0.,    0.,    0.,\n",
       "           0.,    0.,    0.,    0.,    0.,    0.,    0.,    0.,    0.,\n",
       "           0.,    0.,    0.,    0.,    0.,    0.,    0.,    0.,    0.]),\n",
       " array([  1.        ,   1.19191919,   1.38383838,   1.57575758,\n",
       "          1.76767677,   1.95959596,   2.15151515,   2.34343434,\n",
       "          2.53535354,   2.72727273,   2.91919192,   3.11111111,\n",
       "          3.3030303 ,   3.49494949,   3.68686869,   3.87878788,\n",
       "          4.07070707,   4.26262626,   4.45454545,   4.64646465,\n",
       "          4.83838384,   5.03030303,   5.22222222,   5.41414141,\n",
       "          5.60606061,   5.7979798 ,   5.98989899,   6.18181818,\n",
       "          6.37373737,   6.56565657,   6.75757576,   6.94949495,\n",
       "          7.14141414,   7.33333333,   7.52525253,   7.71717172,\n",
       "          7.90909091,   8.1010101 ,   8.29292929,   8.48484848,\n",
       "          8.67676768,   8.86868687,   9.06060606,   9.25252525,\n",
       "          9.44444444,   9.63636364,   9.82828283,  10.02020202,\n",
       "         10.21212121,  10.4040404 ,  10.5959596 ,  10.78787879,\n",
       "         10.97979798,  11.17171717,  11.36363636,  11.55555556,\n",
       "         11.74747475,  11.93939394,  12.13131313,  12.32323232,\n",
       "         12.51515152,  12.70707071,  12.8989899 ,  13.09090909,\n",
       "         13.28282828,  13.47474747,  13.66666667,  13.85858586,\n",
       "         14.05050505,  14.24242424,  14.43434343,  14.62626263,\n",
       "         14.81818182,  15.01010101,  15.2020202 ,  15.39393939,\n",
       "         15.58585859,  15.77777778,  15.96969697,  16.16161616,\n",
       "         16.35353535,  16.54545455,  16.73737374,  16.92929293,\n",
       "         17.12121212,  17.31313131,  17.50505051,  17.6969697 ,\n",
       "         17.88888889,  18.08080808,  18.27272727,  18.46464646,\n",
       "         18.65656566,  18.84848485,  19.04040404,  19.23232323,\n",
       "         19.42424242,  19.61616162,  19.80808081,  20.        ]),\n",
       " <a list of 99 Patch objects>)"
      ]
     },
     "execution_count": 33,
     "metadata": {},
     "output_type": "execute_result"
    },
    {
     "data": {
      "image/png": "[encoded data removed]",
      "text/plain": [
       "<matplotlib.figure.Figure at 0x7f012675c990>"
      ]
     },
     "metadata": {},
     "output_type": "display_data"
    }
   ],
   "source": [
    "plt.figure()\n",
    "bins = np.linspace(1, 20, 100)\n",
    "plt.hist(np.log(df[\"odd_home\"]),bins, alpha=0.5);\n",
    "plt.hist(np.log(df[\"odd_away\"]),bins, alpha=0.5);\n",
    "# we wanted to check if the odd_home column was following a log-normal law"
   ]
  },
  {
   "cell_type": "markdown",
   "metadata": {},
   "source": [
    "## Feature Engineering"
   ]
  },
  {
   "cell_type": "code",
   "execution_count": 34,
   "metadata": {
    "collapsed": false
   },
   "outputs": [
    {
     "data": {
      "text/html": [
       "<div>\n",
       "<table border=\"1\" class=\"dataframe\">\n",
       "  <thead>\n",
       "    <tr style=\"text-align: right;\">\n",
       "      <th></th>\n",
       "      <th>date_time</th>\n",
       "      <th>home_team</th>\n",
       "      <th>away_team</th>\n",
       "      <th>odd_home</th>\n",
       "      <th>odd_away</th>\n",
       "      <th>score_home</th>\n",
       "      <th>score_away</th>\n",
       "      <th>overtime</th>\n",
       "    </tr>\n",
       "  </thead>\n",
       "  <tbody>\n",
       "    <tr>\n",
       "      <th>0</th>\n",
       "      <td>2015-03-13T01:00:00.000Z</td>\n",
       "      <td>Washington Wizards</td>\n",
       "      <td>Memphis Grizzlies</td>\n",
       "      <td>1.259740</td>\n",
       "      <td>4.030000</td>\n",
       "      <td>107</td>\n",
       "      <td>87</td>\n",
       "      <td>False</td>\n",
       "    </tr>\n",
       "    <tr>\n",
       "      <th>1</th>\n",
       "      <td>2015-03-12T04:30:00.000Z</td>\n",
       "      <td>Golden State Warriors</td>\n",
       "      <td>Detroit Pistons</td>\n",
       "      <td>1.050000</td>\n",
       "      <td>11.520000</td>\n",
       "      <td>105</td>\n",
       "      <td>98</td>\n",
       "      <td>False</td>\n",
       "    </tr>\n",
       "    <tr>\n",
       "      <th>2</th>\n",
       "      <td>2015-03-12T04:30:00.000Z</td>\n",
       "      <td>Portland Trail Blazers</td>\n",
       "      <td>Houston Rockets</td>\n",
       "      <td>1.729927</td>\n",
       "      <td>2.160000</td>\n",
       "      <td>105</td>\n",
       "      <td>100</td>\n",
       "      <td>False</td>\n",
       "    </tr>\n",
       "    <tr>\n",
       "      <th>3</th>\n",
       "      <td>2015-03-12T04:00:00.000Z</td>\n",
       "      <td>Phoenix Suns</td>\n",
       "      <td>Minnesota Timberwolves</td>\n",
       "      <td>1.490196</td>\n",
       "      <td>2.720000</td>\n",
       "      <td>106</td>\n",
       "      <td>97</td>\n",
       "      <td>False</td>\n",
       "    </tr>\n",
       "    <tr>\n",
       "      <th>4</th>\n",
       "      <td>2015-03-12T03:00:00.000Z</td>\n",
       "      <td>Denver Nuggets</td>\n",
       "      <td>Atlanta Hawks</td>\n",
       "      <td>3.450000</td>\n",
       "      <td>1.330033</td>\n",
       "      <td>115</td>\n",
       "      <td>102</td>\n",
       "      <td>False</td>\n",
       "    </tr>\n",
       "  </tbody>\n",
       "</table>\n",
       "</div>"
      ],
      "text/plain": [
       "                  date_time               home_team               away_team  odd_home   odd_away  score_home  score_away overtime\n",
       "0  2015-03-13T01:00:00.000Z      Washington Wizards       Memphis Grizzlies  1.259740   4.030000         107          87    False\n",
       "1  2015-03-12T04:30:00.000Z   Golden State Warriors         Detroit Pistons  1.050000  11.520000         105          98    False\n",
       "2  2015-03-12T04:30:00.000Z  Portland Trail Blazers         Houston Rockets  1.729927   2.160000         105         100    False\n",
       "3  2015-03-12T04:00:00.000Z            Phoenix Suns  Minnesota Timberwolves  1.490196   2.720000         106          97    False\n",
       "4  2015-03-12T03:00:00.000Z          Denver Nuggets           Atlanta Hawks  3.450000   1.330033         115         102    False"
      ]
     },
     "execution_count": 34,
     "metadata": {},
     "output_type": "execute_result"
    }
   ],
   "source": [
    "g = df\n",
    "g.head()"
   ]
  },
  {
   "cell_type": "code",
   "execution_count": 35,
   "metadata": {
    "collapsed": false
   },
   "outputs": [
    {
     "data": {
      "text/plain": [
       "0    True\n",
       "1    True\n",
       "2    True\n",
       "3    True\n",
       "4    True\n",
       "dtype: bool"
      ]
     },
     "execution_count": 35,
     "metadata": {},
     "output_type": "execute_result"
    }
   ],
   "source": [
    "# Create a feature that says \"home team wins\"\n",
    "y = g[\"score_home\"]>g[\"score_away\"]\n",
    "y.head()"
   ]
  },
  {
   "cell_type": "code",
   "execution_count": 58,
   "metadata": {
    "collapsed": false
   },
   "outputs": [
    {
     "data": {
      "image/png": "[encoded data removed]",
      "text/plain": [
       "<matplotlib.figure.Figure at 0x7f0123dec190>"
      ]
     },
     "metadata": {},
     "output_type": "display_data"
    }
   ],
   "source": [
    "# Accuracy of classifier\n",
    "plt.hist(y, normed=True);"
   ]
  },
  {
   "cell_type": "markdown",
   "metadata": {},
   "source": [
    "The accuracy of the classifier \"the home team wins\" is already 60%."
   ]
  },
  {
   "cell_type": "code",
   "execution_count": 50,
   "metadata": {
    "collapsed": false
   },
   "outputs": [
    {
     "data": {
      "text/plain": [
       "array([ True,  True,  True, ...,  True, False,  True], dtype=bool)"
      ]
     },
     "execution_count": 50,
     "metadata": {},
     "output_type": "execute_result"
    }
   ],
   "source": [
    "# Create a feature that says \"the lowest odd wins\"\n",
    "n=len(g[\"odd_home\"])\n",
    "y = g[\"score_home\"]>g[\"score_away\"]\n",
    "y2=np.zeros(n)\n",
    "odd_winner=np.zeros(n)\n",
    "odd_looser=np.zeros(n)\n",
    "for id in range(n):\n",
    "    if y[id]:\n",
    "        odd_winner[id]=g[\"odd_home\"][id]\n",
    "        odd_looser[id]=g[\"odd_away\"][id]\n",
    "    else:\n",
    "        odd_winner[id]=g[\"odd_away\"][id]\n",
    "        odd_looser[id]=g[\"odd_home\"][id]\n",
    "\n",
    "y2 = odd_winner <= odd_looser\n",
    "y2"
   ]
  },
  {
   "cell_type": "code",
   "execution_count": 56,
   "metadata": {
    "collapsed": false
   },
   "outputs": [
    {
     "data": {
      "image/png": "[encoded data removed]",
      "text/plain": [
       "<matplotlib.figure.Figure at 0x7f01234e6110>"
      ]
     },
     "metadata": {},
     "output_type": "display_data"
    }
   ],
   "source": [
    "# Accuracy of classifier\n",
    "plt.hist(y2, normed=True);"
   ]
  },
  {
   "cell_type": "markdown",
   "metadata": {},
   "source": [
    "The accuracy of the classifier \"the lowest odd wins\" is already 70%."
   ]
  },
  {
   "cell_type": "code",
   "execution_count": 53,
   "metadata": {
    "collapsed": false
   },
   "outputs": [],
   "source": [
    "surprise = g.loc[y2==False]"
   ]
  },
  {
   "cell_type": "code",
   "execution_count": 55,
   "metadata": {
    "collapsed": false
   },
   "outputs": [
    {
     "data": {
      "image/png": "[encoded data removed]",
      "text/plain": [
       "<matplotlib.figure.Figure at 0x7f012411cd90>"
      ]
     },
     "metadata": {},
     "output_type": "display_data"
    }
   ],
   "source": [
    "plt.hist(surprise[\"odd_home\"], normed=True);"
   ]
  },
  {
   "cell_type": "code",
   "execution_count": 59,
   "metadata": {
    "collapsed": true
   },
   "outputs": [],
   "source": [
    "# Carry on error analysis on the surprise subset"
   ]
  },
  {
   "cell_type": "code",
   "execution_count": null,
   "metadata": {
    "collapsed": true
   },
   "outputs": [],
   "source": []
  }
 ],
 "metadata": {
  "kernelspec": {
   "display_name": "Python 2",
   "language": "python",
   "name": "python2"
  },
  "language_info": {
   "codemirror_mode": {
    "name": "ipython",
    "version": 2
   },
   "file_extension": ".py",
   "mimetype": "text/x-python",
   "name": "python",
   "nbconvert_exporter": "python",
   "pygments_lexer": "ipython2",
   "version": "2.7.11"
  }
 },
 "nbformat": 4,
 "nbformat_minor": 0
}
